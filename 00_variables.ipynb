{
 "cells": [
  {
   "cell_type": "markdown",
   "id": "e896c70c",
   "metadata": {},
   "source": [
    "## indentation and if conditions"
   ]
  },
  {
   "cell_type": "code",
   "execution_count": null,
   "id": "e59e7260",
   "metadata": {},
   "outputs": [],
   "source": [
    "a = 5\n",
    "b = 15\n",
    "c = 20.5\n",
    "\n",
    "# print(a < b)\n",
    "# if a < b:\n",
    "#     print(\"a jo hai wo b se chota hai\")\n",
    "\n",
    "# print(c < b)\n",
    "# if c < b:\n",
    "#     print(\"c jo hai wo b se chota hai\")\n",
    "# else:\n",
    "#     print(\"c jo hai wo b se bara hai\")\n",
    "\n"
   ]
  },
  {
   "cell_type": "markdown",
   "id": "73323fa9",
   "metadata": {},
   "source": [
    "## input / output program"
   ]
  },
  {
   "cell_type": "code",
   "execution_count": null,
   "id": "c17e97e9",
   "metadata": {},
   "outputs": [],
   "source": [
    "name = input(\"Enter your name please:\") # user input\n",
    "# print(name) # output\n",
    "\n",
    "print(\"Hello\", name, \",or sunao?\")"
   ]
  },
  {
   "cell_type": "markdown",
   "id": "6ea07fc5",
   "metadata": {},
   "source": [
    "## dual input program"
   ]
  },
  {
   "cell_type": "code",
   "execution_count": null,
   "id": "262a661c",
   "metadata": {},
   "outputs": [],
   "source": [
    "name_1 = input(\"Enter your name please:\")\n",
    "age_1 = input(\"please enter your age\")\n",
    "print(\"Hello\", name_1, \", your age is\",age_1 )"
   ]
  },
  {
   "cell_type": "code",
   "execution_count": null,
   "id": "1f33af42",
   "metadata": {},
   "outputs": [],
   "source": [
    "name_2 = input(\"Enter your name please:\")\n",
    "age_2 = input(\"please enter your age\")\n",
    "print(\"Hello\", name_2, \", your age is\",age_2 )"
   ]
  },
  {
   "cell_type": "code",
   "execution_count": null,
   "id": "fdd5fc0e",
   "metadata": {},
   "outputs": [],
   "source": [
    "if age_1 > age_2:\n",
    "    print(name_1, \"is older than\", name_2)\n",
    "else:\n",
    "    print(name_1, \"is younger than\", name_2)"
   ]
  },
  {
   "cell_type": "markdown",
   "id": "2303cc5e",
   "metadata": {},
   "source": [
    "## BMI calculator"
   ]
  },
  {
   "cell_type": "code",
   "execution_count": null,
   "id": "5f5440a1",
   "metadata": {},
   "outputs": [],
   "source": [
    "name_1 = input(\"Enter your name please:\")\n",
    "age_1 = float(input(\"please enter your age\"))\n",
    "weight_1 = float(input(\"please enter your weight\"))\n",
    "BMI_1 = age_1*weight_1\n",
    "print(\"Hello\", name_1, \", your BMI index is\",BMI_1 )"
   ]
  },
  {
   "cell_type": "code",
   "execution_count": null,
   "id": "39630b2c",
   "metadata": {},
   "outputs": [],
   "source": [
    "name_2 = input(\"Enter your name please:\")\n",
    "age_2 = float(input(\"please enter your age\"))\n",
    "weight_2 = float(input(\"please enter your weight\"))\n",
    "BMI_2 = age_2*weight_2\n",
    "print(\"Hello\", name_2, \", your BMI index is\",BMI_2 )"
   ]
  },
  {
   "cell_type": "code",
   "execution_count": null,
   "id": "19182609",
   "metadata": {},
   "outputs": [],
   "source": [
    "if BMI_1 > BMI_2:\n",
    "    print(name_1, \"is healthier than\", name_2)\n",
    "else:\n",
    "    print(name_1, \"is unhealthier than\", name_2)"
   ]
  },
  {
   "cell_type": "markdown",
   "id": "0037ee53",
   "metadata": {},
   "source": [
    "## data structure and indexing"
   ]
  },
  {
   "cell_type": "code",
   "execution_count": null,
   "id": "da687b1c",
   "metadata": {},
   "outputs": [],
   "source": [
    "# data structure\n",
    "#01- list\n",
    "# define a list\n",
    "# food = [\"Dahe Bhallay\", \"Biryani\", \"Samosa\", \"Daal\", \"Shami\", \"Palak paneer\"]\n",
    "# print(food)\n",
    "\n",
    "# print(food[-5])\n",
    "\n",
    "# food[1] = \"chicken pulao\"\n",
    "# print(food[-5])\n",
    "\n",
    "# print(food)"
   ]
  },
  {
   "cell_type": "markdown",
   "id": "35ee8ee6",
   "metadata": {},
   "source": [
    "## indexing"
   ]
  },
  {
   "cell_type": "code",
   "execution_count": null,
   "id": "e35a4db8",
   "metadata": {},
   "outputs": [],
   "source": [
    "# indexing is basically the position of element of data\n",
    "# in python the indexing is start from zero (0)\n",
    "# the index / position of \"Dahe Bhallay\"is zero(0), \"Biryani\"(1), \"Samosa\"(2), \"Daal\"(3), \"Shami\"(4), \"Palak paneer\"(5)\n",
    "# the index / position of \"Dahe Bhallay\"is minus six (-6), \"Biryani\"(-5), \"Samosa\"(-4), \"Daal\"(-3), \"Shami\"(-2), \"Palak paneer\"(-1)"
   ]
  },
  {
   "cell_type": "code",
   "execution_count": null,
   "id": "4458a303",
   "metadata": {},
   "outputs": [],
   "source": [
    "# # 02 - tuple\n",
    "# coordinates = (4.24, 9.29)\n",
    "# print(coordinates[0])"
   ]
  },
  {
   "cell_type": "markdown",
   "id": "46037602",
   "metadata": {},
   "source": [
    "data structures and indexing in python | #pythonkachilla #aikachilla #python\n",
    "12:34/21:41"
   ]
  },
  {
   "cell_type": "code",
   "execution_count": null,
   "id": "f3f0cf7d",
   "metadata": {},
   "outputs": [],
   "source": [
    "# 03 - set\n",
    "food_set = {\"Dahe Bhallay\", \"Biryani\", \"Samosa\", \"Daal\", \"Shami\", \"Palak paneer\"}\n",
    "print(food_set)"
   ]
  },
  {
   "cell_type": "code",
   "execution_count": null,
   "id": "659b7208",
   "metadata": {},
   "outputs": [],
   "source": [
    "# Replace / change of item in set\n",
    "food_set[1] = \"chicken pulao\"\n",
    "print(food_set[-5])\n",
    "\n",
    "print(food_set)\n"
   ]
  },
  {
   "cell_type": "code",
   "execution_count": null,
   "id": "bcdb1068",
   "metadata": {},
   "outputs": [],
   "source": [
    "# adding item in food set\n",
    "food_set.add('pakora')\n",
    "print(food_set)\n"
   ]
  },
  {
   "cell_type": "code",
   "execution_count": null,
   "id": "27e83123",
   "metadata": {},
   "outputs": [],
   "source": [
    "# 04 - dictionary\n",
    "car = {'brand':'Ford', 'model':'mustang', 'year':'1964'}\n",
    "\n",
    "car['brand'] = 'bmw'\n",
    "\n",
    "print(car['brand'])\n",
    "print(car)"
   ]
  },
  {
   "cell_type": "markdown",
   "id": "9281018c",
   "metadata": {},
   "source": [
    "## control flow statement"
   ]
  },
  {
   "cell_type": "markdown",
   "id": "c6b1e8f8",
   "metadata": {},
   "source": [
    "### conditional statements"
   ]
  },
  {
   "cell_type": "code",
   "execution_count": null,
   "id": "05aea836",
   "metadata": {},
   "outputs": [],
   "source": [
    "# comparision operators\n",
    ">\n",
    "<\n",
    "==\n",
    "!=\n"
   ]
  },
  {
   "cell_type": "code",
   "execution_count": null,
   "id": "9b689ca5",
   "metadata": {},
   "outputs": [],
   "source": [
    "# x = -2\n",
    "\n",
    "# if x > 0:\n",
    "#     print(\"x is positive\")\n",
    "# elif x < 0:\n",
    "#     print(\"x is negative\") \n",
    "# else:\n",
    "#     print(\"x is zero\")"
   ]
  },
  {
   "cell_type": "code",
   "execution_count": null,
   "id": "d07e3a81",
   "metadata": {},
   "outputs": [],
   "source": [
    "# # for loop\n",
    "\n",
    "# menu = [\"Dahe Bhallay\", \"Biryani\", \"Samosa\", \"Daal\", \"Shami\", \"Palak paneer\"]\n",
    "# for item in menu:\n",
    "#     print(item) "
   ]
  },
  {
   "cell_type": "code",
   "execution_count": null,
   "id": "d923eaf9",
   "metadata": {},
   "outputs": [],
   "source": [
    "# while loop\n",
    "\n",
    "# i = 1\n",
    "# while i < 10:\n",
    "#     print(i)\n",
    "#     i = i+1\n"
   ]
  },
  {
   "cell_type": "code",
   "execution_count": null,
   "id": "83e272de",
   "metadata": {},
   "outputs": [],
   "source": [
    "# # control statement of break\n",
    "\n",
    "# for letters in \"python\":\n",
    "#     if letters == 'h':\n",
    "#         break\n",
    "#     print(letters)\n"
   ]
  },
  {
   "cell_type": "code",
   "execution_count": null,
   "id": "2931666b",
   "metadata": {},
   "outputs": [],
   "source": [
    "# # control statement of continue\n",
    "\n",
    "# for letters in \"python\":\n",
    "#     if letters == 'h':\n",
    "#         continue\n",
    "#     print(letters)\n"
   ]
  },
  {
   "cell_type": "code",
   "execution_count": null,
   "id": "a0e1b97d",
   "metadata": {},
   "outputs": [],
   "source": [
    "# control statement of pass\n",
    "\n",
    "# for letters in \"python\":\n",
    "#     if letters == 'h':\n",
    "#         pass\n",
    "#     print(letters)\n"
   ]
  },
  {
   "cell_type": "markdown",
   "id": "93ad7819",
   "metadata": {},
   "source": [
    "# nested loop"
   ]
  },
  {
   "cell_type": "code",
   "execution_count": null,
   "id": "d80eb59f",
   "metadata": {},
   "outputs": [],
   "source": [
    "# nested for loop\n",
    "\n",
    "# colors = [\"red\", \"green\", \"blue\"]\n",
    "# items = [\"book\",\"pen\",\"copy\"]\n",
    "\n",
    "# for color in colors:\n",
    "#     for item in items:\n",
    "#         print(color, item)"
   ]
  },
  {
   "cell_type": "markdown",
   "id": "ad6e8018",
   "metadata": {},
   "source": [
    "Nested loops in Python | #python #aikachilla #pythonkachilla \\\n",
    "4:00/15:52"
   ]
  },
  {
   "cell_type": "code",
   "execution_count": null,
   "id": "b3d5bff2",
   "metadata": {},
   "outputs": [],
   "source": [
    "# nested while loop\n",
    "\n",
    "# i=0\n",
    "# while i < 3:\n",
    "#     j = 0\n",
    "#     while j < 3:\n",
    "#         print(i,j)\n",
    "#         j = 1+j\n",
    "#     i = 1+ i\n"
   ]
  },
  {
   "cell_type": "code",
   "execution_count": null,
   "id": "0cc6ff7a",
   "metadata": {},
   "outputs": [],
   "source": [
    "# for loop inside while loop\n",
    "\n",
    "# i=0\n",
    "# while i < 4:\n",
    "#     for j in range(3):\n",
    "#         print(i,j)\n",
    "#     i = 1+i"
   ]
  },
  {
   "cell_type": "code",
   "execution_count": null,
   "id": "795768fa",
   "metadata": {},
   "outputs": [],
   "source": [
    "# while loop inside for loop\n",
    "\n",
    "for j in range(3):\n",
    "    i=0\n",
    "    while i < 4:\n",
    "        print(i,j)\n",
    "        i = 1+i\n"
   ]
  },
  {
   "cell_type": "markdown",
   "id": "a8eed9d9",
   "metadata": {},
   "source": [
    "## continue"
   ]
  }
 ],
 "metadata": {
  "kernelspec": {
   "display_name": "python_edanalysis",
   "language": "python",
   "name": "python3"
  },
  "language_info": {
   "codemirror_mode": {
    "name": "ipython",
    "version": 3
   },
   "file_extension": ".py",
   "mimetype": "text/x-python",
   "name": "python",
   "nbconvert_exporter": "python",
   "pygments_lexer": "ipython3",
   "version": "3.12.4"
  }
 },
 "nbformat": 4,
 "nbformat_minor": 5
}
