{
 "cells": [
  {
   "cell_type": "markdown",
   "id": "312b1a91",
   "metadata": {
    "papermill": {
     "duration": 0.035322,
     "end_time": "2023-03-21T20:15:50.197172",
     "exception": false,
     "start_time": "2023-03-21T20:15:50.161850",
     "status": "completed"
    },
    "tags": []
   },
   "source": [
    "# 1.0 About Author\n",
    "- Project: Apple App Store Data\n",
    "- Author: Azam Bukhari\n",
    "- Code Submission Date: 14-03-2023\n",
    "- Author's Contact Info:\\\n",
    "[Email](azam.bukhari@gmail.com)\\\n",
    "[Github](https://github.com/AzamBukhari)\\\n",
    "[kaggle](https://www.kaggle.com/azambukhari)\\\n",
    "[Linkedin](https://www.linkedin.com/in/azambukhari)\\\n",
    "[twitter](https://twitter.com/AzamBukhari1)\\\n",
    "[Medium](https://medium.com/@azam.bukhari)"
   ]
  },
  {
   "cell_type": "markdown",
   "id": "421e5013",
   "metadata": {
    "papermill": {
     "duration": 0.028254,
     "end_time": "2023-03-21T20:15:50.255346",
     "exception": false,
     "start_time": "2023-03-21T20:15:50.227092",
     "status": "completed"
    },
    "tags": []
   },
   "source": [
    "# 2.0 About Data\n",
    "- Data: Apple AppStore\n",
    "- Data Age: The data was collected in the month of October 2021.\n",
    "- **Dataset:** 🔗 [*link*](https://www.kaggle.com/datasets/gauthamp10/apple-appstore-apps)\n",
    "## 2.1 Task:\n",
    "We intend to conduct an Exploratory Data Analysis (EDA) on the given dataset. The EDA will serve as the basis for the necessary Data Wrangling activities to be carried out for the purposes of data cleaning and normalization. During the coding process, we will document our observations. Ultimately, we will produce a summary and draw conclusions from our findings\n",
    "\n",
    "## 2.2 Objectives:\n",
    "The primary aim of this project is to conduct a thorough analysis of the dataset to identify significant insights. The ultimate goal is to project and emphasize customer dynamics and demands to developers and other relevant stakeholders. This will assist in driving more business towards their upcoming applications.\n",
    "\n",
    "## 2.3 Kernel Version Used:\n",
    "- Python 3.11.1"
   ]
  },
  {
   "cell_type": "markdown",
   "id": "46c12561",
   "metadata": {
    "papermill": {
     "duration": 0.028291,
     "end_time": "2023-03-21T20:15:50.312289",
     "exception": false,
     "start_time": "2023-03-21T20:15:50.283998",
     "status": "completed"
    },
    "tags": []
   },
   "source": [
    "## 3.0 *Import Libraries*\n",
    "- We will use the follwoing libraries\n",
    "    1. Pandas: Data manipulation and analysis library.\n",
    "    2. Numpy: Numerical computing library.\n",
    "    3. Matplotlib: Data visualization library.\n",
    "    4. Seaborn: Statistical data visualization library.\n",
    "    5. Scipy:  To provide a comprehensive set of numerical algorithms and tools for scientific computing in Python.\n"
   ]
  },
  {
   "cell_type": "code",
   "execution_count": 2,
   "id": "f117754a",
   "metadata": {
    "execution": {
     "iopub.execute_input": "2023-03-21T20:15:50.371802Z",
     "iopub.status.busy": "2023-03-21T20:15:50.370953Z",
     "iopub.status.idle": "2023-03-21T20:15:51.662515Z",
     "shell.execute_reply": "2023-03-21T20:15:51.661058Z"
    },
    "papermill": {
     "duration": 1.324698,
     "end_time": "2023-03-21T20:15:51.665528",
     "exception": false,
     "start_time": "2023-03-21T20:15:50.340830",
     "status": "completed"
    },
    "tags": []
   },
   "outputs": [],
   "source": [
    "import pandas as pd\n",
    "import numpy as np\n",
    "\n",
    "# visualization libraries\n",
    "import matplotlib.pyplot as plt\n",
    "import seaborn as sns\n",
    "# %matplotlib inline\n",
    "# for scientific and statistical computing\n",
    "import scipy as sp"
   ]
  },
  {
   "cell_type": "markdown",
   "id": "466fd6f5",
   "metadata": {
    "papermill": {
     "duration": 0.030275,
     "end_time": "2023-03-21T20:15:51.725539",
     "exception": false,
     "start_time": "2023-03-21T20:15:51.695264",
     "status": "completed"
    },
    "tags": []
   },
   "source": [
    "## 4.0  Data Loading, Exploration & Wrangling\n",
    "\n",
    "We will proceed as follow:\n",
    "### 4.1 Load the csv file with the pandas\n",
    " \n",
    "### 4.2 Creating the dataframe and understanding the data present in the dataset\n",
    " \n",
    "### 4.3 Dealing with the missing data and the incorrect records\n"
   ]
  },
  {
   "cell_type": "code",
   "execution_count": 3,
   "id": "77062f58",
   "metadata": {
    "execution": {
     "iopub.execute_input": "2023-03-21T20:15:51.787493Z",
     "iopub.status.busy": "2023-03-21T20:15:51.787076Z",
     "iopub.status.idle": "2023-03-21T20:16:09.203390Z",
     "shell.execute_reply": "2023-03-21T20:16:09.202201Z"
    },
    "papermill": {
     "duration": 17.452018,
     "end_time": "2023-03-21T20:16:09.206900",
     "exception": false,
     "start_time": "2023-03-21T20:15:51.754882",
     "status": "completed"
    },
    "tags": []
   },
   "outputs": [],
   "source": [
    "# Load dataset\n",
    "df = pd.read_csv('./data/appleAppData.csv')"
   ]
  },
  {
   "cell_type": "markdown",
   "id": "5a90ebe9",
   "metadata": {
    "papermill": {
     "duration": 0.02916,
     "end_time": "2023-03-21T20:16:09.266470",
     "exception": false,
     "start_time": "2023-03-21T20:16:09.237310",
     "status": "completed"
    },
    "tags": []
   },
   "source": [
    "### 4.4 Analysing & describing the dataset\n",
    "\n",
    "This code snippet helps you get a complete overview of your data by adjusting a key display setting in Pandas. By setting the option to show all columns, you can ensure that no valuable information is overlooked when working with dataframes. Whether you're exploring data, conducting analyses or simply trying to get a better sense of your data, this simple line of code can make a big difference."
   ]
  },
  {
   "cell_type": "code",
   "execution_count": 4,
   "id": "84ded275",
   "metadata": {
    "execution": {
     "iopub.execute_input": "2023-03-21T20:16:09.327819Z",
     "iopub.status.busy": "2023-03-21T20:16:09.327070Z",
     "iopub.status.idle": "2023-03-21T20:16:09.333429Z",
     "shell.execute_reply": "2023-03-21T20:16:09.331887Z"
    },
    "papermill": {
     "duration": 0.041196,
     "end_time": "2023-03-21T20:16:09.336846",
     "exception": false,
     "start_time": "2023-03-21T20:16:09.295650",
     "status": "completed"
    },
    "tags": []
   },
   "outputs": [],
   "source": [
    "pd.set_option('display.max_columns', None)"
   ]
  },
  {
   "cell_type": "markdown",
   "id": "42e96bf2",
   "metadata": {
    "papermill": {
     "duration": 0.029933,
     "end_time": "2023-03-21T20:16:09.396778",
     "exception": false,
     "start_time": "2023-03-21T20:16:09.366845",
     "status": "completed"
    },
    "tags": []
   },
   "source": [
    "### 4.5 Get a sneak peek of your data \n",
    "With just a single line of code! Quickly view the top rows of your dataset to get a sense of what you're working with, without having to scroll through the entire file."
   ]
  },
  {
   "cell_type": "code",
   "execution_count": 5,
   "id": "13c94bcc",
   "metadata": {
    "execution": {
     "iopub.execute_input": "2023-03-21T20:16:09.459124Z",
     "iopub.status.busy": "2023-03-21T20:16:09.458515Z",
     "iopub.status.idle": "2023-03-21T20:16:09.501362Z",
     "shell.execute_reply": "2023-03-21T20:16:09.500026Z"
    },
    "papermill": {
     "duration": 0.078289,
     "end_time": "2023-03-21T20:16:09.504749",
     "exception": false,
     "start_time": "2023-03-21T20:16:09.426460",
     "status": "completed"
    },
    "tags": []
   },
   "outputs": [
    {
     "data": {
      "text/html": [
       "<div>\n",
       "<style scoped>\n",
       "    .dataframe tbody tr th:only-of-type {\n",
       "        vertical-align: middle;\n",
       "    }\n",
       "\n",
       "    .dataframe tbody tr th {\n",
       "        vertical-align: top;\n",
       "    }\n",
       "\n",
       "    .dataframe thead th {\n",
       "        text-align: right;\n",
       "    }\n",
       "</style>\n",
       "<table border=\"1\" class=\"dataframe\">\n",
       "  <thead>\n",
       "    <tr style=\"text-align: right;\">\n",
       "      <th></th>\n",
       "      <th>App_Id</th>\n",
       "      <th>App_Name</th>\n",
       "      <th>AppStore_Url</th>\n",
       "      <th>Primary_Genre</th>\n",
       "      <th>Content_Rating</th>\n",
       "      <th>Size_Bytes</th>\n",
       "      <th>Required_IOS_Version</th>\n",
       "      <th>Released</th>\n",
       "      <th>Updated</th>\n",
       "      <th>Version</th>\n",
       "      <th>Price</th>\n",
       "      <th>Currency</th>\n",
       "      <th>Free</th>\n",
       "      <th>DeveloperId</th>\n",
       "      <th>Developer</th>\n",
       "      <th>Developer_Url</th>\n",
       "      <th>Developer_Website</th>\n",
       "      <th>Average_User_Rating</th>\n",
       "      <th>Reviews</th>\n",
       "      <th>Current_Version_Score</th>\n",
       "      <th>Current_Version_Reviews</th>\n",
       "    </tr>\n",
       "  </thead>\n",
       "  <tbody>\n",
       "    <tr>\n",
       "      <th>0</th>\n",
       "      <td>com.hkbu.arc.apaper</td>\n",
       "      <td>A+ Paper Guide</td>\n",
       "      <td>https://apps.apple.com/us/app/a-paper-guide/id...</td>\n",
       "      <td>Education</td>\n",
       "      <td>4+</td>\n",
       "      <td>21993472.0</td>\n",
       "      <td>8.0</td>\n",
       "      <td>2017-09-28T03:02:41Z</td>\n",
       "      <td>2018-12-21T21:30:36Z</td>\n",
       "      <td>1.1.2</td>\n",
       "      <td>0.00</td>\n",
       "      <td>USD</td>\n",
       "      <td>True</td>\n",
       "      <td>1375410542</td>\n",
       "      <td>HKBU ARC</td>\n",
       "      <td>https://apps.apple.com/us/developer/hkbu-arc/i...</td>\n",
       "      <td>NaN</td>\n",
       "      <td>0.0</td>\n",
       "      <td>0</td>\n",
       "      <td>0.0</td>\n",
       "      <td>0</td>\n",
       "    </tr>\n",
       "    <tr>\n",
       "      <th>1</th>\n",
       "      <td>com.dmitriev.abooks</td>\n",
       "      <td>A-Books</td>\n",
       "      <td>https://apps.apple.com/us/app/a-books/id103157...</td>\n",
       "      <td>Book</td>\n",
       "      <td>4+</td>\n",
       "      <td>13135872.0</td>\n",
       "      <td>10.0</td>\n",
       "      <td>2015-08-31T19:31:32Z</td>\n",
       "      <td>2019-07-23T20:31:09Z</td>\n",
       "      <td>1.3</td>\n",
       "      <td>0.00</td>\n",
       "      <td>USD</td>\n",
       "      <td>True</td>\n",
       "      <td>1031572001</td>\n",
       "      <td>Roman Dmitriev</td>\n",
       "      <td>https://apps.apple.com/us/developer/roman-dmit...</td>\n",
       "      <td>NaN</td>\n",
       "      <td>5.0</td>\n",
       "      <td>1</td>\n",
       "      <td>5.0</td>\n",
       "      <td>1</td>\n",
       "    </tr>\n",
       "    <tr>\n",
       "      <th>2</th>\n",
       "      <td>no.terp.abooks</td>\n",
       "      <td>A-books</td>\n",
       "      <td>https://apps.apple.com/us/app/a-books/id145702...</td>\n",
       "      <td>Book</td>\n",
       "      <td>4+</td>\n",
       "      <td>21943296.0</td>\n",
       "      <td>9.0</td>\n",
       "      <td>2021-04-14T07:00:00Z</td>\n",
       "      <td>2021-05-30T21:08:54Z</td>\n",
       "      <td>1.3.1</td>\n",
       "      <td>0.00</td>\n",
       "      <td>USD</td>\n",
       "      <td>True</td>\n",
       "      <td>1457024163</td>\n",
       "      <td>Terp AS</td>\n",
       "      <td>https://apps.apple.com/us/developer/terp-as/id...</td>\n",
       "      <td>NaN</td>\n",
       "      <td>0.0</td>\n",
       "      <td>0</td>\n",
       "      <td>0.0</td>\n",
       "      <td>0</td>\n",
       "    </tr>\n",
       "    <tr>\n",
       "      <th>3</th>\n",
       "      <td>fr.antoinettefleur.Book1</td>\n",
       "      <td>A-F Book #1</td>\n",
       "      <td>https://apps.apple.com/us/app/a-f-book-1/id500...</td>\n",
       "      <td>Book</td>\n",
       "      <td>4+</td>\n",
       "      <td>81851392.0</td>\n",
       "      <td>8.0</td>\n",
       "      <td>2012-02-10T03:40:07Z</td>\n",
       "      <td>2019-10-29T12:40:37Z</td>\n",
       "      <td>1.2</td>\n",
       "      <td>2.99</td>\n",
       "      <td>USD</td>\n",
       "      <td>False</td>\n",
       "      <td>439568839</td>\n",
       "      <td>i-editeur.com</td>\n",
       "      <td>https://apps.apple.com/us/developer/i-editeur-...</td>\n",
       "      <td>NaN</td>\n",
       "      <td>0.0</td>\n",
       "      <td>0</td>\n",
       "      <td>0.0</td>\n",
       "      <td>0</td>\n",
       "    </tr>\n",
       "    <tr>\n",
       "      <th>4</th>\n",
       "      <td>com.imonstersoft.azdictionaryios</td>\n",
       "      <td>A-Z Synonyms Dictionary</td>\n",
       "      <td>https://apps.apple.com/us/app/a-z-synonyms-dic...</td>\n",
       "      <td>Reference</td>\n",
       "      <td>4+</td>\n",
       "      <td>64692224.0</td>\n",
       "      <td>9.0</td>\n",
       "      <td>2020-12-16T08:00:00Z</td>\n",
       "      <td>2020-12-18T21:36:11Z</td>\n",
       "      <td>1.0.1</td>\n",
       "      <td>0.00</td>\n",
       "      <td>USD</td>\n",
       "      <td>True</td>\n",
       "      <td>656731821</td>\n",
       "      <td>Ngov chiheang</td>\n",
       "      <td>https://apps.apple.com/us/developer/ngov-chihe...</td>\n",
       "      <td>http://imonstersoft.com</td>\n",
       "      <td>0.0</td>\n",
       "      <td>0</td>\n",
       "      <td>0.0</td>\n",
       "      <td>0</td>\n",
       "    </tr>\n",
       "  </tbody>\n",
       "</table>\n",
       "</div>"
      ],
      "text/plain": [
       "                             App_Id                 App_Name  \\\n",
       "0               com.hkbu.arc.apaper           A+ Paper Guide   \n",
       "1               com.dmitriev.abooks                  A-Books   \n",
       "2                    no.terp.abooks                  A-books   \n",
       "3          fr.antoinettefleur.Book1              A-F Book #1   \n",
       "4  com.imonstersoft.azdictionaryios  A-Z Synonyms Dictionary   \n",
       "\n",
       "                                        AppStore_Url Primary_Genre  \\\n",
       "0  https://apps.apple.com/us/app/a-paper-guide/id...     Education   \n",
       "1  https://apps.apple.com/us/app/a-books/id103157...          Book   \n",
       "2  https://apps.apple.com/us/app/a-books/id145702...          Book   \n",
       "3  https://apps.apple.com/us/app/a-f-book-1/id500...          Book   \n",
       "4  https://apps.apple.com/us/app/a-z-synonyms-dic...     Reference   \n",
       "\n",
       "  Content_Rating  Size_Bytes Required_IOS_Version              Released  \\\n",
       "0             4+  21993472.0                  8.0  2017-09-28T03:02:41Z   \n",
       "1             4+  13135872.0                 10.0  2015-08-31T19:31:32Z   \n",
       "2             4+  21943296.0                  9.0  2021-04-14T07:00:00Z   \n",
       "3             4+  81851392.0                  8.0  2012-02-10T03:40:07Z   \n",
       "4             4+  64692224.0                  9.0  2020-12-16T08:00:00Z   \n",
       "\n",
       "                Updated Version  Price Currency   Free  DeveloperId  \\\n",
       "0  2018-12-21T21:30:36Z   1.1.2   0.00      USD   True   1375410542   \n",
       "1  2019-07-23T20:31:09Z     1.3   0.00      USD   True   1031572001   \n",
       "2  2021-05-30T21:08:54Z   1.3.1   0.00      USD   True   1457024163   \n",
       "3  2019-10-29T12:40:37Z     1.2   2.99      USD  False    439568839   \n",
       "4  2020-12-18T21:36:11Z   1.0.1   0.00      USD   True    656731821   \n",
       "\n",
       "        Developer                                      Developer_Url  \\\n",
       "0        HKBU ARC  https://apps.apple.com/us/developer/hkbu-arc/i...   \n",
       "1  Roman Dmitriev  https://apps.apple.com/us/developer/roman-dmit...   \n",
       "2         Terp AS  https://apps.apple.com/us/developer/terp-as/id...   \n",
       "3   i-editeur.com  https://apps.apple.com/us/developer/i-editeur-...   \n",
       "4   Ngov chiheang  https://apps.apple.com/us/developer/ngov-chihe...   \n",
       "\n",
       "         Developer_Website  Average_User_Rating  Reviews  \\\n",
       "0                      NaN                  0.0        0   \n",
       "1                      NaN                  5.0        1   \n",
       "2                      NaN                  0.0        0   \n",
       "3                      NaN                  0.0        0   \n",
       "4  http://imonstersoft.com                  0.0        0   \n",
       "\n",
       "   Current_Version_Score  Current_Version_Reviews  \n",
       "0                    0.0                        0  \n",
       "1                    5.0                        1  \n",
       "2                    0.0                        0  \n",
       "3                    0.0                        0  \n",
       "4                    0.0                        0  "
      ]
     },
     "execution_count": 5,
     "metadata": {},
     "output_type": "execute_result"
    }
   ],
   "source": [
    "df.head(5)"
   ]
  },
  {
   "cell_type": "markdown",
   "id": "1b63afed",
   "metadata": {
    "papermill": {
     "duration": 0.02927,
     "end_time": "2023-03-21T20:16:09.564509",
     "exception": false,
     "start_time": "2023-03-21T20:16:09.535239",
     "status": "completed"
    },
    "tags": []
   },
   "source": [
    "### 4.6 View the column names"
   ]
  },
  {
   "cell_type": "code",
   "execution_count": 6,
   "id": "df55c605",
   "metadata": {
    "execution": {
     "iopub.execute_input": "2023-03-21T20:16:09.626488Z",
     "iopub.status.busy": "2023-03-21T20:16:09.625133Z",
     "iopub.status.idle": "2023-03-21T20:16:09.632407Z",
     "shell.execute_reply": "2023-03-21T20:16:09.630814Z"
    },
    "papermill": {
     "duration": 0.041375,
     "end_time": "2023-03-21T20:16:09.635366",
     "exception": false,
     "start_time": "2023-03-21T20:16:09.593991",
     "status": "completed"
    },
    "tags": []
   },
   "outputs": [
    {
     "name": "stdout",
     "output_type": "stream",
     "text": [
      "['App_Id' 'App_Name' 'AppStore_Url' 'Primary_Genre' 'Content_Rating'\n",
      " 'Size_Bytes' 'Required_IOS_Version' 'Released' 'Updated' 'Version'\n",
      " 'Price' 'Currency' 'Free' 'DeveloperId' 'Developer' 'Developer_Url'\n",
      " 'Developer_Website' 'Average_User_Rating' 'Reviews'\n",
      " 'Current_Version_Score' 'Current_Version_Reviews']\n"
     ]
    }
   ],
   "source": [
    "#View the column names, alternatively we can also use df.columns\n",
    "print(df.columns.values)"
   ]
  },
  {
   "cell_type": "markdown",
   "id": "33e66a93",
   "metadata": {
    "papermill": {
     "duration": 0.029141,
     "end_time": "2023-03-21T20:16:09.694150",
     "exception": false,
     "start_time": "2023-03-21T20:16:09.665009",
     "status": "completed"
    },
    "tags": []
   },
   "source": [
    "### 4.7 View the shape of the dataset"
   ]
  },
  {
   "cell_type": "code",
   "execution_count": 7,
   "id": "51410290",
   "metadata": {
    "execution": {
     "iopub.execute_input": "2023-03-21T20:16:09.758000Z",
     "iopub.status.busy": "2023-03-21T20:16:09.757482Z",
     "iopub.status.idle": "2023-03-21T20:16:09.766136Z",
     "shell.execute_reply": "2023-03-21T20:16:09.763759Z"
    },
    "papermill": {
     "duration": 0.044602,
     "end_time": "2023-03-21T20:16:09.769785",
     "exception": false,
     "start_time": "2023-03-21T20:16:09.725183",
     "status": "completed"
    },
    "tags": []
   },
   "outputs": [
    {
     "name": "stdout",
     "output_type": "stream",
     "text": [
      "The dataframe has 1230376 rows and 21 columns\n"
     ]
    }
   ],
   "source": [
    "#view the shape of the data, number of rows & columns\n",
    "print(f\"The dataframe has {df.shape[0]} rows and {df.shape[1]} columns\")"
   ]
  },
  {
   "cell_type": "markdown",
   "id": "0dc05500",
   "metadata": {
    "papermill": {
     "duration": 0.030315,
     "end_time": "2023-03-21T20:16:09.829997",
     "exception": false,
     "start_time": "2023-03-21T20:16:09.799682",
     "status": "completed"
    },
    "tags": []
   },
   "source": [
    "*The dataset has more than 21 columns/attributes*"
   ]
  },
  {
   "cell_type": "markdown",
   "id": "2ded625b",
   "metadata": {
    "papermill": {
     "duration": 0.029813,
     "end_time": "2023-03-21T20:16:09.890353",
     "exception": false,
     "start_time": "2023-03-21T20:16:09.860540",
     "status": "completed"
    },
    "tags": []
   },
   "source": [
    "#### Observation Set 1:\n",
    "> Attributes Released, Updated are date & time data type in UTC format.\n",
    "\n",
    "- The T doesn’t really stand for anything. It is just the separator that the ISO 8601 combined date-time format requires. \n",
    "- You can read it as an abbreviation for Time. The Z stands for the Zero timezone, as it is offset by 0 from the Coordinated Universal Time (UTC).\n",
    "\n",
    "> Column Names Are:\n",
    "\n",
    "*'App_Id' 'App_Name' 'AppStore_Url' 'Primary_Genre' 'Content_Rating'\n",
    " 'Size_Bytes' 'Required_IOS_Version' 'Released' 'Updated' 'Version'\n",
    " 'Price' 'Currency' 'Free' 'DeveloperId' 'Developer' 'Developer_Url'\n",
    " 'Developer_Website' 'Average_User_Rating' 'Reviews'\n",
    " 'Current_Version_Score' 'Current_Version_Reviews'*"
   ]
  },
  {
   "cell_type": "code",
   "execution_count": 8,
   "id": "87ef92ad",
   "metadata": {
    "execution": {
     "iopub.execute_input": "2023-03-21T20:16:09.951971Z",
     "iopub.status.busy": "2023-03-21T20:16:09.951510Z",
     "iopub.status.idle": "2023-03-21T20:16:10.799174Z",
     "shell.execute_reply": "2023-03-21T20:16:10.797418Z"
    },
    "papermill": {
     "duration": 0.88236,
     "end_time": "2023-03-21T20:16:10.802589",
     "exception": false,
     "start_time": "2023-03-21T20:16:09.920229",
     "status": "completed"
    },
    "tags": []
   },
   "outputs": [
    {
     "name": "stdout",
     "output_type": "stream",
     "text": [
      "<class 'pandas.core.frame.DataFrame'>\n",
      "RangeIndex: 1230376 entries, 0 to 1230375\n",
      "Data columns (total 21 columns):\n",
      " #   Column                   Non-Null Count    Dtype  \n",
      "---  ------                   --------------    -----  \n",
      " 0   App_Id                   1230376 non-null  object \n",
      " 1   App_Name                 1230375 non-null  object \n",
      " 2   AppStore_Url             1230376 non-null  object \n",
      " 3   Primary_Genre            1230376 non-null  object \n",
      " 4   Content_Rating           1230376 non-null  object \n",
      " 5   Size_Bytes               1230152 non-null  float64\n",
      " 6   Required_IOS_Version     1230376 non-null  object \n",
      " 7   Released                 1230373 non-null  object \n",
      " 8   Updated                  1230376 non-null  object \n",
      " 9   Version                  1230376 non-null  object \n",
      " 10  Price                    1229886 non-null  float64\n",
      " 11  Currency                 1230376 non-null  object \n",
      " 12  Free                     1230376 non-null  bool   \n",
      " 13  DeveloperId              1230376 non-null  int64  \n",
      " 14  Developer                1230376 non-null  object \n",
      " 15  Developer_Url            1229267 non-null  object \n",
      " 16  Developer_Website        586388 non-null   object \n",
      " 17  Average_User_Rating      1230376 non-null  float64\n",
      " 18  Reviews                  1230376 non-null  int64  \n",
      " 19  Current_Version_Score    1230376 non-null  float64\n",
      " 20  Current_Version_Reviews  1230376 non-null  int64  \n",
      "dtypes: bool(1), float64(4), int64(3), object(13)\n",
      "memory usage: 188.9+ MB\n"
     ]
    }
   ],
   "source": [
    "df.info()"
   ]
  },
  {
   "cell_type": "markdown",
   "id": "483967dc",
   "metadata": {
    "papermill": {
     "duration": 0.029781,
     "end_time": "2023-03-21T20:16:10.864180",
     "exception": false,
     "start_time": "2023-03-21T20:16:10.834399",
     "status": "completed"
    },
    "tags": []
   },
   "source": [
    "### 4.8 Descriptive Statistics\n",
    "We use descriptive statistics to summarize and understand the key features of dataset."
   ]
  },
  {
   "cell_type": "code",
   "execution_count": 9,
   "id": "99bc3895",
   "metadata": {
    "execution": {
     "iopub.execute_input": "2023-03-21T20:16:10.929216Z",
     "iopub.status.busy": "2023-03-21T20:16:10.928787Z",
     "iopub.status.idle": "2023-03-21T20:16:11.334678Z",
     "shell.execute_reply": "2023-03-21T20:16:11.333639Z"
    },
    "papermill": {
     "duration": 0.441647,
     "end_time": "2023-03-21T20:16:11.337337",
     "exception": false,
     "start_time": "2023-03-21T20:16:10.895690",
     "status": "completed"
    },
    "tags": []
   },
   "outputs": [
    {
     "data": {
      "text/html": [
       "<div>\n",
       "<style scoped>\n",
       "    .dataframe tbody tr th:only-of-type {\n",
       "        vertical-align: middle;\n",
       "    }\n",
       "\n",
       "    .dataframe tbody tr th {\n",
       "        vertical-align: top;\n",
       "    }\n",
       "\n",
       "    .dataframe thead th {\n",
       "        text-align: right;\n",
       "    }\n",
       "</style>\n",
       "<table border=\"1\" class=\"dataframe\">\n",
       "  <thead>\n",
       "    <tr style=\"text-align: right;\">\n",
       "      <th></th>\n",
       "      <th>Size_Bytes</th>\n",
       "      <th>Price</th>\n",
       "      <th>DeveloperId</th>\n",
       "      <th>Average_User_Rating</th>\n",
       "      <th>Reviews</th>\n",
       "      <th>Current_Version_Score</th>\n",
       "      <th>Current_Version_Reviews</th>\n",
       "    </tr>\n",
       "  </thead>\n",
       "  <tbody>\n",
       "    <tr>\n",
       "      <th>count</th>\n",
       "      <td>1.230152e+06</td>\n",
       "      <td>1.229886e+06</td>\n",
       "      <td>1.230376e+06</td>\n",
       "      <td>1.230376e+06</td>\n",
       "      <td>1.230376e+06</td>\n",
       "      <td>1.230376e+06</td>\n",
       "      <td>1.230376e+06</td>\n",
       "    </tr>\n",
       "    <tr>\n",
       "      <th>mean</th>\n",
       "      <td>7.510857e+07</td>\n",
       "      <td>5.041264e-01</td>\n",
       "      <td>1.092869e+09</td>\n",
       "      <td>1.788387e+00</td>\n",
       "      <td>8.259478e+02</td>\n",
       "      <td>1.788387e+00</td>\n",
       "      <td>8.259478e+02</td>\n",
       "    </tr>\n",
       "    <tr>\n",
       "      <th>std</th>\n",
       "      <td>2.318726e+08</td>\n",
       "      <td>6.869674e+00</td>\n",
       "      <td>4.090897e+08</td>\n",
       "      <td>2.154105e+00</td>\n",
       "      <td>5.016051e+04</td>\n",
       "      <td>2.154105e+00</td>\n",
       "      <td>5.016051e+04</td>\n",
       "    </tr>\n",
       "    <tr>\n",
       "      <th>min</th>\n",
       "      <td>2.762800e+04</td>\n",
       "      <td>0.000000e+00</td>\n",
       "      <td>2.816565e+08</td>\n",
       "      <td>0.000000e+00</td>\n",
       "      <td>0.000000e+00</td>\n",
       "      <td>0.000000e+00</td>\n",
       "      <td>0.000000e+00</td>\n",
       "    </tr>\n",
       "    <tr>\n",
       "      <th>25%</th>\n",
       "      <td>2.041344e+07</td>\n",
       "      <td>0.000000e+00</td>\n",
       "      <td>7.381109e+08</td>\n",
       "      <td>0.000000e+00</td>\n",
       "      <td>0.000000e+00</td>\n",
       "      <td>0.000000e+00</td>\n",
       "      <td>0.000000e+00</td>\n",
       "    </tr>\n",
       "    <tr>\n",
       "      <th>50%</th>\n",
       "      <td>4.333158e+07</td>\n",
       "      <td>0.000000e+00</td>\n",
       "      <td>1.179711e+09</td>\n",
       "      <td>0.000000e+00</td>\n",
       "      <td>0.000000e+00</td>\n",
       "      <td>0.000000e+00</td>\n",
       "      <td>0.000000e+00</td>\n",
       "    </tr>\n",
       "    <tr>\n",
       "      <th>75%</th>\n",
       "      <td>8.365466e+07</td>\n",
       "      <td>0.000000e+00</td>\n",
       "      <td>1.471960e+09</td>\n",
       "      <td>4.333330e+00</td>\n",
       "      <td>3.000000e+00</td>\n",
       "      <td>4.333330e+00</td>\n",
       "      <td>3.000000e+00</td>\n",
       "    </tr>\n",
       "    <tr>\n",
       "      <th>max</th>\n",
       "      <td>7.677945e+10</td>\n",
       "      <td>9.999900e+02</td>\n",
       "      <td>1.590233e+09</td>\n",
       "      <td>5.000000e+00</td>\n",
       "      <td>2.268533e+07</td>\n",
       "      <td>5.000000e+00</td>\n",
       "      <td>2.268533e+07</td>\n",
       "    </tr>\n",
       "  </tbody>\n",
       "</table>\n",
       "</div>"
      ],
      "text/plain": [
       "         Size_Bytes         Price   DeveloperId  Average_User_Rating  \\\n",
       "count  1.230152e+06  1.229886e+06  1.230376e+06         1.230376e+06   \n",
       "mean   7.510857e+07  5.041264e-01  1.092869e+09         1.788387e+00   \n",
       "std    2.318726e+08  6.869674e+00  4.090897e+08         2.154105e+00   \n",
       "min    2.762800e+04  0.000000e+00  2.816565e+08         0.000000e+00   \n",
       "25%    2.041344e+07  0.000000e+00  7.381109e+08         0.000000e+00   \n",
       "50%    4.333158e+07  0.000000e+00  1.179711e+09         0.000000e+00   \n",
       "75%    8.365466e+07  0.000000e+00  1.471960e+09         4.333330e+00   \n",
       "max    7.677945e+10  9.999900e+02  1.590233e+09         5.000000e+00   \n",
       "\n",
       "            Reviews  Current_Version_Score  Current_Version_Reviews  \n",
       "count  1.230376e+06           1.230376e+06             1.230376e+06  \n",
       "mean   8.259478e+02           1.788387e+00             8.259478e+02  \n",
       "std    5.016051e+04           2.154105e+00             5.016051e+04  \n",
       "min    0.000000e+00           0.000000e+00             0.000000e+00  \n",
       "25%    0.000000e+00           0.000000e+00             0.000000e+00  \n",
       "50%    0.000000e+00           0.000000e+00             0.000000e+00  \n",
       "75%    3.000000e+00           4.333330e+00             3.000000e+00  \n",
       "max    2.268533e+07           5.000000e+00             2.268533e+07  "
      ]
     },
     "execution_count": 9,
     "metadata": {},
     "output_type": "execute_result"
    }
   ],
   "source": [
    "df.describe()"
   ]
  },
  {
   "cell_type": "markdown",
   "id": "987ea120",
   "metadata": {
    "papermill": {
     "duration": 0.03016,
     "end_time": "2023-03-21T20:16:11.399531",
     "exception": false,
     "start_time": "2023-03-21T20:16:11.369371",
     "status": "completed"
    },
    "tags": []
   },
   "source": [
    "#### Observation Set 2:\n",
    "1. We have 7 numeric columns in the original dataset\n",
    "2. Column Size_bytes contains data in Bytes. --> We will add one column to hold the size_bytes data in MB format"
   ]
  },
  {
   "cell_type": "markdown",
   "id": "8a4fe37f",
   "metadata": {
    "papermill": {
     "duration": 0.031124,
     "end_time": "2023-03-21T20:16:11.462532",
     "exception": false,
     "start_time": "2023-03-21T20:16:11.431408",
     "status": "completed"
    },
    "tags": []
   },
   "source": [
    "### 4.9 Missing values in the data\n"
   ]
  },
  {
   "cell_type": "code",
   "execution_count": 10,
   "id": "bb8ecea5",
   "metadata": {
    "execution": {
     "iopub.execute_input": "2023-03-21T20:16:11.525684Z",
     "iopub.status.busy": "2023-03-21T20:16:11.525240Z",
     "iopub.status.idle": "2023-03-21T20:16:12.346553Z",
     "shell.execute_reply": "2023-03-21T20:16:12.345362Z"
    },
    "papermill": {
     "duration": 0.856256,
     "end_time": "2023-03-21T20:16:12.349070",
     "exception": false,
     "start_time": "2023-03-21T20:16:11.492814",
     "status": "completed"
    },
    "tags": []
   },
   "outputs": [
    {
     "data": {
      "text/plain": [
       "Developer_Website          643988\n",
       "Developer_Url                1109\n",
       "Price                         490\n",
       "Size_Bytes                    224\n",
       "Released                        3\n",
       "App_Name                        1\n",
       "Free                            0\n",
       "Current_Version_Score           0\n",
       "Reviews                         0\n",
       "Average_User_Rating             0\n",
       "Developer                       0\n",
       "DeveloperId                     0\n",
       "App_Id                          0\n",
       "Currency                        0\n",
       "Version                         0\n",
       "Updated                         0\n",
       "Required_IOS_Version            0\n",
       "Content_Rating                  0\n",
       "Primary_Genre                   0\n",
       "AppStore_Url                    0\n",
       "Current_Version_Reviews         0\n",
       "dtype: int64"
      ]
     },
     "execution_count": 10,
     "metadata": {},
     "output_type": "execute_result"
    }
   ],
   "source": [
    "df.isnull().sum().sort_values(ascending = False)"
   ]
  },
  {
   "cell_type": "markdown",
   "id": "fc22c750",
   "metadata": {
    "papermill": {
     "duration": 0.030076,
     "end_time": "2023-03-21T20:16:12.409133",
     "exception": false,
     "start_time": "2023-03-21T20:16:12.379057",
     "status": "completed"
    },
    "tags": []
   },
   "source": [
    "## 5.0 **Exploratory Analysis and Visualization**"
   ]
  },
  {
   "cell_type": "code",
   "execution_count": 11,
   "id": "f7051e4c",
   "metadata": {
    "execution": {
     "iopub.execute_input": "2023-03-21T20:16:12.471549Z",
     "iopub.status.busy": "2023-03-21T20:16:12.471076Z",
     "iopub.status.idle": "2023-03-21T20:16:47.785471Z",
     "shell.execute_reply": "2023-03-21T20:16:47.784232Z"
    },
    "papermill": {
     "duration": 35.381032,
     "end_time": "2023-03-21T20:16:47.820342",
     "exception": false,
     "start_time": "2023-03-21T20:16:12.439310",
     "status": "completed"
    },
    "tags": []
   },
   "outputs": [
    {
     "data": {
      "text/plain": [
       "Text(0.5, 1.0, 'Missing null values')"
      ]
     },
     "execution_count": 11,
     "metadata": {},
     "output_type": "execute_result"
    },
    {
     "data": {
      "image/png": "[encoded data removed]",
      "text/plain": [
       "<Figure size 1500x600 with 1 Axes>"
      ]
     },
     "metadata": {},
     "output_type": "display_data"
    }
   ],
   "source": [
    "plt.rcParams['figure.figsize'] = (15,6)\n",
    "sns.heatmap(df.isnull(),yticklabels = False, cbar = False , cmap = 'viridis')\n",
    "plt.title(\"Missing null values\")"
   ]
  },
  {
   "cell_type": "markdown",
   "id": "589a42e8",
   "metadata": {
    "papermill": {
     "duration": 0.031614,
     "end_time": "2023-03-21T20:16:47.885548",
     "exception": false,
     "start_time": "2023-03-21T20:16:47.853934",
     "status": "completed"
    },
    "tags": []
   },
   "source": [
    "> **Figure-1:** Provide us the visual on the missing values in a dataframe 'df'"
   ]
  },
  {
   "cell_type": "markdown",
   "id": "50a67557",
   "metadata": {
    "papermill": {
     "duration": 0.031277,
     "end_time": "2023-03-21T20:16:47.949426",
     "exception": false,
     "start_time": "2023-03-21T20:16:47.918149",
     "status": "completed"
    },
    "tags": []
   },
   "source": [
    "#### Get a clearer picture of missing data with this nifty code snippet! See the percentage of null values in your dataset sorted in ascending order, making it easy to identify which features have the most missing data."
   ]
  },
  {
   "cell_type": "code",
   "execution_count": 12,
   "id": "6d492951",
   "metadata": {
    "execution": {
     "iopub.execute_input": "2023-03-21T20:16:48.015255Z",
     "iopub.status.busy": "2023-03-21T20:16:48.014858Z",
     "iopub.status.idle": "2023-03-21T20:16:48.840938Z",
     "shell.execute_reply": "2023-03-21T20:16:48.839427Z"
    },
    "papermill": {
     "duration": 0.863644,
     "end_time": "2023-03-21T20:16:48.844496",
     "exception": false,
     "start_time": "2023-03-21T20:16:47.980852",
     "status": "completed"
    },
    "tags": []
   },
   "outputs": [
    {
     "data": {
      "text/plain": [
       "Developer_Website          52.340748\n",
       "Developer_Url               0.090135\n",
       "Price                       0.039825\n",
       "Size_Bytes                  0.018206\n",
       "Released                    0.000244\n",
       "App_Name                    0.000081\n",
       "Free                        0.000000\n",
       "Current_Version_Score       0.000000\n",
       "Reviews                     0.000000\n",
       "Average_User_Rating         0.000000\n",
       "Developer                   0.000000\n",
       "DeveloperId                 0.000000\n",
       "App_Id                      0.000000\n",
       "Currency                    0.000000\n",
       "Version                     0.000000\n",
       "Updated                     0.000000\n",
       "Required_IOS_Version        0.000000\n",
       "Content_Rating              0.000000\n",
       "Primary_Genre               0.000000\n",
       "AppStore_Url                0.000000\n",
       "Current_Version_Reviews     0.000000\n",
       "dtype: float64"
      ]
     },
     "execution_count": 12,
     "metadata": {},
     "output_type": "execute_result"
    }
   ],
   "source": [
    "#df.isnull().sum()/len(df)*100\n",
    "missing_percentage = (df.isnull().sum().sort_values(ascending = False)/len(df))*100\n",
    "missing_percentage"
   ]
  },
  {
   "cell_type": "markdown",
   "id": "688c7766",
   "metadata": {
    "papermill": {
     "duration": 0.031649,
     "end_time": "2023-03-21T20:16:48.908092",
     "exception": false,
     "start_time": "2023-03-21T20:16:48.876443",
     "status": "completed"
    },
    "tags": []
   },
   "source": [
    "### 5.1 We will generate a graphical representation of the percentage of null values by plotting the data using an appropriate charting technique."
   ]
  },
  {
   "cell_type": "code",
   "execution_count": 13,
   "id": "9f157bfd",
   "metadata": {
    "execution": {
     "iopub.execute_input": "2023-03-21T20:16:48.974534Z",
     "iopub.status.busy": "2023-03-21T20:16:48.974125Z",
     "iopub.status.idle": "2023-03-21T20:16:49.307486Z",
     "shell.execute_reply": "2023-03-21T20:16:49.306231Z"
    },
    "papermill": {
     "duration": 0.370078,
     "end_time": "2023-03-21T20:16:49.310190",
     "exception": false,
     "start_time": "2023-03-21T20:16:48.940112",
     "status": "completed"
    },
    "tags": []
   },
   "outputs": [
    {
     "data": {
      "text/plain": [
       "Text(0.5, 1.0, 'Percentage of null values')"
      ]
     },
     "execution_count": 13,
     "metadata": {},
     "output_type": "execute_result"
    },
    {
     "data": {
      "image/png": "[encoded data removed]",
      "text/plain": [
       "<Figure size 2000x600 with 1 Axes>"
      ]
     },
     "metadata": {},
     "output_type": "display_data"
    }
   ],
   "source": [
    "missing_percentage = missing_percentage[missing_percentage != 0] # Only the missing data\n",
    "plt.rcParams['figure.figsize'] = (20,6)\n",
    "missing_percentage.plot(kind = 'barh')\n",
    "plt.title(\"Percentage of null values\")"
   ]
  },
  {
   "cell_type": "markdown",
   "id": "4d69562c",
   "metadata": {
    "papermill": {
     "duration": 0.032188,
     "end_time": "2023-03-21T20:16:49.374865",
     "exception": false,
     "start_time": "2023-03-21T20:16:49.342677",
     "status": "completed"
    },
    "tags": []
   },
   "source": [
    "> **Figure-2:** It is obvious that due to high presence of null values iside Developer Website column, all other null values are not visible"
   ]
  },
  {
   "cell_type": "markdown",
   "id": "e1a88ca6",
   "metadata": {
    "papermill": {
     "duration": 0.032309,
     "end_time": "2023-03-21T20:16:49.440138",
     "exception": false,
     "start_time": "2023-03-21T20:16:49.407829",
     "status": "completed"
    },
    "tags": []
   },
   "source": [
    "#### Observation Set 3: \n",
    "\n",
    "\n",
    "> Dealing with the null values\n",
    "\n",
    "\n",
    "1. The columns having highest percentage of null values is :\\\n",
    "*Developer Website*\n",
    "\n",
    "Based on its lack of relevance and the high number of NULL values associated with it, we have made the decision to drop this attribute from the dataset."
   ]
  },
  {
   "cell_type": "code",
   "execution_count": 14,
   "id": "57bc3a50",
   "metadata": {
    "execution": {
     "iopub.execute_input": "2023-03-21T20:16:49.506670Z",
     "iopub.status.busy": "2023-03-21T20:16:49.506260Z",
     "iopub.status.idle": "2023-03-21T20:16:50.484411Z",
     "shell.execute_reply": "2023-03-21T20:16:50.483096Z"
    },
    "papermill": {
     "duration": 1.015094,
     "end_time": "2023-03-21T20:16:50.487551",
     "exception": false,
     "start_time": "2023-03-21T20:16:49.472457",
     "status": "completed"
    },
    "tags": []
   },
   "outputs": [
    {
     "name": "stdout",
     "output_type": "stream",
     "text": [
      "<class 'pandas.core.frame.DataFrame'>\n",
      "RangeIndex: 1230376 entries, 0 to 1230375\n",
      "Data columns (total 20 columns):\n",
      " #   Column                   Non-Null Count    Dtype  \n",
      "---  ------                   --------------    -----  \n",
      " 0   App_Id                   1230376 non-null  object \n",
      " 1   App_Name                 1230375 non-null  object \n",
      " 2   AppStore_Url             1230376 non-null  object \n",
      " 3   Primary_Genre            1230376 non-null  object \n",
      " 4   Content_Rating           1230376 non-null  object \n",
      " 5   Size_Bytes               1230152 non-null  float64\n",
      " 6   Required_IOS_Version     1230376 non-null  object \n",
      " 7   Released                 1230373 non-null  object \n",
      " 8   Updated                  1230376 non-null  object \n",
      " 9   Version                  1230376 non-null  object \n",
      " 10  Price                    1229886 non-null  float64\n",
      " 11  Currency                 1230376 non-null  object \n",
      " 12  Free                     1230376 non-null  bool   \n",
      " 13  DeveloperId              1230376 non-null  int64  \n",
      " 14  Developer                1230376 non-null  object \n",
      " 15  Developer_Url            1229267 non-null  object \n",
      " 16  Average_User_Rating      1230376 non-null  float64\n",
      " 17  Reviews                  1230376 non-null  int64  \n",
      " 18  Current_Version_Score    1230376 non-null  float64\n",
      " 19  Current_Version_Reviews  1230376 non-null  int64  \n",
      "dtypes: bool(1), float64(4), int64(3), object(12)\n",
      "memory usage: 179.5+ MB\n"
     ]
    }
   ],
   "source": [
    "df.drop('Developer_Website', axis=1, inplace=True)\n",
    "df.info()"
   ]
  },
  {
   "cell_type": "markdown",
   "id": "959ca729",
   "metadata": {
    "papermill": {
     "duration": 0.032305,
     "end_time": "2023-03-21T20:16:50.552537",
     "exception": false,
     "start_time": "2023-03-21T20:16:50.520232",
     "status": "completed"
    },
    "tags": []
   },
   "source": [
    "#### Observation Set 4:\n",
    "Price, Size_Bytes are important columns so it is good to fill the null values."
   ]
  },
  {
   "cell_type": "code",
   "execution_count": 15,
   "id": "70578279",
   "metadata": {
    "execution": {
     "iopub.execute_input": "2023-03-21T20:16:50.620472Z",
     "iopub.status.busy": "2023-03-21T20:16:50.620041Z",
     "iopub.status.idle": "2023-03-21T20:16:51.419783Z",
     "shell.execute_reply": "2023-03-21T20:16:51.418424Z"
    },
    "papermill": {
     "duration": 0.837596,
     "end_time": "2023-03-21T20:16:51.423077",
     "exception": false,
     "start_time": "2023-03-21T20:16:50.585481",
     "status": "completed"
    },
    "tags": []
   },
   "outputs": [
    {
     "data": {
      "text/plain": [
       "Developer_Url              1109\n",
       "Released                      3\n",
       "App_Name                      1\n",
       "App_Id                        0\n",
       "Currency                      0\n",
       "Current_Version_Score         0\n",
       "Reviews                       0\n",
       "Average_User_Rating           0\n",
       "Developer                     0\n",
       "DeveloperId                   0\n",
       "Free                          0\n",
       "Price                         0\n",
       "Version                       0\n",
       "Updated                       0\n",
       "Required_IOS_Version          0\n",
       "Size_Bytes                    0\n",
       "Content_Rating                0\n",
       "Primary_Genre                 0\n",
       "AppStore_Url                  0\n",
       "Current_Version_Reviews       0\n",
       "dtype: int64"
      ]
     },
     "execution_count": 15,
     "metadata": {},
     "output_type": "execute_result"
    }
   ],
   "source": [
    "#Missing values dealing\n",
    "#filling mean value of Price column in the null places of that column\n",
    "df['Price'] = df.Price.fillna(value=df['Price'].mean())\n",
    "df['Size_Bytes'] = df.Size_Bytes.fillna(value=df['Size_Bytes'].mean())\n",
    "\n",
    "##have a view of refreshed dataset again\n",
    "df.isnull().sum().sort_values(ascending = False)"
   ]
  },
  {
   "cell_type": "markdown",
   "id": "e58f360c",
   "metadata": {
    "papermill": {
     "duration": 0.032166,
     "end_time": "2023-03-21T20:16:51.488054",
     "exception": false,
     "start_time": "2023-03-21T20:16:51.455888",
     "status": "completed"
    },
    "tags": []
   },
   "source": [
    "### 5.2 To view  only those rows where a column has null values"
   ]
  },
  {
   "cell_type": "code",
   "execution_count": 16,
   "id": "1ffc523b",
   "metadata": {
    "execution": {
     "iopub.execute_input": "2023-03-21T20:16:51.554998Z",
     "iopub.status.busy": "2023-03-21T20:16:51.554034Z",
     "iopub.status.idle": "2023-03-21T20:16:51.636134Z",
     "shell.execute_reply": "2023-03-21T20:16:51.634803Z"
    },
    "papermill": {
     "duration": 0.118529,
     "end_time": "2023-03-21T20:16:51.638889",
     "exception": false,
     "start_time": "2023-03-21T20:16:51.520360",
     "status": "completed"
    },
    "tags": []
   },
   "outputs": [
    {
     "data": {
      "text/html": [
       "<div>\n",
       "<style scoped>\n",
       "    .dataframe tbody tr th:only-of-type {\n",
       "        vertical-align: middle;\n",
       "    }\n",
       "\n",
       "    .dataframe tbody tr th {\n",
       "        vertical-align: top;\n",
       "    }\n",
       "\n",
       "    .dataframe thead th {\n",
       "        text-align: right;\n",
       "    }\n",
       "</style>\n",
       "<table border=\"1\" class=\"dataframe\">\n",
       "  <thead>\n",
       "    <tr style=\"text-align: right;\">\n",
       "      <th></th>\n",
       "      <th>App_Id</th>\n",
       "      <th>App_Name</th>\n",
       "      <th>AppStore_Url</th>\n",
       "      <th>Primary_Genre</th>\n",
       "      <th>Content_Rating</th>\n",
       "      <th>Size_Bytes</th>\n",
       "      <th>Required_IOS_Version</th>\n",
       "      <th>Released</th>\n",
       "      <th>Updated</th>\n",
       "      <th>Version</th>\n",
       "      <th>Price</th>\n",
       "      <th>Currency</th>\n",
       "      <th>Free</th>\n",
       "      <th>DeveloperId</th>\n",
       "      <th>Developer</th>\n",
       "      <th>Developer_Url</th>\n",
       "      <th>Average_User_Rating</th>\n",
       "      <th>Reviews</th>\n",
       "      <th>Current_Version_Score</th>\n",
       "      <th>Current_Version_Reviews</th>\n",
       "    </tr>\n",
       "  </thead>\n",
       "  <tbody>\n",
       "    <tr>\n",
       "      <th>264853</th>\n",
       "      <td>com.ironhidegames.frontiers.universal.premium</td>\n",
       "      <td>Kingdom Rush Frontiers TD+</td>\n",
       "      <td>https://apps.apple.com/us/app/kingdom-rush-fro...</td>\n",
       "      <td>Games</td>\n",
       "      <td>12+</td>\n",
       "      <td>7.510857e+07</td>\n",
       "      <td>13.0</td>\n",
       "      <td>NaN</td>\n",
       "      <td>2021-11-12T08:00:00Z</td>\n",
       "      <td>5.4.15</td>\n",
       "      <td>0.504126</td>\n",
       "      <td>USD</td>\n",
       "      <td>False</td>\n",
       "      <td>1542047256</td>\n",
       "      <td>Ironhide Irl</td>\n",
       "      <td>https://apps.apple.com/us/developer/ironhide-i...</td>\n",
       "      <td>0.0</td>\n",
       "      <td>0</td>\n",
       "      <td>0.0</td>\n",
       "      <td>0</td>\n",
       "    </tr>\n",
       "    <tr>\n",
       "      <th>836858</th>\n",
       "      <td>com.redgamesco.transformers</td>\n",
       "      <td>Transformers: Tactical Arena</td>\n",
       "      <td>https://apps.apple.com/us/app/transformers-tac...</td>\n",
       "      <td>Games</td>\n",
       "      <td>9+</td>\n",
       "      <td>7.510857e+07</td>\n",
       "      <td>13.5.0</td>\n",
       "      <td>NaN</td>\n",
       "      <td>2021-11-05T07:00:00Z</td>\n",
       "      <td>0.1</td>\n",
       "      <td>0.504126</td>\n",
       "      <td>USD</td>\n",
       "      <td>False</td>\n",
       "      <td>1456007507</td>\n",
       "      <td>RED GAMES CO, LLC</td>\n",
       "      <td>https://apps.apple.com/us/developer/red-games-...</td>\n",
       "      <td>0.0</td>\n",
       "      <td>0</td>\n",
       "      <td>0.0</td>\n",
       "      <td>0</td>\n",
       "    </tr>\n",
       "    <tr>\n",
       "      <th>919513</th>\n",
       "      <td>com.crayolallc.crayola-create-and-play-plus</td>\n",
       "      <td>Crayola Create and Play+</td>\n",
       "      <td>https://apps.apple.com/us/app/crayola-create-a...</td>\n",
       "      <td>Games</td>\n",
       "      <td>4+</td>\n",
       "      <td>7.510857e+07</td>\n",
       "      <td>13</td>\n",
       "      <td>NaN</td>\n",
       "      <td>2021-10-29T07:00:00Z</td>\n",
       "      <td>1.52</td>\n",
       "      <td>0.504126</td>\n",
       "      <td>USD</td>\n",
       "      <td>False</td>\n",
       "      <td>1456007507</td>\n",
       "      <td>RED GAMES CO, LLC</td>\n",
       "      <td>https://apps.apple.com/us/developer/red-games-...</td>\n",
       "      <td>0.0</td>\n",
       "      <td>0</td>\n",
       "      <td>0.0</td>\n",
       "      <td>0</td>\n",
       "    </tr>\n",
       "  </tbody>\n",
       "</table>\n",
       "</div>"
      ],
      "text/plain": [
       "                                               App_Id  \\\n",
       "264853  com.ironhidegames.frontiers.universal.premium   \n",
       "836858                    com.redgamesco.transformers   \n",
       "919513    com.crayolallc.crayola-create-and-play-plus   \n",
       "\n",
       "                            App_Name  \\\n",
       "264853    Kingdom Rush Frontiers TD+   \n",
       "836858  Transformers: Tactical Arena   \n",
       "919513      Crayola Create and Play+   \n",
       "\n",
       "                                             AppStore_Url Primary_Genre  \\\n",
       "264853  https://apps.apple.com/us/app/kingdom-rush-fro...         Games   \n",
       "836858  https://apps.apple.com/us/app/transformers-tac...         Games   \n",
       "919513  https://apps.apple.com/us/app/crayola-create-a...         Games   \n",
       "\n",
       "       Content_Rating    Size_Bytes Required_IOS_Version Released  \\\n",
       "264853            12+  7.510857e+07                 13.0      NaN   \n",
       "836858             9+  7.510857e+07               13.5.0      NaN   \n",
       "919513             4+  7.510857e+07                   13      NaN   \n",
       "\n",
       "                     Updated Version     Price Currency   Free  DeveloperId  \\\n",
       "264853  2021-11-12T08:00:00Z  5.4.15  0.504126      USD  False   1542047256   \n",
       "836858  2021-11-05T07:00:00Z     0.1  0.504126      USD  False   1456007507   \n",
       "919513  2021-10-29T07:00:00Z    1.52  0.504126      USD  False   1456007507   \n",
       "\n",
       "                Developer                                      Developer_Url  \\\n",
       "264853       Ironhide Irl  https://apps.apple.com/us/developer/ironhide-i...   \n",
       "836858  RED GAMES CO, LLC  https://apps.apple.com/us/developer/red-games-...   \n",
       "919513  RED GAMES CO, LLC  https://apps.apple.com/us/developer/red-games-...   \n",
       "\n",
       "        Average_User_Rating  Reviews  Current_Version_Score  \\\n",
       "264853                  0.0        0                    0.0   \n",
       "836858                  0.0        0                    0.0   \n",
       "919513                  0.0        0                    0.0   \n",
       "\n",
       "        Current_Version_Reviews  \n",
       "264853                        0  \n",
       "836858                        0  \n",
       "919513                        0  "
      ]
     },
     "execution_count": 16,
     "metadata": {},
     "output_type": "execute_result"
    }
   ],
   "source": [
    "df[df['Released'].isnull()].head(5)"
   ]
  },
  {
   "cell_type": "code",
   "execution_count": 17,
   "id": "d597532b",
   "metadata": {
    "execution": {
     "iopub.execute_input": "2023-03-21T20:16:51.708261Z",
     "iopub.status.busy": "2023-03-21T20:16:51.707453Z",
     "iopub.status.idle": "2023-03-21T20:16:51.808012Z",
     "shell.execute_reply": "2023-03-21T20:16:51.806702Z"
    },
    "papermill": {
     "duration": 0.138144,
     "end_time": "2023-03-21T20:16:51.810779",
     "exception": false,
     "start_time": "2023-03-21T20:16:51.672635",
     "status": "completed"
    },
    "tags": []
   },
   "outputs": [
    {
     "data": {
      "text/html": [
       "<div>\n",
       "<style scoped>\n",
       "    .dataframe tbody tr th:only-of-type {\n",
       "        vertical-align: middle;\n",
       "    }\n",
       "\n",
       "    .dataframe tbody tr th {\n",
       "        vertical-align: top;\n",
       "    }\n",
       "\n",
       "    .dataframe thead th {\n",
       "        text-align: right;\n",
       "    }\n",
       "</style>\n",
       "<table border=\"1\" class=\"dataframe\">\n",
       "  <thead>\n",
       "    <tr style=\"text-align: right;\">\n",
       "      <th></th>\n",
       "      <th>App_Id</th>\n",
       "      <th>App_Name</th>\n",
       "      <th>AppStore_Url</th>\n",
       "      <th>Primary_Genre</th>\n",
       "      <th>Content_Rating</th>\n",
       "      <th>Size_Bytes</th>\n",
       "      <th>Required_IOS_Version</th>\n",
       "      <th>Released</th>\n",
       "      <th>Updated</th>\n",
       "      <th>Version</th>\n",
       "      <th>Price</th>\n",
       "      <th>Currency</th>\n",
       "      <th>Free</th>\n",
       "      <th>DeveloperId</th>\n",
       "      <th>Developer</th>\n",
       "      <th>Developer_Url</th>\n",
       "      <th>Average_User_Rating</th>\n",
       "      <th>Reviews</th>\n",
       "      <th>Current_Version_Score</th>\n",
       "      <th>Current_Version_Reviews</th>\n",
       "    </tr>\n",
       "  </thead>\n",
       "  <tbody>\n",
       "    <tr>\n",
       "      <th>2382</th>\n",
       "      <td>com.TroopAdmin2</td>\n",
       "      <td>C&amp;S Troop Admin</td>\n",
       "      <td>https://apps.apple.com/us/app/c-s-troop-admin/...</td>\n",
       "      <td>Business</td>\n",
       "      <td>4+</td>\n",
       "      <td>87355392.0</td>\n",
       "      <td>10.0</td>\n",
       "      <td>2021-06-04T07:00:00Z</td>\n",
       "      <td>2021-06-05T03:40:31Z</td>\n",
       "      <td>1.0</td>\n",
       "      <td>0.0</td>\n",
       "      <td>USD</td>\n",
       "      <td>True</td>\n",
       "      <td>1569780624</td>\n",
       "      <td>Hunter Biscuit &amp; Wolf Limited</td>\n",
       "      <td>NaN</td>\n",
       "      <td>0.00000</td>\n",
       "      <td>0</td>\n",
       "      <td>0.00000</td>\n",
       "      <td>0</td>\n",
       "    </tr>\n",
       "    <tr>\n",
       "      <th>2827</th>\n",
       "      <td>com.dhrubajyoti.bangla</td>\n",
       "      <td>Bangla Rhymes</td>\n",
       "      <td>https://apps.apple.com/us/app/bangla-rhymes/id...</td>\n",
       "      <td>Education</td>\n",
       "      <td>4+</td>\n",
       "      <td>56445952.0</td>\n",
       "      <td>9.1</td>\n",
       "      <td>2019-03-23T18:27:49Z</td>\n",
       "      <td>2019-03-23T18:27:49Z</td>\n",
       "      <td>1.0.1</td>\n",
       "      <td>0.0</td>\n",
       "      <td>USD</td>\n",
       "      <td>True</td>\n",
       "      <td>1452131894</td>\n",
       "      <td>Dhrubajyoti Dey</td>\n",
       "      <td>NaN</td>\n",
       "      <td>5.00000</td>\n",
       "      <td>5</td>\n",
       "      <td>5.00000</td>\n",
       "      <td>5</td>\n",
       "    </tr>\n",
       "    <tr>\n",
       "      <th>3498</th>\n",
       "      <td>com.f1rstmotors.f1rstmotors</td>\n",
       "      <td>F1RST MOTORS</td>\n",
       "      <td>https://apps.apple.com/us/app/f1rst-motors/id1...</td>\n",
       "      <td>Business</td>\n",
       "      <td>4+</td>\n",
       "      <td>77185024.0</td>\n",
       "      <td>13.0</td>\n",
       "      <td>2021-10-06T07:00:00Z</td>\n",
       "      <td>2021-10-06T12:15:27Z</td>\n",
       "      <td>1.0</td>\n",
       "      <td>0.0</td>\n",
       "      <td>USD</td>\n",
       "      <td>True</td>\n",
       "      <td>1588267041</td>\n",
       "      <td>F1RST MOTORS LLC</td>\n",
       "      <td>NaN</td>\n",
       "      <td>0.00000</td>\n",
       "      <td>0</td>\n",
       "      <td>0.00000</td>\n",
       "      <td>0</td>\n",
       "    </tr>\n",
       "    <tr>\n",
       "      <th>5820</th>\n",
       "      <td>tr.com.okuvaryum.mobil</td>\n",
       "      <td>Okuvaryum</td>\n",
       "      <td>https://apps.apple.com/us/app/okuvaryum/id1493...</td>\n",
       "      <td>Education</td>\n",
       "      <td>4+</td>\n",
       "      <td>79869952.0</td>\n",
       "      <td>11.0</td>\n",
       "      <td>2020-01-17T08:00:00Z</td>\n",
       "      <td>2021-05-29T15:20:58Z</td>\n",
       "      <td>1.0.21</td>\n",
       "      <td>0.0</td>\n",
       "      <td>USD</td>\n",
       "      <td>True</td>\n",
       "      <td>1589915483</td>\n",
       "      <td>OKUVARYUM EGITIM VE TEKNOLOJI ANONIM SIRKETI</td>\n",
       "      <td>NaN</td>\n",
       "      <td>4.44444</td>\n",
       "      <td>9</td>\n",
       "      <td>4.44444</td>\n",
       "      <td>9</td>\n",
       "    </tr>\n",
       "    <tr>\n",
       "      <th>5821</th>\n",
       "      <td>tr.com.okuvaryum.okul</td>\n",
       "      <td>Okuvaryum Okul</td>\n",
       "      <td>https://apps.apple.com/us/app/okuvaryum-okul/i...</td>\n",
       "      <td>Education</td>\n",
       "      <td>4+</td>\n",
       "      <td>39526400.0</td>\n",
       "      <td>11.0</td>\n",
       "      <td>2021-08-25T07:00:00Z</td>\n",
       "      <td>2021-10-08T17:07:59Z</td>\n",
       "      <td>1.0.2</td>\n",
       "      <td>0.0</td>\n",
       "      <td>USD</td>\n",
       "      <td>True</td>\n",
       "      <td>1589915483</td>\n",
       "      <td>OKUVARYUM EGITIM VE TEKNOLOJI ANONIM SIRKETI</td>\n",
       "      <td>NaN</td>\n",
       "      <td>0.00000</td>\n",
       "      <td>0</td>\n",
       "      <td>0.00000</td>\n",
       "      <td>0</td>\n",
       "    </tr>\n",
       "  </tbody>\n",
       "</table>\n",
       "</div>"
      ],
      "text/plain": [
       "                           App_Id         App_Name  \\\n",
       "2382              com.TroopAdmin2  C&S Troop Admin   \n",
       "2827       com.dhrubajyoti.bangla    Bangla Rhymes   \n",
       "3498  com.f1rstmotors.f1rstmotors     F1RST MOTORS   \n",
       "5820       tr.com.okuvaryum.mobil        Okuvaryum   \n",
       "5821        tr.com.okuvaryum.okul   Okuvaryum Okul   \n",
       "\n",
       "                                           AppStore_Url Primary_Genre  \\\n",
       "2382  https://apps.apple.com/us/app/c-s-troop-admin/...      Business   \n",
       "2827  https://apps.apple.com/us/app/bangla-rhymes/id...     Education   \n",
       "3498  https://apps.apple.com/us/app/f1rst-motors/id1...      Business   \n",
       "5820  https://apps.apple.com/us/app/okuvaryum/id1493...     Education   \n",
       "5821  https://apps.apple.com/us/app/okuvaryum-okul/i...     Education   \n",
       "\n",
       "     Content_Rating  Size_Bytes Required_IOS_Version              Released  \\\n",
       "2382             4+  87355392.0                 10.0  2021-06-04T07:00:00Z   \n",
       "2827             4+  56445952.0                  9.1  2019-03-23T18:27:49Z   \n",
       "3498             4+  77185024.0                 13.0  2021-10-06T07:00:00Z   \n",
       "5820             4+  79869952.0                 11.0  2020-01-17T08:00:00Z   \n",
       "5821             4+  39526400.0                 11.0  2021-08-25T07:00:00Z   \n",
       "\n",
       "                   Updated Version  Price Currency  Free  DeveloperId  \\\n",
       "2382  2021-06-05T03:40:31Z     1.0    0.0      USD  True   1569780624   \n",
       "2827  2019-03-23T18:27:49Z   1.0.1    0.0      USD  True   1452131894   \n",
       "3498  2021-10-06T12:15:27Z     1.0    0.0      USD  True   1588267041   \n",
       "5820  2021-05-29T15:20:58Z  1.0.21    0.0      USD  True   1589915483   \n",
       "5821  2021-10-08T17:07:59Z   1.0.2    0.0      USD  True   1589915483   \n",
       "\n",
       "                                         Developer Developer_Url  \\\n",
       "2382                 Hunter Biscuit & Wolf Limited           NaN   \n",
       "2827                               Dhrubajyoti Dey           NaN   \n",
       "3498                              F1RST MOTORS LLC           NaN   \n",
       "5820  OKUVARYUM EGITIM VE TEKNOLOJI ANONIM SIRKETI           NaN   \n",
       "5821  OKUVARYUM EGITIM VE TEKNOLOJI ANONIM SIRKETI           NaN   \n",
       "\n",
       "      Average_User_Rating  Reviews  Current_Version_Score  \\\n",
       "2382              0.00000        0                0.00000   \n",
       "2827              5.00000        5                5.00000   \n",
       "3498              0.00000        0                0.00000   \n",
       "5820              4.44444        9                4.44444   \n",
       "5821              0.00000        0                0.00000   \n",
       "\n",
       "      Current_Version_Reviews  \n",
       "2382                        0  \n",
       "2827                        5  \n",
       "3498                        0  \n",
       "5820                        9  \n",
       "5821                        0  "
      ]
     },
     "execution_count": 17,
     "metadata": {},
     "output_type": "execute_result"
    }
   ],
   "source": [
    "df[df['Developer_Url'].isnull()].head(5)"
   ]
  },
  {
   "cell_type": "code",
   "execution_count": 18,
   "id": "7d3ea074",
   "metadata": {
    "execution": {
     "iopub.execute_input": "2023-03-21T20:16:51.880842Z",
     "iopub.status.busy": "2023-03-21T20:16:51.879978Z",
     "iopub.status.idle": "2023-03-21T20:16:51.961749Z",
     "shell.execute_reply": "2023-03-21T20:16:51.960333Z"
    },
    "papermill": {
     "duration": 0.120037,
     "end_time": "2023-03-21T20:16:51.964475",
     "exception": false,
     "start_time": "2023-03-21T20:16:51.844438",
     "status": "completed"
    },
    "tags": []
   },
   "outputs": [
    {
     "data": {
      "text/html": [
       "<div>\n",
       "<style scoped>\n",
       "    .dataframe tbody tr th:only-of-type {\n",
       "        vertical-align: middle;\n",
       "    }\n",
       "\n",
       "    .dataframe tbody tr th {\n",
       "        vertical-align: top;\n",
       "    }\n",
       "\n",
       "    .dataframe thead th {\n",
       "        text-align: right;\n",
       "    }\n",
       "</style>\n",
       "<table border=\"1\" class=\"dataframe\">\n",
       "  <thead>\n",
       "    <tr style=\"text-align: right;\">\n",
       "      <th></th>\n",
       "      <th>App_Id</th>\n",
       "      <th>App_Name</th>\n",
       "      <th>AppStore_Url</th>\n",
       "      <th>Primary_Genre</th>\n",
       "      <th>Content_Rating</th>\n",
       "      <th>Size_Bytes</th>\n",
       "      <th>Required_IOS_Version</th>\n",
       "      <th>Released</th>\n",
       "      <th>Updated</th>\n",
       "      <th>Version</th>\n",
       "      <th>Price</th>\n",
       "      <th>Currency</th>\n",
       "      <th>Free</th>\n",
       "      <th>DeveloperId</th>\n",
       "      <th>Developer</th>\n",
       "      <th>Developer_Url</th>\n",
       "      <th>Average_User_Rating</th>\n",
       "      <th>Reviews</th>\n",
       "      <th>Current_Version_Score</th>\n",
       "      <th>Current_Version_Reviews</th>\n",
       "    </tr>\n",
       "  </thead>\n",
       "  <tbody>\n",
       "    <tr>\n",
       "      <th>964888</th>\n",
       "      <td>se.promedia.NA</td>\n",
       "      <td>NaN</td>\n",
       "      <td>https://apps.apple.com/us/app/na/id449134868?uo=4</td>\n",
       "      <td>News</td>\n",
       "      <td>4+</td>\n",
       "      <td>19528704.0</td>\n",
       "      <td>9.0</td>\n",
       "      <td>2011-08-08T11:45:30Z</td>\n",
       "      <td>2020-12-21T14:08:02Z</td>\n",
       "      <td>8.1.2</td>\n",
       "      <td>0.0</td>\n",
       "      <td>USD</td>\n",
       "      <td>True</td>\n",
       "      <td>449134871</td>\n",
       "      <td>Promedia</td>\n",
       "      <td>https://apps.apple.com/us/developer/promedia/i...</td>\n",
       "      <td>5.0</td>\n",
       "      <td>1</td>\n",
       "      <td>5.0</td>\n",
       "      <td>1</td>\n",
       "    </tr>\n",
       "  </tbody>\n",
       "</table>\n",
       "</div>"
      ],
      "text/plain": [
       "                App_Id App_Name  \\\n",
       "964888  se.promedia.NA      NaN   \n",
       "\n",
       "                                             AppStore_Url Primary_Genre  \\\n",
       "964888  https://apps.apple.com/us/app/na/id449134868?uo=4          News   \n",
       "\n",
       "       Content_Rating  Size_Bytes Required_IOS_Version              Released  \\\n",
       "964888             4+  19528704.0                  9.0  2011-08-08T11:45:30Z   \n",
       "\n",
       "                     Updated Version  Price Currency  Free  DeveloperId  \\\n",
       "964888  2020-12-21T14:08:02Z   8.1.2    0.0      USD  True    449134871   \n",
       "\n",
       "       Developer                                      Developer_Url  \\\n",
       "964888  Promedia  https://apps.apple.com/us/developer/promedia/i...   \n",
       "\n",
       "        Average_User_Rating  Reviews  Current_Version_Score  \\\n",
       "964888                  5.0        1                    5.0   \n",
       "\n",
       "        Current_Version_Reviews  \n",
       "964888                        1  "
      ]
     },
     "execution_count": 18,
     "metadata": {},
     "output_type": "execute_result"
    }
   ],
   "source": [
    "\n",
    "df[df['App_Name'].isnull()].head(5)"
   ]
  },
  {
   "cell_type": "markdown",
   "id": "82027a2f",
   "metadata": {
    "papermill": {
     "duration": 0.033544,
     "end_time": "2023-03-21T20:16:52.032342",
     "exception": false,
     "start_time": "2023-03-21T20:16:51.998798",
     "status": "completed"
    },
    "tags": []
   },
   "source": [
    "1. We can try to write a code to replace the null value in the column *app_name* by looking for same app_ID of the null row in other row with valid app_name value and sme app_ID\n",
    "2. We can try to write a code to replace the null value in the column *Developer_Url* by looking for same app_ID of the null row in other row with valid app_name value and sme app_ID\n",
    "3. We can try to write a code to replace the null value in the column *Released* by looking for same app_name of the null row in other row with valid app_name value and sme app_ID"
   ]
  },
  {
   "cell_type": "markdown",
   "id": "36faf14f",
   "metadata": {
    "papermill": {
     "duration": 0.033386,
     "end_time": "2023-03-21T20:16:52.099644",
     "exception": false,
     "start_time": "2023-03-21T20:16:52.066258",
     "status": "completed"
    },
    "tags": []
   },
   "source": [
    "### 5.3 Null Handling: Filling Null Values Approach\n",
    "\n",
    "Fill null values with caution! Unique values associated with specific features, such as AppID and AppName, in rows where Released is null, can make filling null values tricky. Instead, consider dropping only those rows where Developer_URL, Released, and appName are null to ensure data integrity."
   ]
  },
  {
   "cell_type": "code",
   "execution_count": 19,
   "id": "36ce3960",
   "metadata": {
    "execution": {
     "iopub.execute_input": "2023-03-21T20:16:52.169598Z",
     "iopub.status.busy": "2023-03-21T20:16:52.169212Z",
     "iopub.status.idle": "2023-03-21T20:16:52.174079Z",
     "shell.execute_reply": "2023-03-21T20:16:52.172897Z"
    },
    "papermill": {
     "duration": 0.042758,
     "end_time": "2023-03-21T20:16:52.176680",
     "exception": false,
     "start_time": "2023-03-21T20:16:52.133922",
     "status": "completed"
    },
    "tags": []
   },
   "outputs": [],
   "source": [
    "\n",
    "# Create a mapping dictionary based on either App_Id or App_Name\n",
    "# if 'App_Id' in df.columns:\n",
    "#     app_map = df.dropna(subset=['Developer_Url', 'App_Id']).set_index('App_Id')['Developer_Url'].to_dict()\n",
    "# else:\n",
    "#     app_map = df.dropna(subset=['Developer_Url', 'App_Name']).set_index('App_Name')['Developer_Url'].to_dict()\n",
    "\n",
    "# # Replace NaN values with released date from app_map using app_id or app_name\n",
    "# if 'App_Id' in df.columns:\n",
    "#     df['Developer_Url'] = df.apply(lambda row: app_map[row['App_Id']] if pd.isna(row['Developer_Url']) else row['Developer_Url'], axis=1)\n",
    "# else:\n",
    "#     df['Developer_Url'] = df.apply(lambda row: app_map[row['App_Name']] if pd.isna(row['Developer_Url']) else row['Developer_Url'], axis=1)\n",
    "\n",
    "\n"
   ]
  },
  {
   "cell_type": "code",
   "execution_count": 20,
   "id": "1bd8d372",
   "metadata": {
    "execution": {
     "iopub.execute_input": "2023-03-21T20:16:52.246729Z",
     "iopub.status.busy": "2023-03-21T20:16:52.246310Z",
     "iopub.status.idle": "2023-03-21T20:16:53.634381Z",
     "shell.execute_reply": "2023-03-21T20:16:53.632814Z"
    },
    "papermill": {
     "duration": 1.427266,
     "end_time": "2023-03-21T20:16:53.637670",
     "exception": false,
     "start_time": "2023-03-21T20:16:52.210404",
     "status": "completed"
    },
    "tags": []
   },
   "outputs": [],
   "source": [
    "df.dropna(subset=['Developer_Url'], inplace=True)\n",
    "\n",
    "df.dropna(subset=['Released'], inplace=True)\n",
    "\n",
    "df.dropna(subset=['App_Name'], inplace=True)"
   ]
  },
  {
   "cell_type": "code",
   "execution_count": 21,
   "id": "2ed35d0b",
   "metadata": {
    "execution": {
     "iopub.execute_input": "2023-03-21T20:16:53.711094Z",
     "iopub.status.busy": "2023-03-21T20:16:53.709887Z",
     "iopub.status.idle": "2023-03-21T20:16:54.475474Z",
     "shell.execute_reply": "2023-03-21T20:16:54.474234Z"
    },
    "papermill": {
     "duration": 0.805726,
     "end_time": "2023-03-21T20:16:54.478475",
     "exception": false,
     "start_time": "2023-03-21T20:16:53.672749",
     "status": "completed"
    },
    "tags": []
   },
   "outputs": [
    {
     "data": {
      "text/plain": [
       "App_Id                     0\n",
       "App_Name                   0\n",
       "Current_Version_Score      0\n",
       "Reviews                    0\n",
       "Average_User_Rating        0\n",
       "Developer_Url              0\n",
       "Developer                  0\n",
       "DeveloperId                0\n",
       "Free                       0\n",
       "Currency                   0\n",
       "Price                      0\n",
       "Version                    0\n",
       "Updated                    0\n",
       "Released                   0\n",
       "Required_IOS_Version       0\n",
       "Size_Bytes                 0\n",
       "Content_Rating             0\n",
       "Primary_Genre              0\n",
       "AppStore_Url               0\n",
       "Current_Version_Reviews    0\n",
       "dtype: int64"
      ]
     },
     "execution_count": 21,
     "metadata": {},
     "output_type": "execute_result"
    }
   ],
   "source": [
    "##have a view of refreshed dataset again\n",
    "df.isnull().sum().sort_values(ascending = False)"
   ]
  },
  {
   "cell_type": "markdown",
   "id": "ff742691",
   "metadata": {
    "papermill": {
     "duration": 0.033664,
     "end_time": "2023-03-21T20:16:54.546643",
     "exception": false,
     "start_time": "2023-03-21T20:16:54.512979",
     "status": "completed"
    },
    "tags": []
   },
   "source": [
    "### Milestone 1: We have cleaned the dataset from null values 🙂\n",
    "\n",
    "> Next, Find duplications and Analyse them if its a valid DUPLICATION"
   ]
  },
  {
   "cell_type": "code",
   "execution_count": 22,
   "id": "0ce6ac1b",
   "metadata": {
    "execution": {
     "iopub.execute_input": "2023-03-21T20:16:54.616716Z",
     "iopub.status.busy": "2023-03-21T20:16:54.616050Z",
     "iopub.status.idle": "2023-03-21T20:16:59.051348Z",
     "shell.execute_reply": "2023-03-21T20:16:59.050147Z"
    },
    "papermill": {
     "duration": 4.473497,
     "end_time": "2023-03-21T20:16:59.054187",
     "exception": false,
     "start_time": "2023-03-21T20:16:54.580690",
     "status": "completed"
    },
    "tags": []
   },
   "outputs": [
    {
     "data": {
      "text/plain": [
       "False"
      ]
     },
     "execution_count": 22,
     "metadata": {},
     "output_type": "execute_result"
    }
   ],
   "source": [
    "df.duplicated().any()"
   ]
  },
  {
   "cell_type": "code",
   "execution_count": 23,
   "id": "f028ce2d",
   "metadata": {
    "execution": {
     "iopub.execute_input": "2023-03-21T20:16:59.126087Z",
     "iopub.status.busy": "2023-03-21T20:16:59.125230Z",
     "iopub.status.idle": "2023-03-21T20:16:59.132461Z",
     "shell.execute_reply": "2023-03-21T20:16:59.131116Z"
    },
    "papermill": {
     "duration": 0.046815,
     "end_time": "2023-03-21T20:16:59.135059",
     "exception": false,
     "start_time": "2023-03-21T20:16:59.088244",
     "status": "completed"
    },
    "tags": []
   },
   "outputs": [
    {
     "data": {
      "text/plain": [
       "Index(['App_Id', 'App_Name', 'AppStore_Url', 'Primary_Genre', 'Content_Rating',\n",
       "       'Size_Bytes', 'Required_IOS_Version', 'Released', 'Updated', 'Version',\n",
       "       'Price', 'Currency', 'Free', 'DeveloperId', 'Developer',\n",
       "       'Developer_Url', 'Average_User_Rating', 'Reviews',\n",
       "       'Current_Version_Score', 'Current_Version_Reviews'],\n",
       "      dtype='object')"
      ]
     },
     "execution_count": 23,
     "metadata": {},
     "output_type": "execute_result"
    }
   ],
   "source": [
    "df.columns"
   ]
  },
  {
   "cell_type": "code",
   "execution_count": 24,
   "id": "20b527b4",
   "metadata": {
    "execution": {
     "iopub.execute_input": "2023-03-21T20:16:59.206404Z",
     "iopub.status.busy": "2023-03-21T20:16:59.205911Z",
     "iopub.status.idle": "2023-03-21T20:17:03.285802Z",
     "shell.execute_reply": "2023-03-21T20:17:03.284397Z"
    },
    "papermill": {
     "duration": 4.119395,
     "end_time": "2023-03-21T20:17:03.289161",
     "exception": false,
     "start_time": "2023-03-21T20:16:59.169766",
     "status": "completed"
    },
    "tags": []
   },
   "outputs": [],
   "source": [
    "any_duplicates = df.duplicated(subset=['App_Id', 'App_Name', 'AppStore_Url', 'Primary_Genre', 'Content_Rating',\n",
    "       'Size_Bytes', 'Required_IOS_Version', 'Released', 'Updated', 'Version',\n",
    "       'Price', 'Currency', 'Free', 'DeveloperId', 'Developer',\n",
    "       'Developer_Url', 'Average_User_Rating', 'Reviews',\n",
    "       'Current_Version_Score', 'Current_Version_Reviews']).any()"
   ]
  },
  {
   "cell_type": "code",
   "execution_count": 25,
   "id": "55e37756",
   "metadata": {
    "execution": {
     "iopub.execute_input": "2023-03-21T20:17:03.361291Z",
     "iopub.status.busy": "2023-03-21T20:17:03.360884Z",
     "iopub.status.idle": "2023-03-21T20:17:03.680415Z",
     "shell.execute_reply": "2023-03-21T20:17:03.679485Z"
    },
    "papermill": {
     "duration": 0.358681,
     "end_time": "2023-03-21T20:17:03.682731",
     "exception": false,
     "start_time": "2023-03-21T20:17:03.324050",
     "status": "completed"
    },
    "tags": []
   },
   "outputs": [
    {
     "data": {
      "text/plain": [
       "True"
      ]
     },
     "execution_count": 25,
     "metadata": {},
     "output_type": "execute_result"
    }
   ],
   "source": [
    "boolean = df['App_Name'].duplicated().any()\n",
    "boolean"
   ]
  },
  {
   "cell_type": "code",
   "execution_count": 26,
   "id": "360e35d4",
   "metadata": {
    "execution": {
     "iopub.execute_input": "2023-03-21T20:17:03.757936Z",
     "iopub.status.busy": "2023-03-21T20:17:03.757195Z",
     "iopub.status.idle": "2023-03-21T20:17:05.178072Z",
     "shell.execute_reply": "2023-03-21T20:17:05.177159Z"
    },
    "papermill": {
     "duration": 1.460186,
     "end_time": "2023-03-21T20:17:05.180487",
     "exception": false,
     "start_time": "2023-03-21T20:17:03.720301",
     "status": "completed"
    },
    "tags": []
   },
   "outputs": [
    {
     "data": {
      "text/plain": [
       "App_Name\n",
       "Vanguard              6\n",
       "Linker                5\n",
       "Bloom                 5\n",
       "Currency Converter    4\n",
       "Awaken                4\n",
       "                     ..\n",
       "TwoFactor             1\n",
       "TWOTOO                1\n",
       "TwoWayStreaming       1\n",
       "TWSpeed Telecom       1\n",
       "Sổ Điểm Thông Minh    1\n",
       "Name: count, Length: 1222413, dtype: int64"
      ]
     },
     "execution_count": 26,
     "metadata": {},
     "output_type": "execute_result"
    }
   ],
   "source": [
    "df['App_Name'].value_counts().sort_values(ascending=False)"
   ]
  },
  {
   "cell_type": "markdown",
   "id": "46dc4bbf",
   "metadata": {
    "papermill": {
     "duration": 0.034689,
     "end_time": "2023-03-21T20:17:05.250013",
     "exception": false,
     "start_time": "2023-03-21T20:17:05.215324",
     "status": "completed"
    },
    "tags": []
   },
   "source": [
    "> From the above cell output we can see that App Name column has multiple rows. Let's check out that data in those rows is identical or not"
   ]
  },
  {
   "cell_type": "code",
   "execution_count": 27,
   "id": "a78f327f",
   "metadata": {
    "execution": {
     "iopub.execute_input": "2023-03-21T20:17:05.323233Z",
     "iopub.status.busy": "2023-03-21T20:17:05.322796Z",
     "iopub.status.idle": "2023-03-21T20:17:05.428607Z",
     "shell.execute_reply": "2023-03-21T20:17:05.427718Z"
    },
    "papermill": {
     "duration": 0.146207,
     "end_time": "2023-03-21T20:17:05.431145",
     "exception": false,
     "start_time": "2023-03-21T20:17:05.284938",
     "status": "completed"
    },
    "tags": []
   },
   "outputs": [
    {
     "data": {
      "text/html": [
       "<div>\n",
       "<style scoped>\n",
       "    .dataframe tbody tr th:only-of-type {\n",
       "        vertical-align: middle;\n",
       "    }\n",
       "\n",
       "    .dataframe tbody tr th {\n",
       "        vertical-align: top;\n",
       "    }\n",
       "\n",
       "    .dataframe thead th {\n",
       "        text-align: right;\n",
       "    }\n",
       "</style>\n",
       "<table border=\"1\" class=\"dataframe\">\n",
       "  <thead>\n",
       "    <tr style=\"text-align: right;\">\n",
       "      <th></th>\n",
       "      <th>App_Id</th>\n",
       "      <th>App_Name</th>\n",
       "      <th>AppStore_Url</th>\n",
       "      <th>Primary_Genre</th>\n",
       "      <th>Content_Rating</th>\n",
       "      <th>Size_Bytes</th>\n",
       "      <th>Required_IOS_Version</th>\n",
       "      <th>Released</th>\n",
       "      <th>Updated</th>\n",
       "      <th>Version</th>\n",
       "      <th>Price</th>\n",
       "      <th>Currency</th>\n",
       "      <th>Free</th>\n",
       "      <th>DeveloperId</th>\n",
       "      <th>Developer</th>\n",
       "      <th>Developer_Url</th>\n",
       "      <th>Average_User_Rating</th>\n",
       "      <th>Reviews</th>\n",
       "      <th>Current_Version_Score</th>\n",
       "      <th>Current_Version_Reviews</th>\n",
       "    </tr>\n",
       "  </thead>\n",
       "  <tbody>\n",
       "    <tr>\n",
       "      <th>139096</th>\n",
       "      <td>com.cheerg.LinkerTest</td>\n",
       "      <td>Linker</td>\n",
       "      <td>https://apps.apple.com/us/app/linker/id1208886...</td>\n",
       "      <td>Lifestyle</td>\n",
       "      <td>4+</td>\n",
       "      <td>21876736.0</td>\n",
       "      <td>10.0</td>\n",
       "      <td>2017-03-30T20:08:27Z</td>\n",
       "      <td>2018-06-14T20:39:23Z</td>\n",
       "      <td>1.0.14</td>\n",
       "      <td>0.0</td>\n",
       "      <td>USD</td>\n",
       "      <td>True</td>\n",
       "      <td>1208886054</td>\n",
       "      <td>Chun Hsiang Hsieh</td>\n",
       "      <td>https://apps.apple.com/us/developer/chun-hsian...</td>\n",
       "      <td>0.0</td>\n",
       "      <td>0</td>\n",
       "      <td>0.0</td>\n",
       "      <td>0</td>\n",
       "    </tr>\n",
       "    <tr>\n",
       "      <th>462132</th>\n",
       "      <td>br.com.linker</td>\n",
       "      <td>Linker</td>\n",
       "      <td>https://apps.apple.com/us/app/linker/id1472621...</td>\n",
       "      <td>Finance</td>\n",
       "      <td>4+</td>\n",
       "      <td>169309184.0</td>\n",
       "      <td>12.0</td>\n",
       "      <td>2019-08-22T07:00:00Z</td>\n",
       "      <td>2021-10-01T16:08:21Z</td>\n",
       "      <td>2.0.3</td>\n",
       "      <td>0.0</td>\n",
       "      <td>USD</td>\n",
       "      <td>True</td>\n",
       "      <td>1472621726</td>\n",
       "      <td>BEMP SOLUCOES DE PAGAMENTO LTDA</td>\n",
       "      <td>https://apps.apple.com/us/developer/bemp-soluc...</td>\n",
       "      <td>4.4</td>\n",
       "      <td>5</td>\n",
       "      <td>4.4</td>\n",
       "      <td>5</td>\n",
       "    </tr>\n",
       "    <tr>\n",
       "      <th>745039</th>\n",
       "      <td>team.linker.linker</td>\n",
       "      <td>Linker</td>\n",
       "      <td>https://apps.apple.com/us/app/linker/id1558364...</td>\n",
       "      <td>Health &amp; Fitness</td>\n",
       "      <td>4+</td>\n",
       "      <td>97497088.0</td>\n",
       "      <td>10.0</td>\n",
       "      <td>2021-03-30T07:00:00Z</td>\n",
       "      <td>2021-08-23T11:16:44Z</td>\n",
       "      <td>1.0.7</td>\n",
       "      <td>0.0</td>\n",
       "      <td>USD</td>\n",
       "      <td>True</td>\n",
       "      <td>1558364892</td>\n",
       "      <td>Linker ApS</td>\n",
       "      <td>https://apps.apple.com/us/developer/linker-aps...</td>\n",
       "      <td>0.0</td>\n",
       "      <td>0</td>\n",
       "      <td>0.0</td>\n",
       "      <td>0</td>\n",
       "    </tr>\n",
       "    <tr>\n",
       "      <th>954862</th>\n",
       "      <td>com.kubo.Linker</td>\n",
       "      <td>Linker</td>\n",
       "      <td>https://apps.apple.com/us/app/linker/id1169163...</td>\n",
       "      <td>Travel</td>\n",
       "      <td>4+</td>\n",
       "      <td>34196480.0</td>\n",
       "      <td>7.0</td>\n",
       "      <td>2017-05-16T11:32:18Z</td>\n",
       "      <td>2017-10-10T01:56:27Z</td>\n",
       "      <td>39.2</td>\n",
       "      <td>0.0</td>\n",
       "      <td>USD</td>\n",
       "      <td>True</td>\n",
       "      <td>370982422</td>\n",
       "      <td>Kubo Mobile Applications SA</td>\n",
       "      <td>https://apps.apple.com/us/developer/kubo-mobil...</td>\n",
       "      <td>0.0</td>\n",
       "      <td>0</td>\n",
       "      <td>0.0</td>\n",
       "      <td>0</td>\n",
       "    </tr>\n",
       "    <tr>\n",
       "      <th>1206501</th>\n",
       "      <td>com.tilon.elcloud.rdc</td>\n",
       "      <td>Linker</td>\n",
       "      <td>https://apps.apple.com/us/app/linker/id1215552...</td>\n",
       "      <td>Utilities</td>\n",
       "      <td>4+</td>\n",
       "      <td>58948209.0</td>\n",
       "      <td>10.6.6</td>\n",
       "      <td>2017-05-30T19:54:25Z</td>\n",
       "      <td>2017-05-30T19:54:25Z</td>\n",
       "      <td>3.3.1</td>\n",
       "      <td>0.0</td>\n",
       "      <td>USD</td>\n",
       "      <td>True</td>\n",
       "      <td>355652681</td>\n",
       "      <td>TILON CO., LTD.</td>\n",
       "      <td>https://apps.apple.com/us/developer/tilon-co-l...</td>\n",
       "      <td>0.0</td>\n",
       "      <td>0</td>\n",
       "      <td>0.0</td>\n",
       "      <td>0</td>\n",
       "    </tr>\n",
       "  </tbody>\n",
       "</table>\n",
       "</div>"
      ],
      "text/plain": [
       "                        App_Id App_Name  \\\n",
       "139096   com.cheerg.LinkerTest   Linker   \n",
       "462132           br.com.linker   Linker   \n",
       "745039      team.linker.linker   Linker   \n",
       "954862         com.kubo.Linker   Linker   \n",
       "1206501  com.tilon.elcloud.rdc   Linker   \n",
       "\n",
       "                                              AppStore_Url     Primary_Genre  \\\n",
       "139096   https://apps.apple.com/us/app/linker/id1208886...         Lifestyle   \n",
       "462132   https://apps.apple.com/us/app/linker/id1472621...           Finance   \n",
       "745039   https://apps.apple.com/us/app/linker/id1558364...  Health & Fitness   \n",
       "954862   https://apps.apple.com/us/app/linker/id1169163...            Travel   \n",
       "1206501  https://apps.apple.com/us/app/linker/id1215552...         Utilities   \n",
       "\n",
       "        Content_Rating   Size_Bytes Required_IOS_Version  \\\n",
       "139096              4+   21876736.0                 10.0   \n",
       "462132              4+  169309184.0                 12.0   \n",
       "745039              4+   97497088.0                 10.0   \n",
       "954862              4+   34196480.0                  7.0   \n",
       "1206501             4+   58948209.0               10.6.6   \n",
       "\n",
       "                     Released               Updated Version  Price Currency  \\\n",
       "139096   2017-03-30T20:08:27Z  2018-06-14T20:39:23Z  1.0.14    0.0      USD   \n",
       "462132   2019-08-22T07:00:00Z  2021-10-01T16:08:21Z   2.0.3    0.0      USD   \n",
       "745039   2021-03-30T07:00:00Z  2021-08-23T11:16:44Z   1.0.7    0.0      USD   \n",
       "954862   2017-05-16T11:32:18Z  2017-10-10T01:56:27Z    39.2    0.0      USD   \n",
       "1206501  2017-05-30T19:54:25Z  2017-05-30T19:54:25Z   3.3.1    0.0      USD   \n",
       "\n",
       "         Free  DeveloperId                        Developer  \\\n",
       "139096   True   1208886054                Chun Hsiang Hsieh   \n",
       "462132   True   1472621726  BEMP SOLUCOES DE PAGAMENTO LTDA   \n",
       "745039   True   1558364892                       Linker ApS   \n",
       "954862   True    370982422      Kubo Mobile Applications SA   \n",
       "1206501  True    355652681                  TILON CO., LTD.   \n",
       "\n",
       "                                             Developer_Url  \\\n",
       "139096   https://apps.apple.com/us/developer/chun-hsian...   \n",
       "462132   https://apps.apple.com/us/developer/bemp-soluc...   \n",
       "745039   https://apps.apple.com/us/developer/linker-aps...   \n",
       "954862   https://apps.apple.com/us/developer/kubo-mobil...   \n",
       "1206501  https://apps.apple.com/us/developer/tilon-co-l...   \n",
       "\n",
       "         Average_User_Rating  Reviews  Current_Version_Score  \\\n",
       "139096                   0.0        0                    0.0   \n",
       "462132                   4.4        5                    4.4   \n",
       "745039                   0.0        0                    0.0   \n",
       "954862                   0.0        0                    0.0   \n",
       "1206501                  0.0        0                    0.0   \n",
       "\n",
       "         Current_Version_Reviews  \n",
       "139096                         0  \n",
       "462132                         5  \n",
       "745039                         0  \n",
       "954862                         0  \n",
       "1206501                        0  "
      ]
     },
     "execution_count": 27,
     "metadata": {},
     "output_type": "execute_result"
    }
   ],
   "source": [
    "df[df['App_Name'] == 'Linker']"
   ]
  },
  {
   "cell_type": "markdown",
   "id": "7343a3df",
   "metadata": {
    "papermill": {
     "duration": 0.035718,
     "end_time": "2023-03-21T20:17:05.502381",
     "exception": false,
     "start_time": "2023-03-21T20:17:05.466663",
     "status": "completed"
    },
    "tags": []
   },
   "source": [
    "### Milestone 2: *Hence no duplicates found* 👥\n",
    "\n",
    "Although App_name may have duplications, the records are unique as a whole, with varying versions, AppIds, and release dates."
   ]
  },
  {
   "cell_type": "markdown",
   "id": "ebe00605",
   "metadata": {
    "papermill": {
     "duration": 0.035276,
     "end_time": "2023-03-21T20:17:05.573702",
     "exception": false,
     "start_time": "2023-03-21T20:17:05.538426",
     "status": "completed"
    },
    "tags": []
   },
   "source": [
    "---"
   ]
  },
  {
   "cell_type": "markdown",
   "id": "c8d4b4a4",
   "metadata": {
    "papermill": {
     "duration": 0.034815,
     "end_time": "2023-03-21T20:17:05.644020",
     "exception": false,
     "start_time": "2023-03-21T20:17:05.609205",
     "status": "completed"
    },
    "tags": []
   },
   "source": [
    "### 5.4 Now exploring Numeric columns/attributes of the dataset namely:\n",
    "Size_Bytes, Price, DeveloperId, Average_User_Rating, Reviews, Current_Version_Score, Current_Version_Reviews"
   ]
  },
  {
   "cell_type": "code",
   "execution_count": 28,
   "id": "fcbfef1a",
   "metadata": {
    "execution": {
     "iopub.execute_input": "2023-03-21T20:17:05.717074Z",
     "iopub.status.busy": "2023-03-21T20:17:05.716655Z",
     "iopub.status.idle": "2023-03-21T20:17:05.775806Z",
     "shell.execute_reply": "2023-03-21T20:17:05.774483Z"
    },
    "papermill": {
     "duration": 0.098899,
     "end_time": "2023-03-21T20:17:05.778433",
     "exception": false,
     "start_time": "2023-03-21T20:17:05.679534",
     "status": "completed"
    },
    "tags": []
   },
   "outputs": [
    {
     "data": {
      "text/plain": [
       "array([2.19934720e+07, 1.31358720e+07, 2.19432960e+07, ...,\n",
       "       1.19404544e+08, 5.96570000e+05, 5.06896000e+05])"
      ]
     },
     "execution_count": 28,
     "metadata": {},
     "output_type": "execute_result"
    }
   ],
   "source": [
    "df['Size_Bytes'].unique()"
   ]
  },
  {
   "cell_type": "code",
   "execution_count": 29,
   "id": "65b7f7b3",
   "metadata": {
    "execution": {
     "iopub.execute_input": "2023-03-21T20:17:05.853881Z",
     "iopub.status.busy": "2023-03-21T20:17:05.853388Z",
     "iopub.status.idle": "2023-03-21T20:17:05.869608Z",
     "shell.execute_reply": "2023-03-21T20:17:05.868388Z"
    },
    "papermill": {
     "duration": 0.057393,
     "end_time": "2023-03-21T20:17:05.872142",
     "exception": false,
     "start_time": "2023-03-21T20:17:05.814749",
     "status": "completed"
    },
    "tags": []
   },
   "outputs": [
    {
     "data": {
      "text/plain": [
       "array([0.00000000e+00, 2.99000000e+00, 1.99000000e+00, 9.90000000e-01,\n",
       "       4.99000000e+00, 9.99000000e+00, 5.99000000e+00, 6.99000000e+00,\n",
       "       1.69900000e+01, 1.99900000e+01, 3.99900000e+01, 5.99900000e+01,\n",
       "       8.99000000e+00, 7.99000000e+00, 1.89900000e+01, 3.99000000e+00,\n",
       "       2.49900000e+01, 1.49900000e+01, 2.89900000e+01, 2.19900000e+01,\n",
       "       1.39900000e+01, 1.09900000e+01, 1.19900000e+01, 1.29990000e+02,\n",
       "       2.29900000e+01, 1.39990000e+02, 2.59900000e+01, 1.29900000e+01,\n",
       "       4.99900000e+01, 2.39900000e+01, 1.19990000e+02, 7.99900000e+01,\n",
       "       1.79900000e+01, 4.99990000e+02, 2.49990000e+02, 1.99990000e+02,\n",
       "       2.29990000e+02, 3.49900000e+01, 2.09900000e+01, 9.99900000e+01,\n",
       "       3.39900000e+01, 5.49900000e+01, 4.59900000e+01, 4.49900000e+01,\n",
       "       2.99900000e+01, 6.99900000e+01, 2.79900000e+01, 8.49900000e+01,\n",
       "       6.49900000e+01, 1.59900000e+01, 2.69900000e+01, 3.59900000e+01,\n",
       "       4.09900000e+01, 1.74990000e+02, 1.49990000e+02, 9.49900000e+01,\n",
       "       7.49900000e+01, 3.49990000e+02, 4.89900000e+01, 1.09990000e+02,\n",
       "       3.89900000e+01, 3.19900000e+01, 3.69900000e+01, 8.99900000e+01,\n",
       "       1.69990000e+02, 1.24990000e+02, 5.04126382e-01, 3.99990000e+02,\n",
       "       2.19990000e+02, 4.39900000e+01, 6.99990000e+02, 4.29900000e+01,\n",
       "       3.79900000e+01, 2.99990000e+02, 4.49990000e+02, 1.59990000e+02,\n",
       "       4.19900000e+01, 3.29900000e+01, 3.09900000e+01, 7.99990000e+02,\n",
       "       9.99990000e+02, 4.79900000e+01, 1.79990000e+02, 2.09990000e+02,\n",
       "       2.39990000e+02, 5.99990000e+02, 4.69900000e+01, 8.99990000e+02,\n",
       "       1.89990000e+02])"
      ]
     },
     "execution_count": 29,
     "metadata": {},
     "output_type": "execute_result"
    }
   ],
   "source": [
    "df['Price'].unique()"
   ]
  },
  {
   "cell_type": "code",
   "execution_count": 30,
   "id": "7b8d0b85",
   "metadata": {
    "execution": {
     "iopub.execute_input": "2023-03-21T20:17:05.945623Z",
     "iopub.status.busy": "2023-03-21T20:17:05.944814Z",
     "iopub.status.idle": "2023-03-21T20:17:05.971967Z",
     "shell.execute_reply": "2023-03-21T20:17:05.971057Z"
    },
    "papermill": {
     "duration": 0.066101,
     "end_time": "2023-03-21T20:17:05.974177",
     "exception": false,
     "start_time": "2023-03-21T20:17:05.908076",
     "status": "completed"
    },
    "tags": []
   },
   "outputs": [
    {
     "data": {
      "text/plain": [
       "array([0.     , 5.     , 4.78132, ..., 4.00352, 3.91608, 4.82733])"
      ]
     },
     "execution_count": 30,
     "metadata": {},
     "output_type": "execute_result"
    }
   ],
   "source": [
    "df['Average_User_Rating'].unique()"
   ]
  },
  {
   "cell_type": "code",
   "execution_count": 31,
   "id": "05320bb6",
   "metadata": {
    "execution": {
     "iopub.execute_input": "2023-03-21T20:17:06.048807Z",
     "iopub.status.busy": "2023-03-21T20:17:06.047639Z",
     "iopub.status.idle": "2023-03-21T20:17:06.065129Z",
     "shell.execute_reply": "2023-03-21T20:17:06.063934Z"
    },
    "papermill": {
     "duration": 0.057216,
     "end_time": "2023-03-21T20:17:06.067683",
     "exception": false,
     "start_time": "2023-03-21T20:17:06.010467",
     "status": "completed"
    },
    "tags": []
   },
   "outputs": [
    {
     "data": {
      "text/plain": [
       "array([    0,     1,  1285, ..., 12691, 35476, 10481], dtype=int64)"
      ]
     },
     "execution_count": 31,
     "metadata": {},
     "output_type": "execute_result"
    }
   ],
   "source": [
    "df['Reviews'].unique()"
   ]
  },
  {
   "cell_type": "code",
   "execution_count": 32,
   "id": "4b6b86e9",
   "metadata": {
    "execution": {
     "iopub.execute_input": "2023-03-21T20:17:06.159383Z",
     "iopub.status.busy": "2023-03-21T20:17:06.158869Z",
     "iopub.status.idle": "2023-03-21T20:17:06.192373Z",
     "shell.execute_reply": "2023-03-21T20:17:06.190816Z"
    },
    "papermill": {
     "duration": 0.091592,
     "end_time": "2023-03-21T20:17:06.195580",
     "exception": false,
     "start_time": "2023-03-21T20:17:06.103988",
     "status": "completed"
    },
    "tags": []
   },
   "outputs": [
    {
     "data": {
      "text/plain": [
       "array([0.     , 5.     , 4.78132, ..., 4.00352, 3.91608, 4.82733])"
      ]
     },
     "execution_count": 32,
     "metadata": {},
     "output_type": "execute_result"
    }
   ],
   "source": [
    "\n",
    "df['Current_Version_Score'].unique()"
   ]
  },
  {
   "cell_type": "code",
   "execution_count": 33,
   "id": "707d6135",
   "metadata": {
    "execution": {
     "iopub.execute_input": "2023-03-21T20:17:06.270907Z",
     "iopub.status.busy": "2023-03-21T20:17:06.270468Z",
     "iopub.status.idle": "2023-03-21T20:17:06.354188Z",
     "shell.execute_reply": "2023-03-21T20:17:06.352876Z"
    },
    "papermill": {
     "duration": 0.125056,
     "end_time": "2023-03-21T20:17:06.356696",
     "exception": false,
     "start_time": "2023-03-21T20:17:06.231640",
     "status": "completed"
    },
    "tags": []
   },
   "outputs": [
    {
     "data": {
      "text/plain": [
       "array(['USD'], dtype=object)"
      ]
     },
     "execution_count": 33,
     "metadata": {},
     "output_type": "execute_result"
    }
   ],
   "source": [
    "\n",
    "\n",
    "df['Currency'].unique()"
   ]
  },
  {
   "cell_type": "markdown",
   "id": "2b2381b6",
   "metadata": {
    "papermill": {
     "duration": 0.036725,
     "end_time": "2023-03-21T20:17:06.431161",
     "exception": false,
     "start_time": "2023-03-21T20:17:06.394436",
     "status": "completed"
    },
    "tags": []
   },
   "source": [
    "> The currency used is standard US Dollar 💵💵💵 across the dataset"
   ]
  },
  {
   "cell_type": "code",
   "execution_count": 34,
   "id": "61272558",
   "metadata": {
    "execution": {
     "iopub.execute_input": "2023-03-21T20:17:06.507265Z",
     "iopub.status.busy": "2023-03-21T20:17:06.506876Z",
     "iopub.status.idle": "2023-03-21T20:17:06.593158Z",
     "shell.execute_reply": "2023-03-21T20:17:06.591870Z"
    },
    "papermill": {
     "duration": 0.12838,
     "end_time": "2023-03-21T20:17:06.595901",
     "exception": false,
     "start_time": "2023-03-21T20:17:06.467521",
     "status": "completed"
    },
    "tags": []
   },
   "outputs": [
    {
     "data": {
      "text/plain": [
       "array(['4+', '17+', '9+', '12+', 'Not yet rated'], dtype=object)"
      ]
     },
     "execution_count": 34,
     "metadata": {},
     "output_type": "execute_result"
    }
   ],
   "source": [
    "df['Content_Rating'].unique()"
   ]
  },
  {
   "cell_type": "code",
   "execution_count": 35,
   "id": "b36e7b93",
   "metadata": {
    "execution": {
     "iopub.execute_input": "2023-03-21T20:17:06.671403Z",
     "iopub.status.busy": "2023-03-21T20:17:06.670916Z",
     "iopub.status.idle": "2023-03-21T20:17:06.694211Z",
     "shell.execute_reply": "2023-03-21T20:17:06.693363Z"
    },
    "papermill": {
     "duration": 0.064183,
     "end_time": "2023-03-21T20:17:06.696432",
     "exception": false,
     "start_time": "2023-03-21T20:17:06.632249",
     "status": "completed"
    },
    "tags": []
   },
   "outputs": [
    {
     "data": {
      "text/html": [
       "<div>\n",
       "<style scoped>\n",
       "    .dataframe tbody tr th:only-of-type {\n",
       "        vertical-align: middle;\n",
       "    }\n",
       "\n",
       "    .dataframe tbody tr th {\n",
       "        vertical-align: top;\n",
       "    }\n",
       "\n",
       "    .dataframe thead th {\n",
       "        text-align: right;\n",
       "    }\n",
       "</style>\n",
       "<table border=\"1\" class=\"dataframe\">\n",
       "  <thead>\n",
       "    <tr style=\"text-align: right;\">\n",
       "      <th></th>\n",
       "      <th>App_Id</th>\n",
       "      <th>App_Name</th>\n",
       "      <th>AppStore_Url</th>\n",
       "      <th>Primary_Genre</th>\n",
       "      <th>Content_Rating</th>\n",
       "      <th>Size_Bytes</th>\n",
       "      <th>Required_IOS_Version</th>\n",
       "      <th>Released</th>\n",
       "      <th>Updated</th>\n",
       "      <th>Version</th>\n",
       "      <th>Price</th>\n",
       "      <th>Currency</th>\n",
       "      <th>Free</th>\n",
       "      <th>DeveloperId</th>\n",
       "      <th>Developer</th>\n",
       "      <th>Developer_Url</th>\n",
       "      <th>Average_User_Rating</th>\n",
       "      <th>Reviews</th>\n",
       "      <th>Current_Version_Score</th>\n",
       "      <th>Current_Version_Reviews</th>\n",
       "    </tr>\n",
       "  </thead>\n",
       "  <tbody>\n",
       "    <tr>\n",
       "      <th>0</th>\n",
       "      <td>com.hkbu.arc.apaper</td>\n",
       "      <td>A+ Paper Guide</td>\n",
       "      <td>https://apps.apple.com/us/app/a-paper-guide/id...</td>\n",
       "      <td>Education</td>\n",
       "      <td>4+</td>\n",
       "      <td>21993472.0</td>\n",
       "      <td>8.0</td>\n",
       "      <td>2017-09-28T03:02:41Z</td>\n",
       "      <td>2018-12-21T21:30:36Z</td>\n",
       "      <td>1.1.2</td>\n",
       "      <td>0.00</td>\n",
       "      <td>USD</td>\n",
       "      <td>True</td>\n",
       "      <td>1375410542</td>\n",
       "      <td>HKBU ARC</td>\n",
       "      <td>https://apps.apple.com/us/developer/hkbu-arc/i...</td>\n",
       "      <td>0.0</td>\n",
       "      <td>0</td>\n",
       "      <td>0.0</td>\n",
       "      <td>0</td>\n",
       "    </tr>\n",
       "    <tr>\n",
       "      <th>1</th>\n",
       "      <td>com.dmitriev.abooks</td>\n",
       "      <td>A-Books</td>\n",
       "      <td>https://apps.apple.com/us/app/a-books/id103157...</td>\n",
       "      <td>Book</td>\n",
       "      <td>4+</td>\n",
       "      <td>13135872.0</td>\n",
       "      <td>10.0</td>\n",
       "      <td>2015-08-31T19:31:32Z</td>\n",
       "      <td>2019-07-23T20:31:09Z</td>\n",
       "      <td>1.3</td>\n",
       "      <td>0.00</td>\n",
       "      <td>USD</td>\n",
       "      <td>True</td>\n",
       "      <td>1031572001</td>\n",
       "      <td>Roman Dmitriev</td>\n",
       "      <td>https://apps.apple.com/us/developer/roman-dmit...</td>\n",
       "      <td>5.0</td>\n",
       "      <td>1</td>\n",
       "      <td>5.0</td>\n",
       "      <td>1</td>\n",
       "    </tr>\n",
       "    <tr>\n",
       "      <th>2</th>\n",
       "      <td>no.terp.abooks</td>\n",
       "      <td>A-books</td>\n",
       "      <td>https://apps.apple.com/us/app/a-books/id145702...</td>\n",
       "      <td>Book</td>\n",
       "      <td>4+</td>\n",
       "      <td>21943296.0</td>\n",
       "      <td>9.0</td>\n",
       "      <td>2021-04-14T07:00:00Z</td>\n",
       "      <td>2021-05-30T21:08:54Z</td>\n",
       "      <td>1.3.1</td>\n",
       "      <td>0.00</td>\n",
       "      <td>USD</td>\n",
       "      <td>True</td>\n",
       "      <td>1457024163</td>\n",
       "      <td>Terp AS</td>\n",
       "      <td>https://apps.apple.com/us/developer/terp-as/id...</td>\n",
       "      <td>0.0</td>\n",
       "      <td>0</td>\n",
       "      <td>0.0</td>\n",
       "      <td>0</td>\n",
       "    </tr>\n",
       "    <tr>\n",
       "      <th>3</th>\n",
       "      <td>fr.antoinettefleur.Book1</td>\n",
       "      <td>A-F Book #1</td>\n",
       "      <td>https://apps.apple.com/us/app/a-f-book-1/id500...</td>\n",
       "      <td>Book</td>\n",
       "      <td>4+</td>\n",
       "      <td>81851392.0</td>\n",
       "      <td>8.0</td>\n",
       "      <td>2012-02-10T03:40:07Z</td>\n",
       "      <td>2019-10-29T12:40:37Z</td>\n",
       "      <td>1.2</td>\n",
       "      <td>2.99</td>\n",
       "      <td>USD</td>\n",
       "      <td>False</td>\n",
       "      <td>439568839</td>\n",
       "      <td>i-editeur.com</td>\n",
       "      <td>https://apps.apple.com/us/developer/i-editeur-...</td>\n",
       "      <td>0.0</td>\n",
       "      <td>0</td>\n",
       "      <td>0.0</td>\n",
       "      <td>0</td>\n",
       "    </tr>\n",
       "    <tr>\n",
       "      <th>4</th>\n",
       "      <td>com.imonstersoft.azdictionaryios</td>\n",
       "      <td>A-Z Synonyms Dictionary</td>\n",
       "      <td>https://apps.apple.com/us/app/a-z-synonyms-dic...</td>\n",
       "      <td>Reference</td>\n",
       "      <td>4+</td>\n",
       "      <td>64692224.0</td>\n",
       "      <td>9.0</td>\n",
       "      <td>2020-12-16T08:00:00Z</td>\n",
       "      <td>2020-12-18T21:36:11Z</td>\n",
       "      <td>1.0.1</td>\n",
       "      <td>0.00</td>\n",
       "      <td>USD</td>\n",
       "      <td>True</td>\n",
       "      <td>656731821</td>\n",
       "      <td>Ngov chiheang</td>\n",
       "      <td>https://apps.apple.com/us/developer/ngov-chihe...</td>\n",
       "      <td>0.0</td>\n",
       "      <td>0</td>\n",
       "      <td>0.0</td>\n",
       "      <td>0</td>\n",
       "    </tr>\n",
       "  </tbody>\n",
       "</table>\n",
       "</div>"
      ],
      "text/plain": [
       "                             App_Id                 App_Name  \\\n",
       "0               com.hkbu.arc.apaper           A+ Paper Guide   \n",
       "1               com.dmitriev.abooks                  A-Books   \n",
       "2                    no.terp.abooks                  A-books   \n",
       "3          fr.antoinettefleur.Book1              A-F Book #1   \n",
       "4  com.imonstersoft.azdictionaryios  A-Z Synonyms Dictionary   \n",
       "\n",
       "                                        AppStore_Url Primary_Genre  \\\n",
       "0  https://apps.apple.com/us/app/a-paper-guide/id...     Education   \n",
       "1  https://apps.apple.com/us/app/a-books/id103157...          Book   \n",
       "2  https://apps.apple.com/us/app/a-books/id145702...          Book   \n",
       "3  https://apps.apple.com/us/app/a-f-book-1/id500...          Book   \n",
       "4  https://apps.apple.com/us/app/a-z-synonyms-dic...     Reference   \n",
       "\n",
       "  Content_Rating  Size_Bytes Required_IOS_Version              Released  \\\n",
       "0             4+  21993472.0                  8.0  2017-09-28T03:02:41Z   \n",
       "1             4+  13135872.0                 10.0  2015-08-31T19:31:32Z   \n",
       "2             4+  21943296.0                  9.0  2021-04-14T07:00:00Z   \n",
       "3             4+  81851392.0                  8.0  2012-02-10T03:40:07Z   \n",
       "4             4+  64692224.0                  9.0  2020-12-16T08:00:00Z   \n",
       "\n",
       "                Updated Version  Price Currency   Free  DeveloperId  \\\n",
       "0  2018-12-21T21:30:36Z   1.1.2   0.00      USD   True   1375410542   \n",
       "1  2019-07-23T20:31:09Z     1.3   0.00      USD   True   1031572001   \n",
       "2  2021-05-30T21:08:54Z   1.3.1   0.00      USD   True   1457024163   \n",
       "3  2019-10-29T12:40:37Z     1.2   2.99      USD  False    439568839   \n",
       "4  2020-12-18T21:36:11Z   1.0.1   0.00      USD   True    656731821   \n",
       "\n",
       "        Developer                                      Developer_Url  \\\n",
       "0        HKBU ARC  https://apps.apple.com/us/developer/hkbu-arc/i...   \n",
       "1  Roman Dmitriev  https://apps.apple.com/us/developer/roman-dmit...   \n",
       "2         Terp AS  https://apps.apple.com/us/developer/terp-as/id...   \n",
       "3   i-editeur.com  https://apps.apple.com/us/developer/i-editeur-...   \n",
       "4   Ngov chiheang  https://apps.apple.com/us/developer/ngov-chihe...   \n",
       "\n",
       "   Average_User_Rating  Reviews  Current_Version_Score  \\\n",
       "0                  0.0        0                    0.0   \n",
       "1                  5.0        1                    5.0   \n",
       "2                  0.0        0                    0.0   \n",
       "3                  0.0        0                    0.0   \n",
       "4                  0.0        0                    0.0   \n",
       "\n",
       "   Current_Version_Reviews  \n",
       "0                        0  \n",
       "1                        1  \n",
       "2                        0  \n",
       "3                        0  \n",
       "4                        0  "
      ]
     },
     "execution_count": 35,
     "metadata": {},
     "output_type": "execute_result"
    }
   ],
   "source": [
    "df.head(5)"
   ]
  },
  {
   "cell_type": "markdown",
   "id": "725e0ad8",
   "metadata": {
    "papermill": {
     "duration": 0.03649,
     "end_time": "2023-03-21T20:17:06.770114",
     "exception": false,
     "start_time": "2023-03-21T20:17:06.733624",
     "status": "completed"
    },
    "tags": []
   },
   "source": [
    "### 5.5 Adding column to hold Size_Bytes in MBs"
   ]
  },
  {
   "cell_type": "code",
   "execution_count": 36,
   "id": "66730377",
   "metadata": {
    "execution": {
     "iopub.execute_input": "2023-03-21T20:17:06.847234Z",
     "iopub.status.busy": "2023-03-21T20:17:06.846792Z",
     "iopub.status.idle": "2023-03-21T20:17:06.853200Z",
     "shell.execute_reply": "2023-03-21T20:17:06.851964Z"
    },
    "papermill": {
     "duration": 0.048407,
     "end_time": "2023-03-21T20:17:06.855651",
     "exception": false,
     "start_time": "2023-03-21T20:17:06.807244",
     "status": "completed"
    },
    "tags": []
   },
   "outputs": [],
   "source": [
    "df['Size_MB'] = 0\n"
   ]
  },
  {
   "cell_type": "code",
   "execution_count": 37,
   "id": "69d7c3c6",
   "metadata": {
    "execution": {
     "iopub.execute_input": "2023-03-21T20:17:06.931421Z",
     "iopub.status.busy": "2023-03-21T20:17:06.931014Z",
     "iopub.status.idle": "2023-03-21T20:17:06.937451Z",
     "shell.execute_reply": "2023-03-21T20:17:06.936534Z"
    },
    "papermill": {
     "duration": 0.047183,
     "end_time": "2023-03-21T20:17:06.939597",
     "exception": false,
     "start_time": "2023-03-21T20:17:06.892414",
     "status": "completed"
    },
    "tags": []
   },
   "outputs": [
    {
     "data": {
      "text/plain": [
       "Index(['App_Id', 'App_Name', 'AppStore_Url', 'Primary_Genre', 'Content_Rating',\n",
       "       'Size_Bytes', 'Required_IOS_Version', 'Released', 'Updated', 'Version',\n",
       "       'Price', 'Currency', 'Free', 'DeveloperId', 'Developer',\n",
       "       'Developer_Url', 'Average_User_Rating', 'Reviews',\n",
       "       'Current_Version_Score', 'Current_Version_Reviews', 'Size_MB'],\n",
       "      dtype='object')"
      ]
     },
     "execution_count": 37,
     "metadata": {},
     "output_type": "execute_result"
    }
   ],
   "source": [
    "df.columns"
   ]
  },
  {
   "cell_type": "markdown",
   "id": "de0864e7",
   "metadata": {
    "papermill": {
     "duration": 0.036717,
     "end_time": "2023-03-21T20:17:07.013083",
     "exception": false,
     "start_time": "2023-03-21T20:17:06.976366",
     "status": "completed"
    },
    "tags": []
   },
   "source": [
    "#### 5.5.1 Conversion of Size_Bytes into MBs\n",
    "- First we will convert Size_Bytes data to KB and then to MB"
   ]
  },
  {
   "cell_type": "code",
   "execution_count": 38,
   "id": "393a3f0b",
   "metadata": {
    "execution": {
     "iopub.execute_input": "2023-03-21T20:17:07.090155Z",
     "iopub.status.busy": "2023-03-21T20:17:07.089748Z",
     "iopub.status.idle": "2023-03-21T20:17:07.625919Z",
     "shell.execute_reply": "2023-03-21T20:17:07.624589Z"
    },
    "papermill": {
     "duration": 0.578674,
     "end_time": "2023-03-21T20:17:07.628765",
     "exception": false,
     "start_time": "2023-03-21T20:17:07.050091",
     "status": "completed"
    },
    "tags": []
   },
   "outputs": [],
   "source": [
    "df['Size_MB'] = df['Size_Bytes'].apply(lambda x: (float(x) / 1024)/1024)"
   ]
  },
  {
   "cell_type": "code",
   "execution_count": 39,
   "id": "8bda39a4",
   "metadata": {
    "execution": {
     "iopub.execute_input": "2023-03-21T20:17:07.705931Z",
     "iopub.status.busy": "2023-03-21T20:17:07.705448Z",
     "iopub.status.idle": "2023-03-21T20:17:07.765564Z",
     "shell.execute_reply": "2023-03-21T20:17:07.764651Z"
    },
    "papermill": {
     "duration": 0.101094,
     "end_time": "2023-03-21T20:17:07.767879",
     "exception": false,
     "start_time": "2023-03-21T20:17:07.666785",
     "status": "completed"
    },
    "tags": []
   },
   "outputs": [
    {
     "data": {
      "text/plain": [
       "count    1.229263e+06\n",
       "mean     1.788848e+00\n",
       "std      2.154179e+00\n",
       "min      0.000000e+00\n",
       "25%      0.000000e+00\n",
       "50%      0.000000e+00\n",
       "75%      4.333330e+00\n",
       "max      5.000000e+00\n",
       "Name: Average_User_Rating, dtype: float64"
      ]
     },
     "execution_count": 39,
     "metadata": {},
     "output_type": "execute_result"
    }
   ],
   "source": [
    "df.Average_User_Rating.describe()"
   ]
  },
  {
   "cell_type": "markdown",
   "id": "84e4140a",
   "metadata": {
    "papermill": {
     "duration": 0.037502,
     "end_time": "2023-03-21T20:17:07.844089",
     "exception": false,
     "start_time": "2023-03-21T20:17:07.806587",
     "status": "completed"
    },
    "tags": []
   },
   "source": [
    "### 5.6 Creataing the column type for free and paid Apps\n",
    "Using the Free column, it's helpfull while dealing with the paid and Free Apps from data readability perspective 🤓"
   ]
  },
  {
   "cell_type": "code",
   "execution_count": 40,
   "id": "e881732b",
   "metadata": {
    "execution": {
     "iopub.execute_input": "2023-03-21T20:17:07.922020Z",
     "iopub.status.busy": "2023-03-21T20:17:07.921002Z",
     "iopub.status.idle": "2023-03-21T20:17:09.082436Z",
     "shell.execute_reply": "2023-03-21T20:17:09.081106Z"
    },
    "papermill": {
     "duration": 1.203199,
     "end_time": "2023-03-21T20:17:09.085369",
     "exception": false,
     "start_time": "2023-03-21T20:17:07.882170",
     "status": "completed"
    },
    "tags": []
   },
   "outputs": [],
   "source": [
    "df['Type'] = np.where(df['Free'] == True,'Free','Paid')\n",
    "df.drop(['Free'],axis=1, inplace= True )"
   ]
  },
  {
   "cell_type": "code",
   "execution_count": 41,
   "id": "b008f1e8",
   "metadata": {
    "execution": {
     "iopub.execute_input": "2023-03-21T20:17:09.163148Z",
     "iopub.status.busy": "2023-03-21T20:17:09.162728Z",
     "iopub.status.idle": "2023-03-21T20:17:09.188324Z",
     "shell.execute_reply": "2023-03-21T20:17:09.187061Z"
    },
    "papermill": {
     "duration": 0.068018,
     "end_time": "2023-03-21T20:17:09.191129",
     "exception": false,
     "start_time": "2023-03-21T20:17:09.123111",
     "status": "completed"
    },
    "tags": []
   },
   "outputs": [
    {
     "data": {
      "text/html": [
       "<div>\n",
       "<style scoped>\n",
       "    .dataframe tbody tr th:only-of-type {\n",
       "        vertical-align: middle;\n",
       "    }\n",
       "\n",
       "    .dataframe tbody tr th {\n",
       "        vertical-align: top;\n",
       "    }\n",
       "\n",
       "    .dataframe thead th {\n",
       "        text-align: right;\n",
       "    }\n",
       "</style>\n",
       "<table border=\"1\" class=\"dataframe\">\n",
       "  <thead>\n",
       "    <tr style=\"text-align: right;\">\n",
       "      <th></th>\n",
       "      <th>App_Id</th>\n",
       "      <th>App_Name</th>\n",
       "      <th>AppStore_Url</th>\n",
       "      <th>Primary_Genre</th>\n",
       "      <th>Content_Rating</th>\n",
       "      <th>Size_Bytes</th>\n",
       "      <th>Required_IOS_Version</th>\n",
       "      <th>Released</th>\n",
       "      <th>Updated</th>\n",
       "      <th>Version</th>\n",
       "      <th>Price</th>\n",
       "      <th>Currency</th>\n",
       "      <th>DeveloperId</th>\n",
       "      <th>Developer</th>\n",
       "      <th>Developer_Url</th>\n",
       "      <th>Average_User_Rating</th>\n",
       "      <th>Reviews</th>\n",
       "      <th>Current_Version_Score</th>\n",
       "      <th>Current_Version_Reviews</th>\n",
       "      <th>Size_MB</th>\n",
       "      <th>Type</th>\n",
       "    </tr>\n",
       "  </thead>\n",
       "  <tbody>\n",
       "    <tr>\n",
       "      <th>0</th>\n",
       "      <td>com.hkbu.arc.apaper</td>\n",
       "      <td>A+ Paper Guide</td>\n",
       "      <td>https://apps.apple.com/us/app/a-paper-guide/id...</td>\n",
       "      <td>Education</td>\n",
       "      <td>4+</td>\n",
       "      <td>21993472.0</td>\n",
       "      <td>8.0</td>\n",
       "      <td>2017-09-28T03:02:41Z</td>\n",
       "      <td>2018-12-21T21:30:36Z</td>\n",
       "      <td>1.1.2</td>\n",
       "      <td>0.00</td>\n",
       "      <td>USD</td>\n",
       "      <td>1375410542</td>\n",
       "      <td>HKBU ARC</td>\n",
       "      <td>https://apps.apple.com/us/developer/hkbu-arc/i...</td>\n",
       "      <td>0.0</td>\n",
       "      <td>0</td>\n",
       "      <td>0.0</td>\n",
       "      <td>0</td>\n",
       "      <td>20.974609</td>\n",
       "      <td>Free</td>\n",
       "    </tr>\n",
       "    <tr>\n",
       "      <th>1</th>\n",
       "      <td>com.dmitriev.abooks</td>\n",
       "      <td>A-Books</td>\n",
       "      <td>https://apps.apple.com/us/app/a-books/id103157...</td>\n",
       "      <td>Book</td>\n",
       "      <td>4+</td>\n",
       "      <td>13135872.0</td>\n",
       "      <td>10.0</td>\n",
       "      <td>2015-08-31T19:31:32Z</td>\n",
       "      <td>2019-07-23T20:31:09Z</td>\n",
       "      <td>1.3</td>\n",
       "      <td>0.00</td>\n",
       "      <td>USD</td>\n",
       "      <td>1031572001</td>\n",
       "      <td>Roman Dmitriev</td>\n",
       "      <td>https://apps.apple.com/us/developer/roman-dmit...</td>\n",
       "      <td>5.0</td>\n",
       "      <td>1</td>\n",
       "      <td>5.0</td>\n",
       "      <td>1</td>\n",
       "      <td>12.527344</td>\n",
       "      <td>Free</td>\n",
       "    </tr>\n",
       "    <tr>\n",
       "      <th>2</th>\n",
       "      <td>no.terp.abooks</td>\n",
       "      <td>A-books</td>\n",
       "      <td>https://apps.apple.com/us/app/a-books/id145702...</td>\n",
       "      <td>Book</td>\n",
       "      <td>4+</td>\n",
       "      <td>21943296.0</td>\n",
       "      <td>9.0</td>\n",
       "      <td>2021-04-14T07:00:00Z</td>\n",
       "      <td>2021-05-30T21:08:54Z</td>\n",
       "      <td>1.3.1</td>\n",
       "      <td>0.00</td>\n",
       "      <td>USD</td>\n",
       "      <td>1457024163</td>\n",
       "      <td>Terp AS</td>\n",
       "      <td>https://apps.apple.com/us/developer/terp-as/id...</td>\n",
       "      <td>0.0</td>\n",
       "      <td>0</td>\n",
       "      <td>0.0</td>\n",
       "      <td>0</td>\n",
       "      <td>20.926758</td>\n",
       "      <td>Free</td>\n",
       "    </tr>\n",
       "    <tr>\n",
       "      <th>3</th>\n",
       "      <td>fr.antoinettefleur.Book1</td>\n",
       "      <td>A-F Book #1</td>\n",
       "      <td>https://apps.apple.com/us/app/a-f-book-1/id500...</td>\n",
       "      <td>Book</td>\n",
       "      <td>4+</td>\n",
       "      <td>81851392.0</td>\n",
       "      <td>8.0</td>\n",
       "      <td>2012-02-10T03:40:07Z</td>\n",
       "      <td>2019-10-29T12:40:37Z</td>\n",
       "      <td>1.2</td>\n",
       "      <td>2.99</td>\n",
       "      <td>USD</td>\n",
       "      <td>439568839</td>\n",
       "      <td>i-editeur.com</td>\n",
       "      <td>https://apps.apple.com/us/developer/i-editeur-...</td>\n",
       "      <td>0.0</td>\n",
       "      <td>0</td>\n",
       "      <td>0.0</td>\n",
       "      <td>0</td>\n",
       "      <td>78.059570</td>\n",
       "      <td>Paid</td>\n",
       "    </tr>\n",
       "    <tr>\n",
       "      <th>4</th>\n",
       "      <td>com.imonstersoft.azdictionaryios</td>\n",
       "      <td>A-Z Synonyms Dictionary</td>\n",
       "      <td>https://apps.apple.com/us/app/a-z-synonyms-dic...</td>\n",
       "      <td>Reference</td>\n",
       "      <td>4+</td>\n",
       "      <td>64692224.0</td>\n",
       "      <td>9.0</td>\n",
       "      <td>2020-12-16T08:00:00Z</td>\n",
       "      <td>2020-12-18T21:36:11Z</td>\n",
       "      <td>1.0.1</td>\n",
       "      <td>0.00</td>\n",
       "      <td>USD</td>\n",
       "      <td>656731821</td>\n",
       "      <td>Ngov chiheang</td>\n",
       "      <td>https://apps.apple.com/us/developer/ngov-chihe...</td>\n",
       "      <td>0.0</td>\n",
       "      <td>0</td>\n",
       "      <td>0.0</td>\n",
       "      <td>0</td>\n",
       "      <td>61.695312</td>\n",
       "      <td>Free</td>\n",
       "    </tr>\n",
       "  </tbody>\n",
       "</table>\n",
       "</div>"
      ],
      "text/plain": [
       "                             App_Id                 App_Name  \\\n",
       "0               com.hkbu.arc.apaper           A+ Paper Guide   \n",
       "1               com.dmitriev.abooks                  A-Books   \n",
       "2                    no.terp.abooks                  A-books   \n",
       "3          fr.antoinettefleur.Book1              A-F Book #1   \n",
       "4  com.imonstersoft.azdictionaryios  A-Z Synonyms Dictionary   \n",
       "\n",
       "                                        AppStore_Url Primary_Genre  \\\n",
       "0  https://apps.apple.com/us/app/a-paper-guide/id...     Education   \n",
       "1  https://apps.apple.com/us/app/a-books/id103157...          Book   \n",
       "2  https://apps.apple.com/us/app/a-books/id145702...          Book   \n",
       "3  https://apps.apple.com/us/app/a-f-book-1/id500...          Book   \n",
       "4  https://apps.apple.com/us/app/a-z-synonyms-dic...     Reference   \n",
       "\n",
       "  Content_Rating  Size_Bytes Required_IOS_Version              Released  \\\n",
       "0             4+  21993472.0                  8.0  2017-09-28T03:02:41Z   \n",
       "1             4+  13135872.0                 10.0  2015-08-31T19:31:32Z   \n",
       "2             4+  21943296.0                  9.0  2021-04-14T07:00:00Z   \n",
       "3             4+  81851392.0                  8.0  2012-02-10T03:40:07Z   \n",
       "4             4+  64692224.0                  9.0  2020-12-16T08:00:00Z   \n",
       "\n",
       "                Updated Version  Price Currency  DeveloperId       Developer  \\\n",
       "0  2018-12-21T21:30:36Z   1.1.2   0.00      USD   1375410542        HKBU ARC   \n",
       "1  2019-07-23T20:31:09Z     1.3   0.00      USD   1031572001  Roman Dmitriev   \n",
       "2  2021-05-30T21:08:54Z   1.3.1   0.00      USD   1457024163         Terp AS   \n",
       "3  2019-10-29T12:40:37Z     1.2   2.99      USD    439568839   i-editeur.com   \n",
       "4  2020-12-18T21:36:11Z   1.0.1   0.00      USD    656731821   Ngov chiheang   \n",
       "\n",
       "                                       Developer_Url  Average_User_Rating  \\\n",
       "0  https://apps.apple.com/us/developer/hkbu-arc/i...                  0.0   \n",
       "1  https://apps.apple.com/us/developer/roman-dmit...                  5.0   \n",
       "2  https://apps.apple.com/us/developer/terp-as/id...                  0.0   \n",
       "3  https://apps.apple.com/us/developer/i-editeur-...                  0.0   \n",
       "4  https://apps.apple.com/us/developer/ngov-chihe...                  0.0   \n",
       "\n",
       "   Reviews  Current_Version_Score  Current_Version_Reviews    Size_MB  Type  \n",
       "0        0                    0.0                        0  20.974609  Free  \n",
       "1        1                    5.0                        1  12.527344  Free  \n",
       "2        0                    0.0                        0  20.926758  Free  \n",
       "3        0                    0.0                        0  78.059570  Paid  \n",
       "4        0                    0.0                        0  61.695312  Free  "
      ]
     },
     "execution_count": 41,
     "metadata": {},
     "output_type": "execute_result"
    }
   ],
   "source": [
    "df.head(5)"
   ]
  },
  {
   "cell_type": "code",
   "execution_count": 42,
   "id": "6fed2d01",
   "metadata": {
    "execution": {
     "iopub.execute_input": "2023-03-21T20:17:09.269642Z",
     "iopub.status.busy": "2023-03-21T20:17:09.268724Z",
     "iopub.status.idle": "2023-03-21T20:17:09.315370Z",
     "shell.execute_reply": "2023-03-21T20:17:09.314012Z"
    },
    "papermill": {
     "duration": 0.089344,
     "end_time": "2023-03-21T20:17:09.318379",
     "exception": false,
     "start_time": "2023-03-21T20:17:09.229035",
     "status": "completed"
    },
    "tags": []
   },
   "outputs": [
    {
     "data": {
      "text/plain": [
       "count    1.229263e+06\n",
       "mean     8.266250e+02\n",
       "std      5.018320e+04\n",
       "min      0.000000e+00\n",
       "25%      0.000000e+00\n",
       "50%      0.000000e+00\n",
       "75%      3.000000e+00\n",
       "max      2.268533e+07\n",
       "Name: Reviews, dtype: float64"
      ]
     },
     "execution_count": 42,
     "metadata": {},
     "output_type": "execute_result"
    }
   ],
   "source": [
    "df.Reviews.describe()"
   ]
  },
  {
   "cell_type": "markdown",
   "id": "2163c831",
   "metadata": {
    "papermill": {
     "duration": 0.037897,
     "end_time": "2023-03-21T20:17:09.394011",
     "exception": false,
     "start_time": "2023-03-21T20:17:09.356114",
     "status": "completed"
    },
    "tags": []
   },
   "source": [
    "### 5.7 Viewing the content of the column 'Content_Rating'\n",
    "- First we will view the unique values present in this column"
   ]
  },
  {
   "cell_type": "code",
   "execution_count": 43,
   "id": "6694b777",
   "metadata": {
    "execution": {
     "iopub.execute_input": "2023-03-21T20:17:09.471786Z",
     "iopub.status.busy": "2023-03-21T20:17:09.471332Z",
     "iopub.status.idle": "2023-03-21T20:17:09.564344Z",
     "shell.execute_reply": "2023-03-21T20:17:09.562410Z"
    },
    "papermill": {
     "duration": 0.135445,
     "end_time": "2023-03-21T20:17:09.567364",
     "exception": false,
     "start_time": "2023-03-21T20:17:09.431919",
     "status": "completed"
    },
    "tags": []
   },
   "outputs": [
    {
     "name": "stdout",
     "output_type": "stream",
     "text": [
      "4+\n",
      "17+\n",
      "9+\n",
      "12+\n",
      "Not yet rated\n"
     ]
    }
   ],
   "source": [
    "for i in df.Content_Rating.unique():\n",
    "    print(i)"
   ]
  },
  {
   "cell_type": "markdown",
   "id": "edb41424",
   "metadata": {
    "papermill": {
     "duration": 0.038135,
     "end_time": "2023-03-21T20:17:09.644201",
     "exception": false,
     "start_time": "2023-03-21T20:17:09.606066",
     "status": "completed"
    },
    "tags": []
   },
   "source": [
    "#### Observation Set 6:     \n",
    "1. we have various Categories in the content Rating column :    \n",
    "- 4+\n",
    "- 17+\n",
    "- 9+\n",
    "- 12+\n",
    "- Not yet rated            \n",
    "\n",
    "Now, we makes these categories to a simple 4 readable  Categories for better understanding :     \n",
    "   Children, Teens, Adults & Everyone\n",
    "    \n",
    "- 4+: Children\n",
    "- 17+: Adults\n",
    "- 9+: Children\n",
    "- 12+: Teens\n",
    "- Not yet rated : Everyone"
   ]
  },
  {
   "cell_type": "code",
   "execution_count": 44,
   "id": "b3800718",
   "metadata": {
    "execution": {
     "iopub.execute_input": "2023-03-21T20:17:09.723030Z",
     "iopub.status.busy": "2023-03-21T20:17:09.722167Z",
     "iopub.status.idle": "2023-03-21T20:17:10.053509Z",
     "shell.execute_reply": "2023-03-21T20:17:10.052411Z"
    },
    "papermill": {
     "duration": 0.374489,
     "end_time": "2023-03-21T20:17:10.056574",
     "exception": false,
     "start_time": "2023-03-21T20:17:09.682085",
     "status": "completed"
    },
    "tags": []
   },
   "outputs": [],
   "source": [
    "df[\"Content_Rating\"]=df[\"Content_Rating\"].replace(\"4+\",\"Children\")\n",
    "df[\"Content_Rating\"]=df[\"Content_Rating\"].replace(\"9+\",\"Children\")\n",
    "df[\"Content_Rating\"]=df[\"Content_Rating\"].replace(\"12+\",\"Teens\")\n",
    "df[\"Content_Rating\"]=df[\"Content_Rating\"].replace(\"17+\",\"Adults\")\n",
    "df[\"Content_Rating\"]=df[\"Content_Rating\"].replace(\"Not yet rated\",\"Everyone\")"
   ]
  },
  {
   "cell_type": "markdown",
   "id": "f566cb15",
   "metadata": {
    "papermill": {
     "duration": 0.038441,
     "end_time": "2023-03-21T20:17:10.134583",
     "exception": false,
     "start_time": "2023-03-21T20:17:10.096142",
     "status": "completed"
    },
    "tags": []
   },
   "source": [
    "- Presenting the content of the coulumn in Ascending order 'Children', 'Teens', 'Everyone', 'Adults'"
   ]
  },
  {
   "cell_type": "code",
   "execution_count": 45,
   "id": "035d2d83",
   "metadata": {
    "execution": {
     "iopub.execute_input": "2023-03-21T20:17:10.212888Z",
     "iopub.status.busy": "2023-03-21T20:17:10.212413Z",
     "iopub.status.idle": "2023-03-21T20:17:10.312466Z",
     "shell.execute_reply": "2023-03-21T20:17:10.310656Z"
    },
    "papermill": {
     "duration": 0.142808,
     "end_time": "2023-03-21T20:17:10.315637",
     "exception": false,
     "start_time": "2023-03-21T20:17:10.172829",
     "status": "completed"
    },
    "tags": []
   },
   "outputs": [
    {
     "name": "stdout",
     "output_type": "stream",
     "text": [
      "['Children', 'Teens', 'Everyone', 'Adults']\n"
     ]
    }
   ],
   "source": [
    "agegroup = df['Content_Rating'].unique()\n",
    "\n",
    "# define the order in which you want to print the values\n",
    "custom_order = ['Children', 'Teens', 'Everyone', 'Adults']\n",
    "\n",
    "# sort the array in the custom order\n",
    "sorted_array = sorted(['Children', 'Adults', 'Teens', 'Everyone'], key=lambda x: custom_order.index(x))\n",
    "\n",
    "# print the sorted array\n",
    "print(sorted_array)\n"
   ]
  },
  {
   "cell_type": "code",
   "execution_count": 46,
   "id": "d18d03af",
   "metadata": {
    "execution": {
     "iopub.execute_input": "2023-03-21T20:17:10.402335Z",
     "iopub.status.busy": "2023-03-21T20:17:10.401440Z",
     "iopub.status.idle": "2023-03-21T20:17:10.429669Z",
     "shell.execute_reply": "2023-03-21T20:17:10.427916Z"
    },
    "papermill": {
     "duration": 0.078377,
     "end_time": "2023-03-21T20:17:10.433901",
     "exception": false,
     "start_time": "2023-03-21T20:17:10.355524",
     "status": "completed"
    },
    "tags": []
   },
   "outputs": [
    {
     "data": {
      "text/html": [
       "<div>\n",
       "<style scoped>\n",
       "    .dataframe tbody tr th:only-of-type {\n",
       "        vertical-align: middle;\n",
       "    }\n",
       "\n",
       "    .dataframe tbody tr th {\n",
       "        vertical-align: top;\n",
       "    }\n",
       "\n",
       "    .dataframe thead th {\n",
       "        text-align: right;\n",
       "    }\n",
       "</style>\n",
       "<table border=\"1\" class=\"dataframe\">\n",
       "  <thead>\n",
       "    <tr style=\"text-align: right;\">\n",
       "      <th></th>\n",
       "      <th>App_Id</th>\n",
       "      <th>App_Name</th>\n",
       "      <th>AppStore_Url</th>\n",
       "      <th>Primary_Genre</th>\n",
       "      <th>Content_Rating</th>\n",
       "      <th>Size_Bytes</th>\n",
       "      <th>Required_IOS_Version</th>\n",
       "      <th>Released</th>\n",
       "      <th>Updated</th>\n",
       "      <th>Version</th>\n",
       "      <th>Price</th>\n",
       "      <th>Currency</th>\n",
       "      <th>DeveloperId</th>\n",
       "      <th>Developer</th>\n",
       "      <th>Developer_Url</th>\n",
       "      <th>Average_User_Rating</th>\n",
       "      <th>Reviews</th>\n",
       "      <th>Current_Version_Score</th>\n",
       "      <th>Current_Version_Reviews</th>\n",
       "      <th>Size_MB</th>\n",
       "      <th>Type</th>\n",
       "    </tr>\n",
       "  </thead>\n",
       "  <tbody>\n",
       "    <tr>\n",
       "      <th>0</th>\n",
       "      <td>com.hkbu.arc.apaper</td>\n",
       "      <td>A+ Paper Guide</td>\n",
       "      <td>https://apps.apple.com/us/app/a-paper-guide/id...</td>\n",
       "      <td>Education</td>\n",
       "      <td>Children</td>\n",
       "      <td>21993472.0</td>\n",
       "      <td>8.0</td>\n",
       "      <td>2017-09-28T03:02:41Z</td>\n",
       "      <td>2018-12-21T21:30:36Z</td>\n",
       "      <td>1.1.2</td>\n",
       "      <td>0.00</td>\n",
       "      <td>USD</td>\n",
       "      <td>1375410542</td>\n",
       "      <td>HKBU ARC</td>\n",
       "      <td>https://apps.apple.com/us/developer/hkbu-arc/i...</td>\n",
       "      <td>0.0</td>\n",
       "      <td>0</td>\n",
       "      <td>0.0</td>\n",
       "      <td>0</td>\n",
       "      <td>20.974609</td>\n",
       "      <td>Free</td>\n",
       "    </tr>\n",
       "    <tr>\n",
       "      <th>1</th>\n",
       "      <td>com.dmitriev.abooks</td>\n",
       "      <td>A-Books</td>\n",
       "      <td>https://apps.apple.com/us/app/a-books/id103157...</td>\n",
       "      <td>Book</td>\n",
       "      <td>Children</td>\n",
       "      <td>13135872.0</td>\n",
       "      <td>10.0</td>\n",
       "      <td>2015-08-31T19:31:32Z</td>\n",
       "      <td>2019-07-23T20:31:09Z</td>\n",
       "      <td>1.3</td>\n",
       "      <td>0.00</td>\n",
       "      <td>USD</td>\n",
       "      <td>1031572001</td>\n",
       "      <td>Roman Dmitriev</td>\n",
       "      <td>https://apps.apple.com/us/developer/roman-dmit...</td>\n",
       "      <td>5.0</td>\n",
       "      <td>1</td>\n",
       "      <td>5.0</td>\n",
       "      <td>1</td>\n",
       "      <td>12.527344</td>\n",
       "      <td>Free</td>\n",
       "    </tr>\n",
       "    <tr>\n",
       "      <th>2</th>\n",
       "      <td>no.terp.abooks</td>\n",
       "      <td>A-books</td>\n",
       "      <td>https://apps.apple.com/us/app/a-books/id145702...</td>\n",
       "      <td>Book</td>\n",
       "      <td>Children</td>\n",
       "      <td>21943296.0</td>\n",
       "      <td>9.0</td>\n",
       "      <td>2021-04-14T07:00:00Z</td>\n",
       "      <td>2021-05-30T21:08:54Z</td>\n",
       "      <td>1.3.1</td>\n",
       "      <td>0.00</td>\n",
       "      <td>USD</td>\n",
       "      <td>1457024163</td>\n",
       "      <td>Terp AS</td>\n",
       "      <td>https://apps.apple.com/us/developer/terp-as/id...</td>\n",
       "      <td>0.0</td>\n",
       "      <td>0</td>\n",
       "      <td>0.0</td>\n",
       "      <td>0</td>\n",
       "      <td>20.926758</td>\n",
       "      <td>Free</td>\n",
       "    </tr>\n",
       "    <tr>\n",
       "      <th>3</th>\n",
       "      <td>fr.antoinettefleur.Book1</td>\n",
       "      <td>A-F Book #1</td>\n",
       "      <td>https://apps.apple.com/us/app/a-f-book-1/id500...</td>\n",
       "      <td>Book</td>\n",
       "      <td>Children</td>\n",
       "      <td>81851392.0</td>\n",
       "      <td>8.0</td>\n",
       "      <td>2012-02-10T03:40:07Z</td>\n",
       "      <td>2019-10-29T12:40:37Z</td>\n",
       "      <td>1.2</td>\n",
       "      <td>2.99</td>\n",
       "      <td>USD</td>\n",
       "      <td>439568839</td>\n",
       "      <td>i-editeur.com</td>\n",
       "      <td>https://apps.apple.com/us/developer/i-editeur-...</td>\n",
       "      <td>0.0</td>\n",
       "      <td>0</td>\n",
       "      <td>0.0</td>\n",
       "      <td>0</td>\n",
       "      <td>78.059570</td>\n",
       "      <td>Paid</td>\n",
       "    </tr>\n",
       "    <tr>\n",
       "      <th>4</th>\n",
       "      <td>com.imonstersoft.azdictionaryios</td>\n",
       "      <td>A-Z Synonyms Dictionary</td>\n",
       "      <td>https://apps.apple.com/us/app/a-z-synonyms-dic...</td>\n",
       "      <td>Reference</td>\n",
       "      <td>Children</td>\n",
       "      <td>64692224.0</td>\n",
       "      <td>9.0</td>\n",
       "      <td>2020-12-16T08:00:00Z</td>\n",
       "      <td>2020-12-18T21:36:11Z</td>\n",
       "      <td>1.0.1</td>\n",
       "      <td>0.00</td>\n",
       "      <td>USD</td>\n",
       "      <td>656731821</td>\n",
       "      <td>Ngov chiheang</td>\n",
       "      <td>https://apps.apple.com/us/developer/ngov-chihe...</td>\n",
       "      <td>0.0</td>\n",
       "      <td>0</td>\n",
       "      <td>0.0</td>\n",
       "      <td>0</td>\n",
       "      <td>61.695312</td>\n",
       "      <td>Free</td>\n",
       "    </tr>\n",
       "  </tbody>\n",
       "</table>\n",
       "</div>"
      ],
      "text/plain": [
       "                             App_Id                 App_Name  \\\n",
       "0               com.hkbu.arc.apaper           A+ Paper Guide   \n",
       "1               com.dmitriev.abooks                  A-Books   \n",
       "2                    no.terp.abooks                  A-books   \n",
       "3          fr.antoinettefleur.Book1              A-F Book #1   \n",
       "4  com.imonstersoft.azdictionaryios  A-Z Synonyms Dictionary   \n",
       "\n",
       "                                        AppStore_Url Primary_Genre  \\\n",
       "0  https://apps.apple.com/us/app/a-paper-guide/id...     Education   \n",
       "1  https://apps.apple.com/us/app/a-books/id103157...          Book   \n",
       "2  https://apps.apple.com/us/app/a-books/id145702...          Book   \n",
       "3  https://apps.apple.com/us/app/a-f-book-1/id500...          Book   \n",
       "4  https://apps.apple.com/us/app/a-z-synonyms-dic...     Reference   \n",
       "\n",
       "  Content_Rating  Size_Bytes Required_IOS_Version              Released  \\\n",
       "0       Children  21993472.0                  8.0  2017-09-28T03:02:41Z   \n",
       "1       Children  13135872.0                 10.0  2015-08-31T19:31:32Z   \n",
       "2       Children  21943296.0                  9.0  2021-04-14T07:00:00Z   \n",
       "3       Children  81851392.0                  8.0  2012-02-10T03:40:07Z   \n",
       "4       Children  64692224.0                  9.0  2020-12-16T08:00:00Z   \n",
       "\n",
       "                Updated Version  Price Currency  DeveloperId       Developer  \\\n",
       "0  2018-12-21T21:30:36Z   1.1.2   0.00      USD   1375410542        HKBU ARC   \n",
       "1  2019-07-23T20:31:09Z     1.3   0.00      USD   1031572001  Roman Dmitriev   \n",
       "2  2021-05-30T21:08:54Z   1.3.1   0.00      USD   1457024163         Terp AS   \n",
       "3  2019-10-29T12:40:37Z     1.2   2.99      USD    439568839   i-editeur.com   \n",
       "4  2020-12-18T21:36:11Z   1.0.1   0.00      USD    656731821   Ngov chiheang   \n",
       "\n",
       "                                       Developer_Url  Average_User_Rating  \\\n",
       "0  https://apps.apple.com/us/developer/hkbu-arc/i...                  0.0   \n",
       "1  https://apps.apple.com/us/developer/roman-dmit...                  5.0   \n",
       "2  https://apps.apple.com/us/developer/terp-as/id...                  0.0   \n",
       "3  https://apps.apple.com/us/developer/i-editeur-...                  0.0   \n",
       "4  https://apps.apple.com/us/developer/ngov-chihe...                  0.0   \n",
       "\n",
       "   Reviews  Current_Version_Score  Current_Version_Reviews    Size_MB  Type  \n",
       "0        0                    0.0                        0  20.974609  Free  \n",
       "1        1                    5.0                        1  12.527344  Free  \n",
       "2        0                    0.0                        0  20.926758  Free  \n",
       "3        0                    0.0                        0  78.059570  Paid  \n",
       "4        0                    0.0                        0  61.695312  Free  "
      ]
     },
     "execution_count": 46,
     "metadata": {},
     "output_type": "execute_result"
    }
   ],
   "source": [
    "df.head(5)"
   ]
  },
  {
   "cell_type": "markdown",
   "id": "ecfb4c4f",
   "metadata": {
    "papermill": {
     "duration": 0.040486,
     "end_time": "2023-03-21T20:17:10.515430",
     "exception": false,
     "start_time": "2023-03-21T20:17:10.474944",
     "status": "completed"
    },
    "tags": []
   },
   "source": [
    "### 5.8 Let's change the Reviews to certain ranges for the better understanding of the data"
   ]
  },
  {
   "cell_type": "code",
   "execution_count": 47,
   "id": "c65c6331",
   "metadata": {
    "execution": {
     "iopub.execute_input": "2023-03-21T20:17:10.600208Z",
     "iopub.status.busy": "2023-03-21T20:17:10.599360Z",
     "iopub.status.idle": "2023-03-21T20:17:10.609188Z",
     "shell.execute_reply": "2023-03-21T20:17:10.607970Z"
    },
    "papermill": {
     "duration": 0.056299,
     "end_time": "2023-03-21T20:17:10.611813",
     "exception": false,
     "start_time": "2023-03-21T20:17:10.555514",
     "status": "completed"
    },
    "tags": []
   },
   "outputs": [
    {
     "data": {
      "text/plain": [
       "0"
      ]
     },
     "execution_count": 47,
     "metadata": {},
     "output_type": "execute_result"
    }
   ],
   "source": [
    "df.Reviews.min()"
   ]
  },
  {
   "cell_type": "code",
   "execution_count": 48,
   "id": "448960e1",
   "metadata": {
    "execution": {
     "iopub.execute_input": "2023-03-21T20:17:10.773046Z",
     "iopub.status.busy": "2023-03-21T20:17:10.771777Z",
     "iopub.status.idle": "2023-03-21T20:17:10.783225Z",
     "shell.execute_reply": "2023-03-21T20:17:10.781941Z"
    },
    "papermill": {
     "duration": 0.058528,
     "end_time": "2023-03-21T20:17:10.786173",
     "exception": false,
     "start_time": "2023-03-21T20:17:10.727645",
     "status": "completed"
    },
    "tags": []
   },
   "outputs": [
    {
     "data": {
      "text/plain": [
       "22685334"
      ]
     },
     "execution_count": 48,
     "metadata": {},
     "output_type": "execute_result"
    }
   ],
   "source": [
    "\n",
    "df.Reviews.max()"
   ]
  },
  {
   "cell_type": "code",
   "execution_count": 49,
   "id": "690c80d8",
   "metadata": {
    "execution": {
     "iopub.execute_input": "2023-03-21T20:17:10.886069Z",
     "iopub.status.busy": "2023-03-21T20:17:10.884982Z",
     "iopub.status.idle": "2023-03-21T20:17:10.941453Z",
     "shell.execute_reply": "2023-03-21T20:17:10.939050Z"
    },
    "papermill": {
     "duration": 0.107793,
     "end_time": "2023-03-21T20:17:10.944839",
     "exception": false,
     "start_time": "2023-03-21T20:17:10.837046",
     "status": "completed"
    },
    "tags": []
   },
   "outputs": [
    {
     "data": {
      "text/plain": [
       "count    1.229263e+06\n",
       "mean     8.266250e+02\n",
       "std      5.018320e+04\n",
       "min      0.000000e+00\n",
       "25%      0.000000e+00\n",
       "50%      0.000000e+00\n",
       "75%      3.000000e+00\n",
       "max      2.268533e+07\n",
       "Name: Reviews, dtype: float64"
      ]
     },
     "execution_count": 49,
     "metadata": {},
     "output_type": "execute_result"
    }
   ],
   "source": [
    "df.Reviews.describe()"
   ]
  },
  {
   "cell_type": "markdown",
   "id": "f98ffdaf",
   "metadata": {
    "papermill": {
     "duration": 0.04207,
     "end_time": "2023-03-21T20:17:11.031438",
     "exception": false,
     "start_time": "2023-03-21T20:17:10.989368",
     "status": "completed"
    },
    "tags": []
   },
   "source": [
    "#### Observation Set 7:   \n",
    "Review column is  numeric column that holds information about the number fo reviews users left while dowloading /using the app  \n",
    "> We have a long sequence of data when it comes to  Reviews column :    \n",
    "\n",
    "min      0\n",
    "max      22685334       \n",
    "\n",
    "We can club this long sequence into a compressed form and presentation. In another column called ReviewCategory\n",
    "    \n",
    "- if an app has reviews between 0 and 10000 --> Less than 10K\n",
    "- if an app has reviews between 10000 and 500000 --> Between 10K and 500K\n",
    "- if an app has reviews between 500000 and 1000000 --> Between 500K and 1Mil\n",
    "- if an app has reviews between 1000000 and 22685334 --> Million Plus"
   ]
  },
  {
   "cell_type": "code",
   "execution_count": 50,
   "id": "fadd7c04",
   "metadata": {
    "execution": {
     "iopub.execute_input": "2023-03-21T20:17:11.126629Z",
     "iopub.status.busy": "2023-03-21T20:17:11.125535Z",
     "iopub.status.idle": "2023-03-21T20:17:11.360732Z",
     "shell.execute_reply": "2023-03-21T20:17:11.359345Z"
    },
    "papermill": {
     "duration": 0.291522,
     "end_time": "2023-03-21T20:17:11.364700",
     "exception": false,
     "start_time": "2023-03-21T20:17:11.073178",
     "status": "completed"
    },
    "tags": []
   },
   "outputs": [
    {
     "data": {
      "text/plain": [
       "ReviewCategory\n",
       "NoReviewsProvided        683549\n",
       "Less than 10K            538691\n",
       "Between 10K and 500K       6725\n",
       "Million Plus                152\n",
       "Between 500K and 1Mil       146\n",
       "Name: count, dtype: int64"
      ]
     },
     "execution_count": 50,
     "metadata": {},
     "output_type": "execute_result"
    }
   ],
   "source": [
    "df['ReviewCategory'] = 'NoReviewsProvided'\n",
    "df.loc[(df['Reviews'] > 0) & (df['Reviews'] <= 10000.0),'ReviewCategory'] = 'Less than 10K'\n",
    "df.loc[(df['Reviews'] > 10000) & (df['Reviews'] <= 500000.0),'ReviewCategory'] = 'Between 10K and 500K'\n",
    "df.loc[(df['Reviews'] > 500000) & (df['Reviews'] <= 1000000),'ReviewCategory'] = 'Between 500K and 1Mil'\n",
    "df.loc[(df['Reviews'] > 1000000) & (df['Reviews'] <= 22685334),'ReviewCategory'] = 'Million Plus'\n",
    "df['ReviewCategory'].value_counts()"
   ]
  },
  {
   "cell_type": "code",
   "execution_count": 51,
   "id": "663d57ea",
   "metadata": {
    "execution": {
     "iopub.execute_input": "2023-03-21T20:17:11.451010Z",
     "iopub.status.busy": "2023-03-21T20:17:11.449608Z",
     "iopub.status.idle": "2023-03-21T20:17:12.358199Z",
     "shell.execute_reply": "2023-03-21T20:17:12.356775Z"
    },
    "papermill": {
     "duration": 0.954901,
     "end_time": "2023-03-21T20:17:12.361286",
     "exception": false,
     "start_time": "2023-03-21T20:17:11.406385",
     "status": "completed"
    },
    "tags": []
   },
   "outputs": [
    {
     "name": "stdout",
     "output_type": "stream",
     "text": [
      "<class 'pandas.core.frame.DataFrame'>\n",
      "Index: 1229263 entries, 0 to 1230375\n",
      "Data columns (total 22 columns):\n",
      " #   Column                   Non-Null Count    Dtype  \n",
      "---  ------                   --------------    -----  \n",
      " 0   App_Id                   1229263 non-null  object \n",
      " 1   App_Name                 1229263 non-null  object \n",
      " 2   AppStore_Url             1229263 non-null  object \n",
      " 3   Primary_Genre            1229263 non-null  object \n",
      " 4   Content_Rating           1229263 non-null  object \n",
      " 5   Size_Bytes               1229263 non-null  float64\n",
      " 6   Required_IOS_Version     1229263 non-null  object \n",
      " 7   Released                 1229263 non-null  object \n",
      " 8   Updated                  1229263 non-null  object \n",
      " 9   Version                  1229263 non-null  object \n",
      " 10  Price                    1229263 non-null  float64\n",
      " 11  Currency                 1229263 non-null  object \n",
      " 12  DeveloperId              1229263 non-null  int64  \n",
      " 13  Developer                1229263 non-null  object \n",
      " 14  Developer_Url            1229263 non-null  object \n",
      " 15  Average_User_Rating      1229263 non-null  float64\n",
      " 16  Reviews                  1229263 non-null  int64  \n",
      " 17  Current_Version_Score    1229263 non-null  float64\n",
      " 18  Current_Version_Reviews  1229263 non-null  int64  \n",
      " 19  Size_MB                  1229263 non-null  float64\n",
      " 20  Type                     1229263 non-null  object \n",
      " 21  ReviewCategory           1229263 non-null  object \n",
      "dtypes: float64(5), int64(3), object(14)\n",
      "memory usage: 215.7+ MB\n"
     ]
    }
   ],
   "source": [
    "df.info()"
   ]
  },
  {
   "cell_type": "markdown",
   "id": "993d46f1",
   "metadata": {
    "papermill": {
     "duration": 0.039974,
     "end_time": "2023-03-21T20:17:12.441471",
     "exception": false,
     "start_time": "2023-03-21T20:17:12.401497",
     "status": "completed"
    },
    "tags": []
   },
   "source": [
    "### 5.9 Cleaning Average_User_Rating column\n",
    "Let's round off and store the float decimal values in the df.Average_User_Rating column, which are currently in the range of 0 to 5."
   ]
  },
  {
   "cell_type": "code",
   "execution_count": 52,
   "id": "d5711f32",
   "metadata": {
    "execution": {
     "iopub.execute_input": "2023-03-21T20:17:12.526077Z",
     "iopub.status.busy": "2023-03-21T20:17:12.525337Z",
     "iopub.status.idle": "2023-03-21T20:17:12.554681Z",
     "shell.execute_reply": "2023-03-21T20:17:12.553268Z"
    },
    "papermill": {
     "duration": 0.075762,
     "end_time": "2023-03-21T20:17:12.557526",
     "exception": false,
     "start_time": "2023-03-21T20:17:12.481764",
     "status": "completed"
    },
    "tags": []
   },
   "outputs": [],
   "source": [
    "df[\"Average_User_Rating\"] = df[\"Average_User_Rating\"].round().astype(int)"
   ]
  },
  {
   "cell_type": "code",
   "execution_count": 53,
   "id": "ee0930b8",
   "metadata": {
    "execution": {
     "iopub.execute_input": "2023-03-21T20:17:12.645811Z",
     "iopub.status.busy": "2023-03-21T20:17:12.644631Z",
     "iopub.status.idle": "2023-03-21T20:17:12.670272Z",
     "shell.execute_reply": "2023-03-21T20:17:12.669304Z"
    },
    "papermill": {
     "duration": 0.073141,
     "end_time": "2023-03-21T20:17:12.673069",
     "exception": false,
     "start_time": "2023-03-21T20:17:12.599928",
     "status": "completed"
    },
    "tags": []
   },
   "outputs": [
    {
     "data": {
      "text/html": [
       "<div>\n",
       "<style scoped>\n",
       "    .dataframe tbody tr th:only-of-type {\n",
       "        vertical-align: middle;\n",
       "    }\n",
       "\n",
       "    .dataframe tbody tr th {\n",
       "        vertical-align: top;\n",
       "    }\n",
       "\n",
       "    .dataframe thead th {\n",
       "        text-align: right;\n",
       "    }\n",
       "</style>\n",
       "<table border=\"1\" class=\"dataframe\">\n",
       "  <thead>\n",
       "    <tr style=\"text-align: right;\">\n",
       "      <th></th>\n",
       "      <th>App_Id</th>\n",
       "      <th>App_Name</th>\n",
       "      <th>AppStore_Url</th>\n",
       "      <th>Primary_Genre</th>\n",
       "      <th>Content_Rating</th>\n",
       "      <th>Size_Bytes</th>\n",
       "      <th>Required_IOS_Version</th>\n",
       "      <th>Released</th>\n",
       "      <th>Updated</th>\n",
       "      <th>Version</th>\n",
       "      <th>Price</th>\n",
       "      <th>Currency</th>\n",
       "      <th>DeveloperId</th>\n",
       "      <th>Developer</th>\n",
       "      <th>Developer_Url</th>\n",
       "      <th>Average_User_Rating</th>\n",
       "      <th>Reviews</th>\n",
       "      <th>Current_Version_Score</th>\n",
       "      <th>Current_Version_Reviews</th>\n",
       "      <th>Size_MB</th>\n",
       "      <th>Type</th>\n",
       "      <th>ReviewCategory</th>\n",
       "    </tr>\n",
       "  </thead>\n",
       "  <tbody>\n",
       "    <tr>\n",
       "      <th>0</th>\n",
       "      <td>com.hkbu.arc.apaper</td>\n",
       "      <td>A+ Paper Guide</td>\n",
       "      <td>https://apps.apple.com/us/app/a-paper-guide/id...</td>\n",
       "      <td>Education</td>\n",
       "      <td>Children</td>\n",
       "      <td>21993472.0</td>\n",
       "      <td>8.0</td>\n",
       "      <td>2017-09-28T03:02:41Z</td>\n",
       "      <td>2018-12-21T21:30:36Z</td>\n",
       "      <td>1.1.2</td>\n",
       "      <td>0.00</td>\n",
       "      <td>USD</td>\n",
       "      <td>1375410542</td>\n",
       "      <td>HKBU ARC</td>\n",
       "      <td>https://apps.apple.com/us/developer/hkbu-arc/i...</td>\n",
       "      <td>0</td>\n",
       "      <td>0</td>\n",
       "      <td>0.0</td>\n",
       "      <td>0</td>\n",
       "      <td>20.974609</td>\n",
       "      <td>Free</td>\n",
       "      <td>NoReviewsProvided</td>\n",
       "    </tr>\n",
       "    <tr>\n",
       "      <th>1</th>\n",
       "      <td>com.dmitriev.abooks</td>\n",
       "      <td>A-Books</td>\n",
       "      <td>https://apps.apple.com/us/app/a-books/id103157...</td>\n",
       "      <td>Book</td>\n",
       "      <td>Children</td>\n",
       "      <td>13135872.0</td>\n",
       "      <td>10.0</td>\n",
       "      <td>2015-08-31T19:31:32Z</td>\n",
       "      <td>2019-07-23T20:31:09Z</td>\n",
       "      <td>1.3</td>\n",
       "      <td>0.00</td>\n",
       "      <td>USD</td>\n",
       "      <td>1031572001</td>\n",
       "      <td>Roman Dmitriev</td>\n",
       "      <td>https://apps.apple.com/us/developer/roman-dmit...</td>\n",
       "      <td>5</td>\n",
       "      <td>1</td>\n",
       "      <td>5.0</td>\n",
       "      <td>1</td>\n",
       "      <td>12.527344</td>\n",
       "      <td>Free</td>\n",
       "      <td>Less than 10K</td>\n",
       "    </tr>\n",
       "    <tr>\n",
       "      <th>2</th>\n",
       "      <td>no.terp.abooks</td>\n",
       "      <td>A-books</td>\n",
       "      <td>https://apps.apple.com/us/app/a-books/id145702...</td>\n",
       "      <td>Book</td>\n",
       "      <td>Children</td>\n",
       "      <td>21943296.0</td>\n",
       "      <td>9.0</td>\n",
       "      <td>2021-04-14T07:00:00Z</td>\n",
       "      <td>2021-05-30T21:08:54Z</td>\n",
       "      <td>1.3.1</td>\n",
       "      <td>0.00</td>\n",
       "      <td>USD</td>\n",
       "      <td>1457024163</td>\n",
       "      <td>Terp AS</td>\n",
       "      <td>https://apps.apple.com/us/developer/terp-as/id...</td>\n",
       "      <td>0</td>\n",
       "      <td>0</td>\n",
       "      <td>0.0</td>\n",
       "      <td>0</td>\n",
       "      <td>20.926758</td>\n",
       "      <td>Free</td>\n",
       "      <td>NoReviewsProvided</td>\n",
       "    </tr>\n",
       "    <tr>\n",
       "      <th>3</th>\n",
       "      <td>fr.antoinettefleur.Book1</td>\n",
       "      <td>A-F Book #1</td>\n",
       "      <td>https://apps.apple.com/us/app/a-f-book-1/id500...</td>\n",
       "      <td>Book</td>\n",
       "      <td>Children</td>\n",
       "      <td>81851392.0</td>\n",
       "      <td>8.0</td>\n",
       "      <td>2012-02-10T03:40:07Z</td>\n",
       "      <td>2019-10-29T12:40:37Z</td>\n",
       "      <td>1.2</td>\n",
       "      <td>2.99</td>\n",
       "      <td>USD</td>\n",
       "      <td>439568839</td>\n",
       "      <td>i-editeur.com</td>\n",
       "      <td>https://apps.apple.com/us/developer/i-editeur-...</td>\n",
       "      <td>0</td>\n",
       "      <td>0</td>\n",
       "      <td>0.0</td>\n",
       "      <td>0</td>\n",
       "      <td>78.059570</td>\n",
       "      <td>Paid</td>\n",
       "      <td>NoReviewsProvided</td>\n",
       "    </tr>\n",
       "    <tr>\n",
       "      <th>4</th>\n",
       "      <td>com.imonstersoft.azdictionaryios</td>\n",
       "      <td>A-Z Synonyms Dictionary</td>\n",
       "      <td>https://apps.apple.com/us/app/a-z-synonyms-dic...</td>\n",
       "      <td>Reference</td>\n",
       "      <td>Children</td>\n",
       "      <td>64692224.0</td>\n",
       "      <td>9.0</td>\n",
       "      <td>2020-12-16T08:00:00Z</td>\n",
       "      <td>2020-12-18T21:36:11Z</td>\n",
       "      <td>1.0.1</td>\n",
       "      <td>0.00</td>\n",
       "      <td>USD</td>\n",
       "      <td>656731821</td>\n",
       "      <td>Ngov chiheang</td>\n",
       "      <td>https://apps.apple.com/us/developer/ngov-chihe...</td>\n",
       "      <td>0</td>\n",
       "      <td>0</td>\n",
       "      <td>0.0</td>\n",
       "      <td>0</td>\n",
       "      <td>61.695312</td>\n",
       "      <td>Free</td>\n",
       "      <td>NoReviewsProvided</td>\n",
       "    </tr>\n",
       "  </tbody>\n",
       "</table>\n",
       "</div>"
      ],
      "text/plain": [
       "                             App_Id                 App_Name  \\\n",
       "0               com.hkbu.arc.apaper           A+ Paper Guide   \n",
       "1               com.dmitriev.abooks                  A-Books   \n",
       "2                    no.terp.abooks                  A-books   \n",
       "3          fr.antoinettefleur.Book1              A-F Book #1   \n",
       "4  com.imonstersoft.azdictionaryios  A-Z Synonyms Dictionary   \n",
       "\n",
       "                                        AppStore_Url Primary_Genre  \\\n",
       "0  https://apps.apple.com/us/app/a-paper-guide/id...     Education   \n",
       "1  https://apps.apple.com/us/app/a-books/id103157...          Book   \n",
       "2  https://apps.apple.com/us/app/a-books/id145702...          Book   \n",
       "3  https://apps.apple.com/us/app/a-f-book-1/id500...          Book   \n",
       "4  https://apps.apple.com/us/app/a-z-synonyms-dic...     Reference   \n",
       "\n",
       "  Content_Rating  Size_Bytes Required_IOS_Version              Released  \\\n",
       "0       Children  21993472.0                  8.0  2017-09-28T03:02:41Z   \n",
       "1       Children  13135872.0                 10.0  2015-08-31T19:31:32Z   \n",
       "2       Children  21943296.0                  9.0  2021-04-14T07:00:00Z   \n",
       "3       Children  81851392.0                  8.0  2012-02-10T03:40:07Z   \n",
       "4       Children  64692224.0                  9.0  2020-12-16T08:00:00Z   \n",
       "\n",
       "                Updated Version  Price Currency  DeveloperId       Developer  \\\n",
       "0  2018-12-21T21:30:36Z   1.1.2   0.00      USD   1375410542        HKBU ARC   \n",
       "1  2019-07-23T20:31:09Z     1.3   0.00      USD   1031572001  Roman Dmitriev   \n",
       "2  2021-05-30T21:08:54Z   1.3.1   0.00      USD   1457024163         Terp AS   \n",
       "3  2019-10-29T12:40:37Z     1.2   2.99      USD    439568839   i-editeur.com   \n",
       "4  2020-12-18T21:36:11Z   1.0.1   0.00      USD    656731821   Ngov chiheang   \n",
       "\n",
       "                                       Developer_Url  Average_User_Rating  \\\n",
       "0  https://apps.apple.com/us/developer/hkbu-arc/i...                    0   \n",
       "1  https://apps.apple.com/us/developer/roman-dmit...                    5   \n",
       "2  https://apps.apple.com/us/developer/terp-as/id...                    0   \n",
       "3  https://apps.apple.com/us/developer/i-editeur-...                    0   \n",
       "4  https://apps.apple.com/us/developer/ngov-chihe...                    0   \n",
       "\n",
       "   Reviews  Current_Version_Score  Current_Version_Reviews    Size_MB  Type  \\\n",
       "0        0                    0.0                        0  20.974609  Free   \n",
       "1        1                    5.0                        1  12.527344  Free   \n",
       "2        0                    0.0                        0  20.926758  Free   \n",
       "3        0                    0.0                        0  78.059570  Paid   \n",
       "4        0                    0.0                        0  61.695312  Free   \n",
       "\n",
       "      ReviewCategory  \n",
       "0  NoReviewsProvided  \n",
       "1      Less than 10K  \n",
       "2  NoReviewsProvided  \n",
       "3  NoReviewsProvided  \n",
       "4  NoReviewsProvided  "
      ]
     },
     "execution_count": 53,
     "metadata": {},
     "output_type": "execute_result"
    }
   ],
   "source": [
    "df.head(5)"
   ]
  },
  {
   "cell_type": "code",
   "execution_count": 54,
   "id": "574883fa",
   "metadata": {
    "execution": {
     "iopub.execute_input": "2023-03-21T20:17:12.757972Z",
     "iopub.status.busy": "2023-03-21T20:17:12.756609Z",
     "iopub.status.idle": "2023-03-21T20:17:12.773346Z",
     "shell.execute_reply": "2023-03-21T20:17:12.771971Z"
    },
    "papermill": {
     "duration": 0.061776,
     "end_time": "2023-03-21T20:17:12.776157",
     "exception": false,
     "start_time": "2023-03-21T20:17:12.714381",
     "status": "completed"
    },
    "tags": []
   },
   "outputs": [
    {
     "data": {
      "text/plain": [
       "array([0, 5, 3, 4, 2, 1])"
      ]
     },
     "execution_count": 54,
     "metadata": {},
     "output_type": "execute_result"
    }
   ],
   "source": [
    "df.Average_User_Rating.unique()"
   ]
  },
  {
   "cell_type": "markdown",
   "id": "802f0429",
   "metadata": {
    "papermill": {
     "duration": 0.04286,
     "end_time": "2023-03-21T20:17:12.862137",
     "exception": false,
     "start_time": "2023-03-21T20:17:12.819277",
     "status": "completed"
    },
    "tags": []
   },
   "source": [
    "---\n",
    "<div style=\"page-break-after: always\"></div>"
   ]
  },
  {
   "cell_type": "markdown",
   "id": "80789459",
   "metadata": {
    "papermill": {
     "duration": 0.043727,
     "end_time": "2023-03-21T20:17:12.950978",
     "exception": false,
     "start_time": "2023-03-21T20:17:12.907251",
     "status": "completed"
    },
    "tags": []
   },
   "source": [
    "# 6.0 Question and Aswers :              \n",
    "> We are going to pose following questions against the dataset:\n",
    "\n",
    "1. What are the top 10 Categories that are installed from the Apple Store?\n",
    "2. What are the  highest top 10 rated primary_genre based on  Average_User_Rating\n",
    "3. Which Primary_Genre has the highest count of Paid and Free apps?\n",
    "4. What are the Top 5 Paid Apps based with highest ratings?\n",
    "5. What are the Top 5 Free Apps based With highest ratings?\n",
    "6. Apps with highest content rating\n",
    "7. Years in which max apps were released\n",
    "8. Size in MBs Vs Price of App\n",
    "9. Top 10 app producing developer\n",
    "10. What type of Genre attracted what kind of clintele in terms of revenues?\n",
    "11. YoY (Year on Year) comparison of apps per Content_Rating\n",
    "12. User Rating vs Price\n",
    "13. User Rating vs MBytes\n",
    "14. Year on Year break down of top-5 Genre based on App Price\n",
    "15. IOS Versions Vs Count of app\n",
    "16. Interdependency of numeric attributes on each other"
   ]
  },
  {
   "cell_type": "markdown",
   "id": "8230a8d6",
   "metadata": {
    "papermill": {
     "duration": 0.040564,
     "end_time": "2023-03-21T20:17:13.033440",
     "exception": false,
     "start_time": "2023-03-21T20:17:12.992876",
     "status": "completed"
    },
    "tags": []
   },
   "source": [
    "Question 1. What are the top 10 Categories that are installed from the Apple Store ?"
   ]
  },
  {
   "cell_type": "code",
   "execution_count": 55,
   "id": "6db3cee4",
   "metadata": {
    "execution": {
     "iopub.execute_input": "2023-03-21T20:17:13.123859Z",
     "iopub.status.busy": "2023-03-21T20:17:13.123374Z",
     "iopub.status.idle": "2023-03-21T20:17:13.216379Z",
     "shell.execute_reply": "2023-03-21T20:17:13.214891Z"
    },
    "papermill": {
     "duration": 0.140314,
     "end_time": "2023-03-21T20:17:13.219367",
     "exception": false,
     "start_time": "2023-03-21T20:17:13.079053",
     "status": "completed"
    },
    "tags": []
   },
   "outputs": [],
   "source": [
    "top_Genre = df.Primary_Genre.value_counts().reset_index().rename(columns={'Primary_Genre':'Genre_name','index':'Primary_Genre'})"
   ]
  },
  {
   "cell_type": "code",
   "execution_count": 56,
   "id": "1bd35e74",
   "metadata": {
    "execution": {
     "iopub.execute_input": "2023-03-21T20:17:13.306695Z",
     "iopub.status.busy": "2023-03-21T20:17:13.305529Z",
     "iopub.status.idle": "2023-03-21T20:17:13.310746Z",
     "shell.execute_reply": "2023-03-21T20:17:13.309795Z"
    },
    "papermill": {
     "duration": 0.052644,
     "end_time": "2023-03-21T20:17:13.313096",
     "exception": false,
     "start_time": "2023-03-21T20:17:13.260452",
     "status": "completed"
    },
    "tags": []
   },
   "outputs": [
    {
     "data": {
      "text/html": [
       "<div>\n",
       "<style scoped>\n",
       "    .dataframe tbody tr th:only-of-type {\n",
       "        vertical-align: middle;\n",
       "    }\n",
       "\n",
       "    .dataframe tbody tr th {\n",
       "        vertical-align: top;\n",
       "    }\n",
       "\n",
       "    .dataframe thead th {\n",
       "        text-align: right;\n",
       "    }\n",
       "</style>\n",
       "<table border=\"1\" class=\"dataframe\">\n",
       "  <thead>\n",
       "    <tr style=\"text-align: right;\">\n",
       "      <th></th>\n",
       "      <th>Genre_name</th>\n",
       "      <th>count</th>\n",
       "    </tr>\n",
       "  </thead>\n",
       "  <tbody>\n",
       "    <tr>\n",
       "      <th>0</th>\n",
       "      <td>Games</td>\n",
       "      <td>193641</td>\n",
       "    </tr>\n",
       "    <tr>\n",
       "      <th>1</th>\n",
       "      <td>Business</td>\n",
       "      <td>128203</td>\n",
       "    </tr>\n",
       "    <tr>\n",
       "      <th>2</th>\n",
       "      <td>Education</td>\n",
       "      <td>119114</td>\n",
       "    </tr>\n",
       "    <tr>\n",
       "      <th>3</th>\n",
       "      <td>Utilities</td>\n",
       "      <td>93937</td>\n",
       "    </tr>\n",
       "    <tr>\n",
       "      <th>4</th>\n",
       "      <td>Lifestyle</td>\n",
       "      <td>84493</td>\n",
       "    </tr>\n",
       "    <tr>\n",
       "      <th>5</th>\n",
       "      <td>Food &amp; Drink</td>\n",
       "      <td>72815</td>\n",
       "    </tr>\n",
       "    <tr>\n",
       "      <th>6</th>\n",
       "      <td>Health &amp; Fitness</td>\n",
       "      <td>60682</td>\n",
       "    </tr>\n",
       "    <tr>\n",
       "      <th>7</th>\n",
       "      <td>Productivity</td>\n",
       "      <td>59389</td>\n",
       "    </tr>\n",
       "    <tr>\n",
       "      <th>8</th>\n",
       "      <td>Entertainment</td>\n",
       "      <td>53076</td>\n",
       "    </tr>\n",
       "    <tr>\n",
       "      <th>9</th>\n",
       "      <td>Shopping</td>\n",
       "      <td>49493</td>\n",
       "    </tr>\n",
       "  </tbody>\n",
       "</table>\n",
       "</div>"
      ],
      "text/plain": [
       "         Genre_name   count\n",
       "0             Games  193641\n",
       "1          Business  128203\n",
       "2         Education  119114\n",
       "3         Utilities   93937\n",
       "4         Lifestyle   84493\n",
       "5      Food & Drink   72815\n",
       "6  Health & Fitness   60682\n",
       "7      Productivity   59389\n",
       "8     Entertainment   53076\n",
       "9          Shopping   49493"
      ]
     },
     "execution_count": 56,
     "metadata": {},
     "output_type": "execute_result"
    }
   ],
   "source": [
    "top10_top_Genre = top_Genre.head(10)\n",
    "top10_top_Genre"
   ]
  },
  {
   "cell_type": "code",
   "execution_count": 57,
   "id": "a8600a85",
   "metadata": {
    "execution": {
     "iopub.execute_input": "2023-03-21T20:17:13.398882Z",
     "iopub.status.busy": "2023-03-21T20:17:13.398401Z",
     "iopub.status.idle": "2023-03-21T20:17:13.410724Z",
     "shell.execute_reply": "2023-03-21T20:17:13.409382Z"
    },
    "papermill": {
     "duration": 0.059407,
     "end_time": "2023-03-21T20:17:13.413567",
     "exception": false,
     "start_time": "2023-03-21T20:17:13.354160",
     "status": "completed"
    },
    "tags": []
   },
   "outputs": [
    {
     "data": {
      "text/html": [
       "<div>\n",
       "<style scoped>\n",
       "    .dataframe tbody tr th:only-of-type {\n",
       "        vertical-align: middle;\n",
       "    }\n",
       "\n",
       "    .dataframe tbody tr th {\n",
       "        vertical-align: top;\n",
       "    }\n",
       "\n",
       "    .dataframe thead th {\n",
       "        text-align: right;\n",
       "    }\n",
       "</style>\n",
       "<table border=\"1\" class=\"dataframe\">\n",
       "  <thead>\n",
       "    <tr style=\"text-align: right;\">\n",
       "      <th></th>\n",
       "      <th>Genre_name</th>\n",
       "      <th>count</th>\n",
       "    </tr>\n",
       "  </thead>\n",
       "  <tbody>\n",
       "    <tr>\n",
       "      <th>0</th>\n",
       "      <td>Games</td>\n",
       "      <td>193641</td>\n",
       "    </tr>\n",
       "    <tr>\n",
       "      <th>1</th>\n",
       "      <td>Business</td>\n",
       "      <td>128203</td>\n",
       "    </tr>\n",
       "    <tr>\n",
       "      <th>2</th>\n",
       "      <td>Education</td>\n",
       "      <td>119114</td>\n",
       "    </tr>\n",
       "    <tr>\n",
       "      <th>3</th>\n",
       "      <td>Utilities</td>\n",
       "      <td>93937</td>\n",
       "    </tr>\n",
       "    <tr>\n",
       "      <th>4</th>\n",
       "      <td>Lifestyle</td>\n",
       "      <td>84493</td>\n",
       "    </tr>\n",
       "    <tr>\n",
       "      <th>5</th>\n",
       "      <td>Food &amp; Drink</td>\n",
       "      <td>72815</td>\n",
       "    </tr>\n",
       "    <tr>\n",
       "      <th>6</th>\n",
       "      <td>Health &amp; Fitness</td>\n",
       "      <td>60682</td>\n",
       "    </tr>\n",
       "    <tr>\n",
       "      <th>7</th>\n",
       "      <td>Productivity</td>\n",
       "      <td>59389</td>\n",
       "    </tr>\n",
       "    <tr>\n",
       "      <th>8</th>\n",
       "      <td>Entertainment</td>\n",
       "      <td>53076</td>\n",
       "    </tr>\n",
       "    <tr>\n",
       "      <th>9</th>\n",
       "      <td>Shopping</td>\n",
       "      <td>49493</td>\n",
       "    </tr>\n",
       "  </tbody>\n",
       "</table>\n",
       "</div>"
      ],
      "text/plain": [
       "         Genre_name   count\n",
       "0             Games  193641\n",
       "1          Business  128203\n",
       "2         Education  119114\n",
       "3         Utilities   93937\n",
       "4         Lifestyle   84493\n",
       "5      Food & Drink   72815\n",
       "6  Health & Fitness   60682\n",
       "7      Productivity   59389\n",
       "8     Entertainment   53076\n",
       "9          Shopping   49493"
      ]
     },
     "execution_count": 57,
     "metadata": {},
     "output_type": "execute_result"
    }
   ],
   "source": [
    "top10_top_Genre.head(10)"
   ]
  },
  {
   "cell_type": "code",
   "execution_count": 58,
   "id": "45f796a5",
   "metadata": {},
   "outputs": [
    {
     "data": {
      "text/plain": [
       "Index(['Genre_name', 'count'], dtype='object')"
      ]
     },
     "execution_count": 58,
     "metadata": {},
     "output_type": "execute_result"
    }
   ],
   "source": [
    "top10_top_Genre.columns"
   ]
  },
  {
   "cell_type": "code",
   "execution_count": 59,
   "id": "d721a8dc",
   "metadata": {},
   "outputs": [
    {
     "data": {
      "text/plain": [
       "<Axes: xlabel='Genre_name', ylabel='count'>"
      ]
     },
     "execution_count": 59,
     "metadata": {},
     "output_type": "execute_result"
    },
    {
     "data": {
      "image/png": "[encoded data removed]",
      "text/plain": [
       "<Figure size 2000x600 with 1 Axes>"
      ]
     },
     "metadata": {},
     "output_type": "display_data"
    }
   ],
   "source": [
    "sns.barplot(top10_top_Genre, x='Genre_name', y='count', color='grey')"
   ]
  },
  {
   "cell_type": "markdown",
   "id": "75717c1f",
   "metadata": {
    "papermill": {
     "duration": 0.042033,
     "end_time": "2023-03-21T20:17:13.947025",
     "exception": false,
     "start_time": "2023-03-21T20:17:13.904992",
     "status": "completed"
    },
    "tags": []
   },
   "source": [
    "> **Figure-3:** Shows the Top 10 Categories that are installed from the Apple Store "
   ]
  },
  {
   "cell_type": "markdown",
   "id": "aac785cc",
   "metadata": {
    "papermill": {
     "duration": 0.042814,
     "end_time": "2023-03-21T20:17:14.033352",
     "exception": false,
     "start_time": "2023-03-21T20:17:13.990538",
     "status": "completed"
    },
    "tags": []
   },
   "source": [
    "- Answer 1: Gaming Apps are the most downloaded apps from the store"
   ]
  },
  {
   "cell_type": "markdown",
   "id": "9f8af7a7",
   "metadata": {
    "papermill": {
     "duration": 0.044869,
     "end_time": "2023-03-21T20:17:14.121963",
     "exception": false,
     "start_time": "2023-03-21T20:17:14.077094",
     "status": "completed"
    },
    "tags": []
   },
   "source": [
    "---"
   ]
  },
  {
   "cell_type": "markdown",
   "id": "9991cf55",
   "metadata": {
    "papermill": {
     "duration": 0.042832,
     "end_time": "2023-03-21T20:17:14.209374",
     "exception": false,
     "start_time": "2023-03-21T20:17:14.166542",
     "status": "completed"
    },
    "tags": []
   },
   "source": [
    "Question 2. What are the  highest top 10 rated primary_genre based on  Average_User_Rating"
   ]
  },
  {
   "cell_type": "code",
   "execution_count": 60,
   "id": "9b375a2b",
   "metadata": {
    "execution": {
     "iopub.execute_input": "2023-03-21T20:17:14.297490Z",
     "iopub.status.busy": "2023-03-21T20:17:14.296653Z",
     "iopub.status.idle": "2023-03-21T20:17:14.438890Z",
     "shell.execute_reply": "2023-03-21T20:17:14.437411Z"
    },
    "papermill": {
     "duration": 0.19052,
     "end_time": "2023-03-21T20:17:14.442501",
     "exception": false,
     "start_time": "2023-03-21T20:17:14.251981",
     "status": "completed"
    },
    "tags": []
   },
   "outputs": [
    {
     "name": "stdout",
     "output_type": "stream",
     "text": [
      "Primary_Genre\n",
      "Weather              2.622647\n",
      "Games                2.566197\n",
      "Photo & Video        2.316027\n",
      "Music                2.264037\n",
      "Book                 2.194122\n",
      "Reference            2.191638\n",
      "Finance              2.133502\n",
      "Entertainment        2.026566\n",
      "Social Networking    1.999213\n",
      "Health & Fitness     1.859003\n",
      "Name: Average_User_Rating, dtype: float64\n"
     ]
    }
   ],
   "source": [
    "# Group the dataset by Primary_Genre and calculate the mean of Average_User_Rating for each group\n",
    "mean_ratings = df.groupby('Primary_Genre')['Average_User_Rating'].mean()\n",
    "\n",
    "# Sort the resulting Series in descending order\n",
    "sorted_ratings = mean_ratings.sort_values(ascending=False)\n",
    "\n",
    "# Select the top 10 entries\n",
    "top_10 = sorted_ratings.head(10)\n",
    "\n",
    "print(top_10)"
   ]
  },
  {
   "cell_type": "markdown",
   "id": "a3289e28",
   "metadata": {
    "papermill": {
     "duration": 0.042818,
     "end_time": "2023-03-21T20:17:14.529271",
     "exception": false,
     "start_time": "2023-03-21T20:17:14.486453",
     "status": "completed"
    },
    "tags": []
   },
   "source": [
    "- Answer 2: Based on Average user rating the highest top 10 rated primary_genre Weather, Games, Photo & Videos, Music, Book, References etc            "
   ]
  },
  {
   "cell_type": "markdown",
   "id": "52ade88b",
   "metadata": {
    "papermill": {
     "duration": 0.043408,
     "end_time": "2023-03-21T20:17:14.616440",
     "exception": false,
     "start_time": "2023-03-21T20:17:14.573032",
     "status": "completed"
    },
    "tags": []
   },
   "source": [
    "---"
   ]
  },
  {
   "cell_type": "markdown",
   "id": "df25cb07",
   "metadata": {
    "papermill": {
     "duration": 0.042907,
     "end_time": "2023-03-21T20:17:14.703043",
     "exception": false,
     "start_time": "2023-03-21T20:17:14.660136",
     "status": "completed"
    },
    "tags": []
   },
   "source": [
    "Question 3. Which Primary_Genre has the highest count of Paid and Free apps ?"
   ]
  },
  {
   "cell_type": "code",
   "execution_count": 61,
   "id": "c7a1d118",
   "metadata": {
    "execution": {
     "iopub.execute_input": "2023-03-21T20:17:14.795878Z",
     "iopub.status.busy": "2023-03-21T20:17:14.794943Z",
     "iopub.status.idle": "2023-03-21T20:17:15.073327Z",
     "shell.execute_reply": "2023-03-21T20:17:15.072106Z"
    },
    "papermill": {
     "duration": 0.327267,
     "end_time": "2023-03-21T20:17:15.076409",
     "exception": false,
     "start_time": "2023-03-21T20:17:14.749142",
     "status": "completed"
    },
    "tags": []
   },
   "outputs": [],
   "source": [
    "# group the dataset by Primary_Genre and Type, and count the number of apps in each group\n",
    "genre_counts = df.groupby(['Primary_Genre', 'Type']).size().reset_index(name='Count')\n",
    "# # separate the free apps\n",
    "top10_free_apps = genre_counts[genre_counts['Type'] == 'Free']\n",
    "# ##load top 10 free apps\n",
    "top_10_free_genres = top10_free_apps.sort_values(by='Count', ascending=False).head(10)\n",
    "\n",
    "# top_10_free_genres\n",
    "\n",
    "# # separate the free apps\n",
    "top10_paid_apps = genre_counts[genre_counts['Type'] == 'Paid']\n",
    "# ##load top 10 free apps\n",
    "top_10_paid_genres = top10_paid_apps.sort_values(by='Count', ascending=False).head(10)\n",
    "\n"
   ]
  },
  {
   "cell_type": "code",
   "execution_count": 62,
   "id": "260a1a79",
   "metadata": {
    "execution": {
     "iopub.execute_input": "2023-03-21T20:17:15.166222Z",
     "iopub.status.busy": "2023-03-21T20:17:15.165770Z",
     "iopub.status.idle": "2023-03-21T20:17:15.178088Z",
     "shell.execute_reply": "2023-03-21T20:17:15.176816Z"
    },
    "papermill": {
     "duration": 0.059991,
     "end_time": "2023-03-21T20:17:15.180448",
     "exception": false,
     "start_time": "2023-03-21T20:17:15.120457",
     "status": "completed"
    },
    "tags": []
   },
   "outputs": [
    {
     "data": {
      "text/html": [
       "<div>\n",
       "<style scoped>\n",
       "    .dataframe tbody tr th:only-of-type {\n",
       "        vertical-align: middle;\n",
       "    }\n",
       "\n",
       "    .dataframe tbody tr th {\n",
       "        vertical-align: top;\n",
       "    }\n",
       "\n",
       "    .dataframe thead th {\n",
       "        text-align: right;\n",
       "    }\n",
       "</style>\n",
       "<table border=\"1\" class=\"dataframe\">\n",
       "  <thead>\n",
       "    <tr style=\"text-align: right;\">\n",
       "      <th></th>\n",
       "      <th>Primary_Genre</th>\n",
       "      <th>Type</th>\n",
       "      <th>Count</th>\n",
       "    </tr>\n",
       "  </thead>\n",
       "  <tbody>\n",
       "    <tr>\n",
       "      <th>14</th>\n",
       "      <td>Games</td>\n",
       "      <td>Free</td>\n",
       "      <td>177305</td>\n",
       "    </tr>\n",
       "    <tr>\n",
       "      <th>2</th>\n",
       "      <td>Business</td>\n",
       "      <td>Free</td>\n",
       "      <td>125443</td>\n",
       "    </tr>\n",
       "    <tr>\n",
       "      <th>6</th>\n",
       "      <td>Education</td>\n",
       "      <td>Free</td>\n",
       "      <td>101740</td>\n",
       "    </tr>\n",
       "    <tr>\n",
       "      <th>48</th>\n",
       "      <td>Utilities</td>\n",
       "      <td>Free</td>\n",
       "      <td>84217</td>\n",
       "    </tr>\n",
       "    <tr>\n",
       "      <th>20</th>\n",
       "      <td>Lifestyle</td>\n",
       "      <td>Free</td>\n",
       "      <td>81223</td>\n",
       "    </tr>\n",
       "  </tbody>\n",
       "</table>\n",
       "</div>"
      ],
      "text/plain": [
       "   Primary_Genre  Type   Count\n",
       "14         Games  Free  177305\n",
       "2       Business  Free  125443\n",
       "6      Education  Free  101740\n",
       "48     Utilities  Free   84217\n",
       "20     Lifestyle  Free   81223"
      ]
     },
     "execution_count": 62,
     "metadata": {},
     "output_type": "execute_result"
    }
   ],
   "source": [
    "top_10_free_genres.head(5)"
   ]
  },
  {
   "cell_type": "code",
   "execution_count": 63,
   "id": "ffec7fab",
   "metadata": {
    "execution": {
     "iopub.execute_input": "2023-03-21T20:17:15.269034Z",
     "iopub.status.busy": "2023-03-21T20:17:15.268268Z",
     "iopub.status.idle": "2023-03-21T20:17:15.279545Z",
     "shell.execute_reply": "2023-03-21T20:17:15.278260Z"
    },
    "papermill": {
     "duration": 0.058667,
     "end_time": "2023-03-21T20:17:15.282116",
     "exception": false,
     "start_time": "2023-03-21T20:17:15.223449",
     "status": "completed"
    },
    "tags": []
   },
   "outputs": [
    {
     "data": {
      "text/html": [
       "<div>\n",
       "<style scoped>\n",
       "    .dataframe tbody tr th:only-of-type {\n",
       "        vertical-align: middle;\n",
       "    }\n",
       "\n",
       "    .dataframe tbody tr th {\n",
       "        vertical-align: top;\n",
       "    }\n",
       "\n",
       "    .dataframe thead th {\n",
       "        text-align: right;\n",
       "    }\n",
       "</style>\n",
       "<table border=\"1\" class=\"dataframe\">\n",
       "  <thead>\n",
       "    <tr style=\"text-align: right;\">\n",
       "      <th></th>\n",
       "      <th>Primary_Genre</th>\n",
       "      <th>Type</th>\n",
       "      <th>Count</th>\n",
       "    </tr>\n",
       "  </thead>\n",
       "  <tbody>\n",
       "    <tr>\n",
       "      <th>7</th>\n",
       "      <td>Education</td>\n",
       "      <td>Paid</td>\n",
       "      <td>17374</td>\n",
       "    </tr>\n",
       "    <tr>\n",
       "      <th>15</th>\n",
       "      <td>Games</td>\n",
       "      <td>Paid</td>\n",
       "      <td>16336</td>\n",
       "    </tr>\n",
       "    <tr>\n",
       "      <th>49</th>\n",
       "      <td>Utilities</td>\n",
       "      <td>Paid</td>\n",
       "      <td>9720</td>\n",
       "    </tr>\n",
       "    <tr>\n",
       "      <th>45</th>\n",
       "      <td>Stickers</td>\n",
       "      <td>Paid</td>\n",
       "      <td>8865</td>\n",
       "    </tr>\n",
       "    <tr>\n",
       "      <th>35</th>\n",
       "      <td>Productivity</td>\n",
       "      <td>Paid</td>\n",
       "      <td>6002</td>\n",
       "    </tr>\n",
       "  </tbody>\n",
       "</table>\n",
       "</div>"
      ],
      "text/plain": [
       "   Primary_Genre  Type  Count\n",
       "7      Education  Paid  17374\n",
       "15         Games  Paid  16336\n",
       "49     Utilities  Paid   9720\n",
       "45      Stickers  Paid   8865\n",
       "35  Productivity  Paid   6002"
      ]
     },
     "execution_count": 63,
     "metadata": {},
     "output_type": "execute_result"
    }
   ],
   "source": [
    "\n",
    "top_10_paid_genres.head(5)"
   ]
  },
  {
   "cell_type": "markdown",
   "id": "5f4e2f7d",
   "metadata": {
    "papermill": {
     "duration": 0.042986,
     "end_time": "2023-03-21T20:17:15.369243",
     "exception": false,
     "start_time": "2023-03-21T20:17:15.326257",
     "status": "completed"
    },
    "tags": []
   },
   "source": [
    "- Answer 3: \n",
    "  > Free Apps List: Games, Business, Education, Utilities, Lifestyle\n",
    "\n",
    "  > Paid Apps: Education, Games, Utilities, Stickers, Productivity"
   ]
  },
  {
   "cell_type": "markdown",
   "id": "3ca1b081",
   "metadata": {
    "papermill": {
     "duration": 0.042791,
     "end_time": "2023-03-21T20:17:15.455573",
     "exception": false,
     "start_time": "2023-03-21T20:17:15.412782",
     "status": "completed"
    },
    "tags": []
   },
   "source": [
    "---"
   ]
  },
  {
   "cell_type": "markdown",
   "id": "064e2bde",
   "metadata": {
    "papermill": {
     "duration": 0.042907,
     "end_time": "2023-03-21T20:17:15.541820",
     "exception": false,
     "start_time": "2023-03-21T20:17:15.498913",
     "status": "completed"
    },
    "tags": []
   },
   "source": [
    "Question 4. What are the Top 5 Paid Apps based with highest ratings?"
   ]
  },
  {
   "cell_type": "code",
   "execution_count": 64,
   "id": "84d0e189",
   "metadata": {
    "execution": {
     "iopub.execute_input": "2023-03-21T20:17:15.635304Z",
     "iopub.status.busy": "2023-03-21T20:17:15.634609Z",
     "iopub.status.idle": "2023-03-21T20:17:16.623910Z",
     "shell.execute_reply": "2023-03-21T20:17:16.622502Z"
    },
    "papermill": {
     "duration": 1.042306,
     "end_time": "2023-03-21T20:17:16.627283",
     "exception": false,
     "start_time": "2023-03-21T20:17:15.584977",
     "status": "completed"
    },
    "tags": []
   },
   "outputs": [
    {
     "name": "stdout",
     "output_type": "stream",
     "text": [
      "                            App_Name  Average_User_Rating\n",
      "545133             Super Nano Trucks                    5\n",
      "186395             FarRock Dodgeball                    5\n",
      "466479  Money Easy - Expense Tracker                    5\n",
      "466486  Money Flow - Expense Tracker                    5\n",
      "466487                  Sketch Ideas                    5\n"
     ]
    }
   ],
   "source": [
    "# sort the paid apps by rating in descending order and select the top 5\n",
    "top5_paid_apps = df[df['Type'] == 'Paid'].sort_values('Average_User_Rating', ascending=False).head(5)[['App_Name', 'Average_User_Rating']]\n",
    "\n",
    "# display the top 5 paid apps and their ratings\n",
    "print(top5_paid_apps)\n"
   ]
  },
  {
   "cell_type": "markdown",
   "id": "0220f5ca",
   "metadata": {
    "papermill": {
     "duration": 0.04239,
     "end_time": "2023-03-21T20:17:16.712497",
     "exception": false,
     "start_time": "2023-03-21T20:17:16.670107",
     "status": "completed"
    },
    "tags": []
   },
   "source": [
    "- Answer 4: Super Nano Trucks, FarRock Dodgeball, Money Easy - Expense Tracker, Money Flow - Expense Tracker, Sketch Ideas"
   ]
  },
  {
   "cell_type": "markdown",
   "id": "69f2097d",
   "metadata": {
    "papermill": {
     "duration": 0.043675,
     "end_time": "2023-03-21T20:17:16.799085",
     "exception": false,
     "start_time": "2023-03-21T20:17:16.755410",
     "status": "completed"
    },
    "tags": []
   },
   "source": [
    "---"
   ]
  },
  {
   "cell_type": "markdown",
   "id": "4b1ba304",
   "metadata": {
    "papermill": {
     "duration": 0.043655,
     "end_time": "2023-03-21T20:17:16.887529",
     "exception": false,
     "start_time": "2023-03-21T20:17:16.843874",
     "status": "completed"
    },
    "tags": []
   },
   "source": [
    "Question 5. What are the Top 5 Free Apps based With highest ratings ?"
   ]
  },
  {
   "cell_type": "code",
   "execution_count": 65,
   "id": "b4617415",
   "metadata": {
    "execution": {
     "iopub.execute_input": "2023-03-21T20:17:16.976976Z",
     "iopub.status.busy": "2023-03-21T20:17:16.976274Z",
     "iopub.status.idle": "2023-03-21T20:17:18.395650Z",
     "shell.execute_reply": "2023-03-21T20:17:18.393676Z"
    },
    "papermill": {
     "duration": 1.468715,
     "end_time": "2023-03-21T20:17:18.399347",
     "exception": false,
     "start_time": "2023-03-21T20:17:16.930632",
     "status": "completed"
    },
    "tags": []
   },
   "outputs": [
    {
     "name": "stdout",
     "output_type": "stream",
     "text": [
      "                              App_Name  Average_User_Rating\n",
      "403942   Rise of Zombie - City Defense                    5\n",
      "1102121                Dog Wheelchairs                    5\n",
      "1102118        Dog App - Breed Scanner                    5\n",
      "223230                    Dojo Login 2                    5\n",
      "223229                       Dojo Hero                    5\n"
     ]
    }
   ],
   "source": [
    "# sort the paid apps by rating in descending order and select the top 5\n",
    "top5_free_apps = df[df['Type'] == 'Free'].sort_values('Average_User_Rating', ascending=False).head(5)[['App_Name', 'Average_User_Rating']]\n",
    "\n",
    "# display the top 5 paid apps and their ratings\n",
    "print(top5_free_apps)"
   ]
  },
  {
   "cell_type": "markdown",
   "id": "54bc8f26",
   "metadata": {
    "papermill": {
     "duration": 0.042566,
     "end_time": "2023-03-21T20:17:18.485250",
     "exception": false,
     "start_time": "2023-03-21T20:17:18.442684",
     "status": "completed"
    },
    "tags": []
   },
   "source": [
    "- Answer 5: Rise of Zombie - City Defense, Dog Wheelchairs, Dog App - Breed Scanner, Dojo Login 2, Dojo Hero"
   ]
  },
  {
   "cell_type": "markdown",
   "id": "b0208242",
   "metadata": {
    "papermill": {
     "duration": 0.042826,
     "end_time": "2023-03-21T20:17:18.571349",
     "exception": false,
     "start_time": "2023-03-21T20:17:18.528523",
     "status": "completed"
    },
    "tags": []
   },
   "source": [
    "---"
   ]
  },
  {
   "cell_type": "markdown",
   "id": "c4b86ff2",
   "metadata": {
    "papermill": {
     "duration": 0.043276,
     "end_time": "2023-03-21T20:17:18.657913",
     "exception": false,
     "start_time": "2023-03-21T20:17:18.614637",
     "status": "completed"
    },
    "tags": []
   },
   "source": [
    "Question 6. Apps with highest content rating"
   ]
  },
  {
   "cell_type": "code",
   "execution_count": 66,
   "id": "a0a87538",
   "metadata": {
    "execution": {
     "iopub.execute_input": "2023-03-21T20:17:18.746547Z",
     "iopub.status.busy": "2023-03-21T20:17:18.746151Z",
     "iopub.status.idle": "2023-03-21T20:17:18.815342Z",
     "shell.execute_reply": "2023-03-21T20:17:18.814227Z"
    },
    "papermill": {
     "duration": 0.11681,
     "end_time": "2023-03-21T20:17:18.818217",
     "exception": false,
     "start_time": "2023-03-21T20:17:18.701407",
     "status": "completed"
    },
    "tags": []
   },
   "outputs": [
    {
     "data": {
      "text/html": [
       "<div>\n",
       "<style scoped>\n",
       "    .dataframe tbody tr th:only-of-type {\n",
       "        vertical-align: middle;\n",
       "    }\n",
       "\n",
       "    .dataframe tbody tr th {\n",
       "        vertical-align: top;\n",
       "    }\n",
       "\n",
       "    .dataframe thead th {\n",
       "        text-align: right;\n",
       "    }\n",
       "</style>\n",
       "<table border=\"1\" class=\"dataframe\">\n",
       "  <thead>\n",
       "    <tr style=\"text-align: right;\">\n",
       "      <th></th>\n",
       "      <th>Count</th>\n",
       "      <th>count</th>\n",
       "    </tr>\n",
       "  </thead>\n",
       "  <tbody>\n",
       "    <tr>\n",
       "      <th>2</th>\n",
       "      <td>Teens</td>\n",
       "      <td>89497</td>\n",
       "    </tr>\n",
       "    <tr>\n",
       "      <th>3</th>\n",
       "      <td>Everyone</td>\n",
       "      <td>10</td>\n",
       "    </tr>\n",
       "    <tr>\n",
       "      <th>0</th>\n",
       "      <td>Children</td>\n",
       "      <td>1015768</td>\n",
       "    </tr>\n",
       "    <tr>\n",
       "      <th>1</th>\n",
       "      <td>Adults</td>\n",
       "      <td>123988</td>\n",
       "    </tr>\n",
       "  </tbody>\n",
       "</table>\n",
       "</div>"
      ],
      "text/plain": [
       "      Count    count\n",
       "2     Teens    89497\n",
       "3  Everyone       10\n",
       "0  Children  1015768\n",
       "1    Adults   123988"
      ]
     },
     "execution_count": 66,
     "metadata": {},
     "output_type": "execute_result"
    }
   ],
   "source": [
    "lst_Content_Rating = df.Content_Rating.value_counts().reset_index().rename(columns={'Content_Rating':'Count','index':'Content_Rating'})\n",
    "lst_Content_Rating.sort_values(by='Count', ascending=False)\n"
   ]
  },
  {
   "cell_type": "markdown",
   "id": "b1bbe25d",
   "metadata": {
    "papermill": {
     "duration": 0.045289,
     "end_time": "2023-03-21T20:17:18.909637",
     "exception": false,
     "start_time": "2023-03-21T20:17:18.864348",
     "status": "completed"
    },
    "tags": []
   },
   "source": [
    "- Answer 6: Children apps, Adults, Teens & Everyone. This is a breakdown based on apps content_rating and its count from highest to lowest"
   ]
  },
  {
   "cell_type": "markdown",
   "id": "97cdcaa6",
   "metadata": {
    "papermill": {
     "duration": 0.04464,
     "end_time": "2023-03-21T20:17:18.997795",
     "exception": false,
     "start_time": "2023-03-21T20:17:18.953155",
     "status": "completed"
    },
    "tags": []
   },
   "source": [
    "---"
   ]
  },
  {
   "cell_type": "markdown",
   "id": "b166b3f9",
   "metadata": {
    "papermill": {
     "duration": 0.043349,
     "end_time": "2023-03-21T20:17:19.084661",
     "exception": false,
     "start_time": "2023-03-21T20:17:19.041312",
     "status": "completed"
    },
    "tags": []
   },
   "source": [
    "Question 7. Years in which max apps were released"
   ]
  },
  {
   "cell_type": "code",
   "execution_count": 67,
   "id": "442c6df5",
   "metadata": {
    "execution": {
     "iopub.execute_input": "2023-03-21T20:17:19.176717Z",
     "iopub.status.busy": "2023-03-21T20:17:19.175547Z",
     "iopub.status.idle": "2023-03-21T20:17:26.943430Z",
     "shell.execute_reply": "2023-03-21T20:17:26.941988Z"
    },
    "papermill": {
     "duration": 7.816407,
     "end_time": "2023-03-21T20:17:26.946316",
     "exception": false,
     "start_time": "2023-03-21T20:17:19.129909",
     "status": "completed"
    },
    "tags": []
   },
   "outputs": [
    {
     "data": {
      "text/html": [
       "<div>\n",
       "<style scoped>\n",
       "    .dataframe tbody tr th:only-of-type {\n",
       "        vertical-align: middle;\n",
       "    }\n",
       "\n",
       "    .dataframe tbody tr th {\n",
       "        vertical-align: top;\n",
       "    }\n",
       "\n",
       "    .dataframe thead th {\n",
       "        text-align: right;\n",
       "    }\n",
       "</style>\n",
       "<table border=\"1\" class=\"dataframe\">\n",
       "  <thead>\n",
       "    <tr style=\"text-align: right;\">\n",
       "      <th></th>\n",
       "      <th>Year_Release</th>\n",
       "      <th>Count</th>\n",
       "    </tr>\n",
       "  </thead>\n",
       "  <tbody>\n",
       "    <tr>\n",
       "      <th>12</th>\n",
       "      <td>2020</td>\n",
       "      <td>227613</td>\n",
       "    </tr>\n",
       "    <tr>\n",
       "      <th>13</th>\n",
       "      <td>2021</td>\n",
       "      <td>217823</td>\n",
       "    </tr>\n",
       "    <tr>\n",
       "      <th>11</th>\n",
       "      <td>2019</td>\n",
       "      <td>165718</td>\n",
       "    </tr>\n",
       "    <tr>\n",
       "      <th>10</th>\n",
       "      <td>2018</td>\n",
       "      <td>134744</td>\n",
       "    </tr>\n",
       "    <tr>\n",
       "      <th>9</th>\n",
       "      <td>2017</td>\n",
       "      <td>126285</td>\n",
       "    </tr>\n",
       "    <tr>\n",
       "      <th>8</th>\n",
       "      <td>2016</td>\n",
       "      <td>120304</td>\n",
       "    </tr>\n",
       "    <tr>\n",
       "      <th>7</th>\n",
       "      <td>2015</td>\n",
       "      <td>78622</td>\n",
       "    </tr>\n",
       "    <tr>\n",
       "      <th>6</th>\n",
       "      <td>2014</td>\n",
       "      <td>55305</td>\n",
       "    </tr>\n",
       "    <tr>\n",
       "      <th>5</th>\n",
       "      <td>2013</td>\n",
       "      <td>39413</td>\n",
       "    </tr>\n",
       "    <tr>\n",
       "      <th>4</th>\n",
       "      <td>2012</td>\n",
       "      <td>27937</td>\n",
       "    </tr>\n",
       "    <tr>\n",
       "      <th>3</th>\n",
       "      <td>2011</td>\n",
       "      <td>19466</td>\n",
       "    </tr>\n",
       "    <tr>\n",
       "      <th>2</th>\n",
       "      <td>2010</td>\n",
       "      <td>10942</td>\n",
       "    </tr>\n",
       "    <tr>\n",
       "      <th>1</th>\n",
       "      <td>2009</td>\n",
       "      <td>4381</td>\n",
       "    </tr>\n",
       "    <tr>\n",
       "      <th>0</th>\n",
       "      <td>2008</td>\n",
       "      <td>652</td>\n",
       "    </tr>\n",
       "    <tr>\n",
       "      <th>14</th>\n",
       "      <td>2022</td>\n",
       "      <td>58</td>\n",
       "    </tr>\n",
       "  </tbody>\n",
       "</table>\n",
       "</div>"
      ],
      "text/plain": [
       "   Year_Release   Count\n",
       "12         2020  227613\n",
       "13         2021  217823\n",
       "11         2019  165718\n",
       "10         2018  134744\n",
       "9          2017  126285\n",
       "8          2016  120304\n",
       "7          2015   78622\n",
       "6          2014   55305\n",
       "5          2013   39413\n",
       "4          2012   27937\n",
       "3          2011   19466\n",
       "2          2010   10942\n",
       "1          2009    4381\n",
       "0          2008     652\n",
       "14         2022      58"
      ]
     },
     "execution_count": 67,
     "metadata": {},
     "output_type": "execute_result"
    }
   ],
   "source": [
    "df['Released'] = pd.to_datetime(df['Released']) # convert to datetime format\n",
    "df['Year_Release'] = df['Released'].dt.strftime('%Y')\n",
    "cnt_year_app_Release = df.groupby(['Year_Release']).size().reset_index(name='Count')\n",
    "cnt_year_app_Release.head(20).sort_values(by='Count', ascending=False)\n"
   ]
  },
  {
   "cell_type": "code",
   "execution_count": 68,
   "id": "270bf270",
   "metadata": {
    "execution": {
     "iopub.execute_input": "2023-03-21T20:17:27.036507Z",
     "iopub.status.busy": "2023-03-21T20:17:27.036106Z",
     "iopub.status.idle": "2023-03-21T20:17:27.415454Z",
     "shell.execute_reply": "2023-03-21T20:17:27.414086Z"
    },
    "papermill": {
     "duration": 0.427895,
     "end_time": "2023-03-21T20:17:27.418379",
     "exception": false,
     "start_time": "2023-03-21T20:17:26.990484",
     "status": "completed"
    },
    "tags": []
   },
   "outputs": [
    {
     "data": {
      "text/plain": [
       "<Axes: xlabel='Year_Release', ylabel='Count'>"
      ]
     },
     "execution_count": 68,
     "metadata": {},
     "output_type": "execute_result"
    },
    {
     "data": {
      "image/png": "[encoded data removed]",
      "text/plain": [
       "<Figure size 2000x600 with 1 Axes>"
      ]
     },
     "metadata": {},
     "output_type": "display_data"
    }
   ],
   "source": [
    "\n",
    "sns.barplot(cnt_year_app_Release , x='Year_Release', y='Count', color='grey')"
   ]
  },
  {
   "cell_type": "markdown",
   "id": "53f41a2f",
   "metadata": {
    "papermill": {
     "duration": 0.044527,
     "end_time": "2023-03-21T20:17:27.507451",
     "exception": false,
     "start_time": "2023-03-21T20:17:27.462924",
     "status": "completed"
    },
    "tags": []
   },
   "source": [
    "> **Figure 4**: The maximum number of apps were released on the app store in the year 2020"
   ]
  },
  {
   "cell_type": "markdown",
   "id": "d38fe961",
   "metadata": {
    "papermill": {
     "duration": 0.045701,
     "end_time": "2023-03-21T20:17:27.601027",
     "exception": false,
     "start_time": "2023-03-21T20:17:27.555326",
     "status": "completed"
    },
    "tags": []
   },
   "source": [
    "- Answer 7: In 2020, the app store saw the highest number of app releases, likely due to the COVID-19 pandemic forcing more people to stay at home during lockdowns."
   ]
  },
  {
   "cell_type": "markdown",
   "id": "9d9b621e",
   "metadata": {
    "papermill": {
     "duration": 0.045836,
     "end_time": "2023-03-21T20:17:27.692505",
     "exception": false,
     "start_time": "2023-03-21T20:17:27.646669",
     "status": "completed"
    },
    "tags": []
   },
   "source": [
    "---"
   ]
  },
  {
   "cell_type": "markdown",
   "id": "60093801",
   "metadata": {
    "papermill": {
     "duration": 0.045116,
     "end_time": "2023-03-21T20:17:27.783748",
     "exception": false,
     "start_time": "2023-03-21T20:17:27.738632",
     "status": "completed"
    },
    "tags": []
   },
   "source": [
    "Question 8. Size in MBs vs. Price of App"
   ]
  },
  {
   "cell_type": "code",
   "execution_count": 69,
   "id": "f6ca8885",
   "metadata": {
    "execution": {
     "iopub.execute_input": "2023-03-21T20:17:27.880215Z",
     "iopub.status.busy": "2023-03-21T20:17:27.879763Z",
     "iopub.status.idle": "2023-03-21T20:17:28.249672Z",
     "shell.execute_reply": "2023-03-21T20:17:28.248292Z"
    },
    "papermill": {
     "duration": 0.421966,
     "end_time": "2023-03-21T20:17:28.252430",
     "exception": false,
     "start_time": "2023-03-21T20:17:27.830464",
     "status": "completed"
    },
    "tags": []
   },
   "outputs": [
    {
     "data": {
      "text/html": [
       "<div>\n",
       "<style scoped>\n",
       "    .dataframe tbody tr th:only-of-type {\n",
       "        vertical-align: middle;\n",
       "    }\n",
       "\n",
       "    .dataframe tbody tr th {\n",
       "        vertical-align: top;\n",
       "    }\n",
       "\n",
       "    .dataframe thead th {\n",
       "        text-align: right;\n",
       "    }\n",
       "</style>\n",
       "<table border=\"1\" class=\"dataframe\">\n",
       "  <thead>\n",
       "    <tr style=\"text-align: right;\">\n",
       "      <th></th>\n",
       "      <th>Size_MB</th>\n",
       "      <th>Price</th>\n",
       "      <th>Count</th>\n",
       "    </tr>\n",
       "  </thead>\n",
       "  <tbody>\n",
       "    <tr>\n",
       "      <th>323620</th>\n",
       "      <td>73222.591724</td>\n",
       "      <td>39.99</td>\n",
       "      <td>1</td>\n",
       "    </tr>\n",
       "    <tr>\n",
       "      <th>323619</th>\n",
       "      <td>55966.684362</td>\n",
       "      <td>29.99</td>\n",
       "      <td>1</td>\n",
       "    </tr>\n",
       "    <tr>\n",
       "      <th>323618</th>\n",
       "      <td>46456.905587</td>\n",
       "      <td>39.99</td>\n",
       "      <td>1</td>\n",
       "    </tr>\n",
       "    <tr>\n",
       "      <th>323617</th>\n",
       "      <td>45104.025642</td>\n",
       "      <td>44.99</td>\n",
       "      <td>1</td>\n",
       "    </tr>\n",
       "    <tr>\n",
       "      <th>323616</th>\n",
       "      <td>43870.335733</td>\n",
       "      <td>49.99</td>\n",
       "      <td>1</td>\n",
       "    </tr>\n",
       "    <tr>\n",
       "      <th>323615</th>\n",
       "      <td>42760.803113</td>\n",
       "      <td>19.99</td>\n",
       "      <td>1</td>\n",
       "    </tr>\n",
       "    <tr>\n",
       "      <th>323614</th>\n",
       "      <td>40410.851272</td>\n",
       "      <td>35.99</td>\n",
       "      <td>1</td>\n",
       "    </tr>\n",
       "    <tr>\n",
       "      <th>323613</th>\n",
       "      <td>40105.749650</td>\n",
       "      <td>39.99</td>\n",
       "      <td>1</td>\n",
       "    </tr>\n",
       "    <tr>\n",
       "      <th>323612</th>\n",
       "      <td>36724.346972</td>\n",
       "      <td>54.99</td>\n",
       "      <td>1</td>\n",
       "    </tr>\n",
       "    <tr>\n",
       "      <th>323611</th>\n",
       "      <td>35358.327187</td>\n",
       "      <td>24.99</td>\n",
       "      <td>1</td>\n",
       "    </tr>\n",
       "  </tbody>\n",
       "</table>\n",
       "</div>"
      ],
      "text/plain": [
       "             Size_MB  Price  Count\n",
       "323620  73222.591724  39.99      1\n",
       "323619  55966.684362  29.99      1\n",
       "323618  46456.905587  39.99      1\n",
       "323617  45104.025642  44.99      1\n",
       "323616  43870.335733  49.99      1\n",
       "323615  42760.803113  19.99      1\n",
       "323614  40410.851272  35.99      1\n",
       "323613  40105.749650  39.99      1\n",
       "323612  36724.346972  54.99      1\n",
       "323611  35358.327187  24.99      1"
      ]
     },
     "execution_count": 69,
     "metadata": {},
     "output_type": "execute_result"
    }
   ],
   "source": [
    "# group the dataset by Primary_Genre and Type, and count the number of apps in each group\n",
    "Tot_Apps_Size_Price = df.groupby(['Size_MB', 'Price']).size().reset_index(name='Count')\n",
    "\n",
    "# ##load top 10 free apps\n",
    "Top10_Apps_Size_Price = Tot_Apps_Size_Price.sort_values(by='Size_MB', ascending=False).head(10)\n",
    "Top10_Apps_Size_Price"
   ]
  },
  {
   "cell_type": "code",
   "execution_count": 70,
   "id": "6b97cd21",
   "metadata": {
    "execution": {
     "iopub.execute_input": "2023-03-21T20:17:28.350225Z",
     "iopub.status.busy": "2023-03-21T20:17:28.349740Z",
     "iopub.status.idle": "2023-03-21T20:17:28.703389Z",
     "shell.execute_reply": "2023-03-21T20:17:28.701961Z"
    },
    "papermill": {
     "duration": 0.406341,
     "end_time": "2023-03-21T20:17:28.706192",
     "exception": false,
     "start_time": "2023-03-21T20:17:28.299851",
     "status": "completed"
    },
    "tags": []
   },
   "outputs": [
    {
     "data": {
      "text/plain": [
       "<Axes: xlabel='Size_MB', ylabel='Price'>"
      ]
     },
     "execution_count": 70,
     "metadata": {},
     "output_type": "execute_result"
    },
    {
     "data": {
      "image/png": "[encoded data removed]",
      "text/plain": [
       "<Figure size 2000x600 with 1 Axes>"
      ]
     },
     "metadata": {},
     "output_type": "display_data"
    }
   ],
   "source": [
    "sns.barplot(Top10_Apps_Size_Price, x='Size_MB', y='Price', color='grey')"
   ]
  },
  {
   "cell_type": "markdown",
   "id": "3986c04c",
   "metadata": {
    "papermill": {
     "duration": 0.045787,
     "end_time": "2023-03-21T20:17:28.799921",
     "exception": false,
     "start_time": "2023-03-21T20:17:28.754134",
     "status": "completed"
    },
    "tags": []
   },
   "source": [
    "> **Figure 5A:** Plot showing the size of the app in MB and its price"
   ]
  },
  {
   "cell_type": "code",
   "execution_count": 71,
   "id": "073d3e52",
   "metadata": {
    "execution": {
     "iopub.execute_input": "2023-03-21T20:17:28.898805Z",
     "iopub.status.busy": "2023-03-21T20:17:28.898348Z",
     "iopub.status.idle": "2023-03-21T20:20:55.177735Z",
     "shell.execute_reply": "2023-03-21T20:20:55.176346Z"
    },
    "papermill": {
     "duration": 206.331628,
     "end_time": "2023-03-21T20:20:55.180641",
     "exception": false,
     "start_time": "2023-03-21T20:17:28.849013",
     "status": "completed"
    },
    "tags": []
   },
   "outputs": [
    {
     "data": {
      "text/plain": [
       "<seaborn.axisgrid.PairGrid at 0x26d2c056d80>"
      ]
     },
     "execution_count": 71,
     "metadata": {},
     "output_type": "execute_result"
    },
    {
     "data": {
      "image/png": "[encoded data removed]",
      "text/plain": [
       "<Figure size 579.5x500 with 6 Axes>"
      ]
     },
     "metadata": {},
     "output_type": "display_data"
    }
   ],
   "source": [
    "sns.pairplot(df, hue='Type', vars=['Size_MB', 'Price'])"
   ]
  },
  {
   "cell_type": "markdown",
   "id": "549ad043",
   "metadata": {
    "papermill": {
     "duration": 0.050818,
     "end_time": "2023-03-21T20:20:55.280806",
     "exception": false,
     "start_time": "2023-03-21T20:20:55.229988",
     "status": "completed"
    },
    "tags": []
   },
   "source": [
    "> **Figure 5B:** The pair-plot above further highlights the relation of Free and Paid app with the price"
   ]
  },
  {
   "cell_type": "markdown",
   "id": "a3e22061",
   "metadata": {
    "papermill": {
     "duration": 0.047548,
     "end_time": "2023-03-21T20:20:55.380322",
     "exception": false,
     "start_time": "2023-03-21T20:20:55.332774",
     "status": "completed"
    },
    "tags": []
   },
   "source": [
    "- **Answer 8:** We tried to find a direct/indirect correlation between the size of the app and its price.\\\n",
    "  This implies that the size of the app is irrelevant to the price of the app (except for few exceptions). "
   ]
  },
  {
   "cell_type": "markdown",
   "id": "68649718",
   "metadata": {
    "papermill": {
     "duration": 0.048599,
     "end_time": "2023-03-21T20:20:55.480836",
     "exception": false,
     "start_time": "2023-03-21T20:20:55.432237",
     "status": "completed"
    },
    "tags": []
   },
   "source": [
    "---"
   ]
  },
  {
   "cell_type": "markdown",
   "id": "eab9ec79",
   "metadata": {
    "papermill": {
     "duration": 0.047922,
     "end_time": "2023-03-21T20:20:55.577392",
     "exception": false,
     "start_time": "2023-03-21T20:20:55.529470",
     "status": "completed"
    },
    "tags": []
   },
   "source": [
    "Question 9. Top 10 app producing developer"
   ]
  },
  {
   "cell_type": "code",
   "execution_count": 72,
   "id": "1d5f6950",
   "metadata": {
    "execution": {
     "iopub.execute_input": "2023-03-21T20:20:55.681199Z",
     "iopub.status.busy": "2023-03-21T20:20:55.680762Z",
     "iopub.status.idle": "2023-03-21T20:20:57.165009Z",
     "shell.execute_reply": "2023-03-21T20:20:57.162453Z"
    },
    "papermill": {
     "duration": 1.542935,
     "end_time": "2023-03-21T20:20:57.169110",
     "exception": false,
     "start_time": "2023-03-21T20:20:55.626175",
     "status": "completed"
    },
    "tags": []
   },
   "outputs": [],
   "source": [
    "# group the dataset by Primary_Genre and Type, and count the number of apps in each group\n",
    "Top10_Cnt_Dev = df.groupby(['Developer']).size().reset_index(name='Count')\n",
    "\n",
    "# ##load top 10 free apps\n",
    "Top10_Cnt_App_Dev = Top10_Cnt_Dev.sort_values(by='Count', ascending=False).head(10)\n"
   ]
  },
  {
   "cell_type": "code",
   "execution_count": 73,
   "id": "5ea570cb",
   "metadata": {
    "execution": {
     "iopub.execute_input": "2023-03-21T20:20:57.283182Z",
     "iopub.status.busy": "2023-03-21T20:20:57.282783Z",
     "iopub.status.idle": "2023-03-21T20:20:57.294842Z",
     "shell.execute_reply": "2023-03-21T20:20:57.293335Z"
    },
    "papermill": {
     "duration": 0.064784,
     "end_time": "2023-03-21T20:20:57.297795",
     "exception": false,
     "start_time": "2023-03-21T20:20:57.233011",
     "status": "completed"
    },
    "tags": []
   },
   "outputs": [
    {
     "data": {
      "text/html": [
       "<div>\n",
       "<style scoped>\n",
       "    .dataframe tbody tr th:only-of-type {\n",
       "        vertical-align: middle;\n",
       "    }\n",
       "\n",
       "    .dataframe tbody tr th {\n",
       "        vertical-align: top;\n",
       "    }\n",
       "\n",
       "    .dataframe thead th {\n",
       "        text-align: right;\n",
       "    }\n",
       "</style>\n",
       "<table border=\"1\" class=\"dataframe\">\n",
       "  <thead>\n",
       "    <tr style=\"text-align: right;\">\n",
       "      <th></th>\n",
       "      <th>Developer</th>\n",
       "      <th>Count</th>\n",
       "    </tr>\n",
       "  </thead>\n",
       "  <tbody>\n",
       "    <tr>\n",
       "      <th>84502</th>\n",
       "      <td>ChowNow</td>\n",
       "      <td>3966</td>\n",
       "    </tr>\n",
       "    <tr>\n",
       "      <th>432773</th>\n",
       "      <td>Touch2Success</td>\n",
       "      <td>1649</td>\n",
       "    </tr>\n",
       "    <tr>\n",
       "      <th>21446</th>\n",
       "      <td>Alexander Velimirovic</td>\n",
       "      <td>1506</td>\n",
       "    </tr>\n",
       "    <tr>\n",
       "      <th>259262</th>\n",
       "      <td>MINDBODY, Incorporated</td>\n",
       "      <td>1247</td>\n",
       "    </tr>\n",
       "    <tr>\n",
       "      <th>331925</th>\n",
       "      <td>Phorest</td>\n",
       "      <td>1131</td>\n",
       "    </tr>\n",
       "    <tr>\n",
       "      <th>309328</th>\n",
       "      <td>OFFLINE MAP TRIP GUIDE LTD</td>\n",
       "      <td>1022</td>\n",
       "    </tr>\n",
       "    <tr>\n",
       "      <th>262967</th>\n",
       "      <td>Magzter Inc.</td>\n",
       "      <td>928</td>\n",
       "    </tr>\n",
       "    <tr>\n",
       "      <th>8456</th>\n",
       "      <td>ASK Video</td>\n",
       "      <td>781</td>\n",
       "    </tr>\n",
       "    <tr>\n",
       "      <th>345604</th>\n",
       "      <td>RAPID ACCELERATION INDIA PRIVATE LIMITED</td>\n",
       "      <td>733</td>\n",
       "    </tr>\n",
       "    <tr>\n",
       "      <th>306122</th>\n",
       "      <td>Nonlinear Educating Inc.</td>\n",
       "      <td>555</td>\n",
       "    </tr>\n",
       "  </tbody>\n",
       "</table>\n",
       "</div>"
      ],
      "text/plain": [
       "                                       Developer  Count\n",
       "84502                                    ChowNow   3966\n",
       "432773                             Touch2Success   1649\n",
       "21446                      Alexander Velimirovic   1506\n",
       "259262                    MINDBODY, Incorporated   1247\n",
       "331925                                   Phorest   1131\n",
       "309328                OFFLINE MAP TRIP GUIDE LTD   1022\n",
       "262967                              Magzter Inc.    928\n",
       "8456                                   ASK Video    781\n",
       "345604  RAPID ACCELERATION INDIA PRIVATE LIMITED    733\n",
       "306122                  Nonlinear Educating Inc.    555"
      ]
     },
     "execution_count": 73,
     "metadata": {},
     "output_type": "execute_result"
    }
   ],
   "source": [
    "Top10_Cnt_App_Dev.head(10)"
   ]
  },
  {
   "cell_type": "code",
   "execution_count": 74,
   "id": "10e1fd8f",
   "metadata": {
    "execution": {
     "iopub.execute_input": "2023-03-21T20:20:57.398918Z",
     "iopub.status.busy": "2023-03-21T20:20:57.397575Z",
     "iopub.status.idle": "2023-03-21T20:20:57.692017Z",
     "shell.execute_reply": "2023-03-21T20:20:57.690631Z"
    },
    "papermill": {
     "duration": 0.34759,
     "end_time": "2023-03-21T20:20:57.695007",
     "exception": false,
     "start_time": "2023-03-21T20:20:57.347417",
     "status": "completed"
    },
    "tags": []
   },
   "outputs": [
    {
     "data": {
      "text/plain": [
       "Text(0.5, 1.0, ' Top 10 App Producing developer')"
      ]
     },
     "execution_count": 74,
     "metadata": {},
     "output_type": "execute_result"
    },
    {
     "data": {
      "image/png": "[encoded data removed]",
      "text/plain": [
       "<Figure size 800x600 with 1 Axes>"
      ]
     },
     "metadata": {},
     "output_type": "display_data"
    }
   ],
   "source": [
    "plt.figure(figsize=(8,6))\n",
    "data = Top10_Cnt_App_Dev.groupby('Developer')['Count'].max().sort_values(ascending = True)\n",
    "data = data.head(10)\n",
    "labels = data.keys()\n",
    "plt.pie(data, labels= labels,autopct='%.0f%%') \n",
    "plt.title(\" Top 10 App Producing developer\", fontsize=14)"
   ]
  },
  {
   "cell_type": "markdown",
   "id": "5aebf1d8",
   "metadata": {
    "papermill": {
     "duration": 0.050038,
     "end_time": "2023-03-21T20:20:57.796136",
     "exception": false,
     "start_time": "2023-03-21T20:20:57.746098",
     "status": "completed"
    },
    "tags": []
   },
   "source": [
    "> **Figure 6:** A pie chart showing which Developer or company has highest app development contribution to the app store"
   ]
  },
  {
   "cell_type": "markdown",
   "id": "98a57a03",
   "metadata": {
    "papermill": {
     "duration": 0.052503,
     "end_time": "2023-03-21T20:20:57.902610",
     "exception": false,
     "start_time": "2023-03-21T20:20:57.850107",
     "status": "completed"
    },
    "tags": []
   },
   "source": [
    "- Answer 9: \n",
    "    1. ChowNow\n",
    "    2. Touch2Success\n",
    "    3. Alexander Velimirovic\n",
    "    4. MINDBODY, Incorporated\n",
    "    5. Phorest\n",
    "    6. OFFLINE MAP TRIP GUIDE LTD\n",
    "    7. Magzter Inc.\n",
    "    8. ASK Video\n",
    "    9. RAPID ACCELERATION INDIA PRIVATE LIMITED\n",
    "    10. Nonlinear Educating Inc.\n"
   ]
  },
  {
   "cell_type": "markdown",
   "id": "1a32e449",
   "metadata": {
    "papermill": {
     "duration": 0.04966,
     "end_time": "2023-03-21T20:20:58.002836",
     "exception": false,
     "start_time": "2023-03-21T20:20:57.953176",
     "status": "completed"
    },
    "tags": []
   },
   "source": [
    "---"
   ]
  },
  {
   "cell_type": "markdown",
   "id": "909a848e",
   "metadata": {
    "papermill": {
     "duration": 0.050451,
     "end_time": "2023-03-21T20:20:58.104098",
     "exception": false,
     "start_time": "2023-03-21T20:20:58.053647",
     "status": "completed"
    },
    "tags": []
   },
   "source": [
    "Question 10. What type of Genre attracted what kind of clintele in terms of revenues"
   ]
  },
  {
   "cell_type": "code",
   "execution_count": 75,
   "id": "ccb2af0b",
   "metadata": {
    "execution": {
     "iopub.execute_input": "2023-03-21T20:20:58.208797Z",
     "iopub.status.busy": "2023-03-21T20:20:58.207686Z",
     "iopub.status.idle": "2023-03-21T20:20:59.144302Z",
     "shell.execute_reply": "2023-03-21T20:20:59.142912Z"
    },
    "papermill": {
     "duration": 0.991552,
     "end_time": "2023-03-21T20:20:59.146939",
     "exception": false,
     "start_time": "2023-03-21T20:20:58.155387",
     "status": "completed"
    },
    "tags": []
   },
   "outputs": [
    {
     "data": {
      "text/plain": [
       "<Axes: xlabel='Primary_Genre'>"
      ]
     },
     "execution_count": 75,
     "metadata": {},
     "output_type": "execute_result"
    },
    {
     "data": {
      "image/png": "[encoded data removed]",
      "text/plain": [
       "<Figure size 2000x600 with 1 Axes>"
      ]
     },
     "metadata": {},
     "output_type": "display_data"
    }
   ],
   "source": [
    "df.groupby(['Primary_Genre', 'Content_Rating'])['Price'].sum().unstack().plot(kind='bar', stacked=True)\n"
   ]
  },
  {
   "cell_type": "markdown",
   "id": "10dbfedc",
   "metadata": {
    "papermill": {
     "duration": 0.054172,
     "end_time": "2023-03-21T20:20:59.254961",
     "exception": false,
     "start_time": "2023-03-21T20:20:59.200789",
     "status": "completed"
    },
    "tags": []
   },
   "source": [
    "> **Figure 7:** Shows which genre attracted what kind of clintele in terms of revenues"
   ]
  },
  {
   "cell_type": "markdown",
   "id": "23c61694",
   "metadata": {
    "papermill": {
     "duration": 0.052444,
     "end_time": "2023-03-21T20:20:59.362743",
     "exception": false,
     "start_time": "2023-03-21T20:20:59.310299",
     "status": "completed"
    },
    "tags": []
   },
   "source": [
    "- Answer 10: \n",
    "> Few interesting points that needs further analysis and attention. What kind of apps that falls under the category of Business & Utilities and are bought by or for Children\n",
    "\n",
    "### Facts:\n",
    "- ⚠️ Caution: The content rating attribute may not always provide reliable information.\n",
    "- 🚸 Be aware: An app rated 9+ could contain inappropriate content, such as an e-book with mature themes."
   ]
  },
  {
   "cell_type": "code",
   "execution_count": 76,
   "id": "e1bd0f65",
   "metadata": {
    "execution": {
     "iopub.execute_input": "2023-03-21T20:20:59.470842Z",
     "iopub.status.busy": "2023-03-21T20:20:59.470023Z",
     "iopub.status.idle": "2023-03-21T20:20:59.694012Z",
     "shell.execute_reply": "2023-03-21T20:20:59.692757Z"
    },
    "papermill": {
     "duration": 0.281284,
     "end_time": "2023-03-21T20:20:59.696778",
     "exception": false,
     "start_time": "2023-03-21T20:20:59.415494",
     "status": "completed"
    },
    "tags": []
   },
   "outputs": [
    {
     "data": {
      "text/html": [
       "<div>\n",
       "<style scoped>\n",
       "    .dataframe tbody tr th:only-of-type {\n",
       "        vertical-align: middle;\n",
       "    }\n",
       "\n",
       "    .dataframe tbody tr th {\n",
       "        vertical-align: top;\n",
       "    }\n",
       "\n",
       "    .dataframe thead th {\n",
       "        text-align: right;\n",
       "    }\n",
       "</style>\n",
       "<table border=\"1\" class=\"dataframe\">\n",
       "  <thead>\n",
       "    <tr style=\"text-align: right;\">\n",
       "      <th></th>\n",
       "      <th>App_Id</th>\n",
       "      <th>App_Name</th>\n",
       "      <th>AppStore_Url</th>\n",
       "      <th>Primary_Genre</th>\n",
       "      <th>Content_Rating</th>\n",
       "      <th>Size_Bytes</th>\n",
       "      <th>Required_IOS_Version</th>\n",
       "      <th>Released</th>\n",
       "      <th>Updated</th>\n",
       "      <th>Version</th>\n",
       "      <th>Price</th>\n",
       "      <th>Currency</th>\n",
       "      <th>DeveloperId</th>\n",
       "      <th>Developer</th>\n",
       "      <th>Developer_Url</th>\n",
       "      <th>Average_User_Rating</th>\n",
       "      <th>Reviews</th>\n",
       "      <th>Current_Version_Score</th>\n",
       "      <th>Current_Version_Reviews</th>\n",
       "      <th>Size_MB</th>\n",
       "      <th>Type</th>\n",
       "      <th>ReviewCategory</th>\n",
       "      <th>Year_Release</th>\n",
       "    </tr>\n",
       "  </thead>\n",
       "  <tbody>\n",
       "    <tr>\n",
       "      <th>528</th>\n",
       "      <td>com.lettechnologies.Hadith-Collection-Pro</td>\n",
       "      <td>Hadith Collection English</td>\n",
       "      <td>https://apps.apple.com/us/app/hadith-collectio...</td>\n",
       "      <td>Business</td>\n",
       "      <td>Children</td>\n",
       "      <td>443802624.0</td>\n",
       "      <td>11.0</td>\n",
       "      <td>2021-01-15 08:00:00+00:00</td>\n",
       "      <td>2021-01-15T22:53:46Z</td>\n",
       "      <td>1.0</td>\n",
       "      <td>0.99</td>\n",
       "      <td>USD</td>\n",
       "      <td>1097519044</td>\n",
       "      <td>Akhzar Nazir</td>\n",
       "      <td>https://apps.apple.com/us/developer/akhzar-naz...</td>\n",
       "      <td>0</td>\n",
       "      <td>0</td>\n",
       "      <td>0.0</td>\n",
       "      <td>0</td>\n",
       "      <td>423.243164</td>\n",
       "      <td>Paid</td>\n",
       "      <td>NoReviewsProvided</td>\n",
       "      <td>2021</td>\n",
       "    </tr>\n",
       "    <tr>\n",
       "      <th>565</th>\n",
       "      <td>com.thos.thoshukuk</td>\n",
       "      <td>T-HOS</td>\n",
       "      <td>https://apps.apple.com/us/app/t-hos/id13329939...</td>\n",
       "      <td>Business</td>\n",
       "      <td>Children</td>\n",
       "      <td>20775936.0</td>\n",
       "      <td>10.1</td>\n",
       "      <td>2018-02-12 18:36:26+00:00</td>\n",
       "      <td>2021-09-17T10:05:06Z</td>\n",
       "      <td>1.9</td>\n",
       "      <td>0.00</td>\n",
       "      <td>USD</td>\n",
       "      <td>1332993964</td>\n",
       "      <td>THOS HUKUK OTOMASYON SISTEMLERI YAZILIM ANONIM...</td>\n",
       "      <td>https://apps.apple.com/us/developer/thos-hukuk...</td>\n",
       "      <td>0</td>\n",
       "      <td>0</td>\n",
       "      <td>0.0</td>\n",
       "      <td>0</td>\n",
       "      <td>19.813477</td>\n",
       "      <td>Free</td>\n",
       "      <td>NoReviewsProvided</td>\n",
       "      <td>2018</td>\n",
       "    </tr>\n",
       "    <tr>\n",
       "      <th>569</th>\n",
       "      <td>tr.gov.tccb.mevzuatbilgisistemi</td>\n",
       "      <td>T.C. Mevzuat Bilgi Sistemi</td>\n",
       "      <td>https://apps.apple.com/us/app/t-c-mevzuat-bilg...</td>\n",
       "      <td>Business</td>\n",
       "      <td>Children</td>\n",
       "      <td>12931072.0</td>\n",
       "      <td>10.0</td>\n",
       "      <td>2019-11-22 08:00:00+00:00</td>\n",
       "      <td>2021-06-17T10:02:27Z</td>\n",
       "      <td>1.4.1</td>\n",
       "      <td>0.00</td>\n",
       "      <td>USD</td>\n",
       "      <td>458584330</td>\n",
       "      <td>Türkiye Cumhuriyeti Cumhurbaşkanlığı</td>\n",
       "      <td>https://apps.apple.com/us/developer/t%C3%BCrki...</td>\n",
       "      <td>5</td>\n",
       "      <td>1</td>\n",
       "      <td>5.0</td>\n",
       "      <td>1</td>\n",
       "      <td>12.332031</td>\n",
       "      <td>Free</td>\n",
       "      <td>Less than 10K</td>\n",
       "      <td>2019</td>\n",
       "    </tr>\n",
       "    <tr>\n",
       "      <th>850</th>\n",
       "      <td>tr.gov.tccb.resmigazete</td>\n",
       "      <td>T.C. Resmi Gazete</td>\n",
       "      <td>https://apps.apple.com/us/app/t-c-resmi-gazete...</td>\n",
       "      <td>Business</td>\n",
       "      <td>Children</td>\n",
       "      <td>15455232.0</td>\n",
       "      <td>10.0</td>\n",
       "      <td>2019-07-14 08:39:38+00:00</td>\n",
       "      <td>2021-07-01T18:40:48Z</td>\n",
       "      <td>2.2.3</td>\n",
       "      <td>0.00</td>\n",
       "      <td>USD</td>\n",
       "      <td>458584330</td>\n",
       "      <td>Türkiye Cumhuriyeti Cumhurbaşkanlığı</td>\n",
       "      <td>https://apps.apple.com/us/developer/t%C3%BCrki...</td>\n",
       "      <td>3</td>\n",
       "      <td>2</td>\n",
       "      <td>3.0</td>\n",
       "      <td>2</td>\n",
       "      <td>14.739258</td>\n",
       "      <td>Free</td>\n",
       "      <td>Less than 10K</td>\n",
       "      <td>2019</td>\n",
       "    </tr>\n",
       "    <tr>\n",
       "      <th>885</th>\n",
       "      <td>app.kickpro.ubonbookfair</td>\n",
       "      <td>Ubon Book Fair ครั้งที่ 11</td>\n",
       "      <td>https://apps.apple.com/us/app/ubon-book-fair-%...</td>\n",
       "      <td>Business</td>\n",
       "      <td>Children</td>\n",
       "      <td>55010304.0</td>\n",
       "      <td>10.0</td>\n",
       "      <td>2019-08-05 07:00:00+00:00</td>\n",
       "      <td>2019-08-05T07:00:00Z</td>\n",
       "      <td>1.0</td>\n",
       "      <td>0.00</td>\n",
       "      <td>USD</td>\n",
       "      <td>501928215</td>\n",
       "      <td>Digital Insider Company Limited</td>\n",
       "      <td>https://apps.apple.com/us/developer/digital-in...</td>\n",
       "      <td>0</td>\n",
       "      <td>0</td>\n",
       "      <td>0.0</td>\n",
       "      <td>0</td>\n",
       "      <td>52.461914</td>\n",
       "      <td>Free</td>\n",
       "      <td>NoReviewsProvided</td>\n",
       "      <td>2019</td>\n",
       "    </tr>\n",
       "  </tbody>\n",
       "</table>\n",
       "</div>"
      ],
      "text/plain": [
       "                                        App_Id                    App_Name  \\\n",
       "528  com.lettechnologies.Hadith-Collection-Pro   Hadith Collection English   \n",
       "565                         com.thos.thoshukuk                       T-HOS   \n",
       "569            tr.gov.tccb.mevzuatbilgisistemi  T.C. Mevzuat Bilgi Sistemi   \n",
       "850                    tr.gov.tccb.resmigazete           T.C. Resmi Gazete   \n",
       "885                   app.kickpro.ubonbookfair  Ubon Book Fair ครั้งที่ 11   \n",
       "\n",
       "                                          AppStore_Url Primary_Genre  \\\n",
       "528  https://apps.apple.com/us/app/hadith-collectio...      Business   \n",
       "565  https://apps.apple.com/us/app/t-hos/id13329939...      Business   \n",
       "569  https://apps.apple.com/us/app/t-c-mevzuat-bilg...      Business   \n",
       "850  https://apps.apple.com/us/app/t-c-resmi-gazete...      Business   \n",
       "885  https://apps.apple.com/us/app/ubon-book-fair-%...      Business   \n",
       "\n",
       "    Content_Rating   Size_Bytes Required_IOS_Version  \\\n",
       "528       Children  443802624.0                 11.0   \n",
       "565       Children   20775936.0                 10.1   \n",
       "569       Children   12931072.0                 10.0   \n",
       "850       Children   15455232.0                 10.0   \n",
       "885       Children   55010304.0                 10.0   \n",
       "\n",
       "                     Released               Updated Version  Price Currency  \\\n",
       "528 2021-01-15 08:00:00+00:00  2021-01-15T22:53:46Z     1.0   0.99      USD   \n",
       "565 2018-02-12 18:36:26+00:00  2021-09-17T10:05:06Z     1.9   0.00      USD   \n",
       "569 2019-11-22 08:00:00+00:00  2021-06-17T10:02:27Z   1.4.1   0.00      USD   \n",
       "850 2019-07-14 08:39:38+00:00  2021-07-01T18:40:48Z   2.2.3   0.00      USD   \n",
       "885 2019-08-05 07:00:00+00:00  2019-08-05T07:00:00Z     1.0   0.00      USD   \n",
       "\n",
       "     DeveloperId                                          Developer  \\\n",
       "528   1097519044                                       Akhzar Nazir   \n",
       "565   1332993964  THOS HUKUK OTOMASYON SISTEMLERI YAZILIM ANONIM...   \n",
       "569    458584330               Türkiye Cumhuriyeti Cumhurbaşkanlığı   \n",
       "850    458584330               Türkiye Cumhuriyeti Cumhurbaşkanlığı   \n",
       "885    501928215                    Digital Insider Company Limited   \n",
       "\n",
       "                                         Developer_Url  Average_User_Rating  \\\n",
       "528  https://apps.apple.com/us/developer/akhzar-naz...                    0   \n",
       "565  https://apps.apple.com/us/developer/thos-hukuk...                    0   \n",
       "569  https://apps.apple.com/us/developer/t%C3%BCrki...                    5   \n",
       "850  https://apps.apple.com/us/developer/t%C3%BCrki...                    3   \n",
       "885  https://apps.apple.com/us/developer/digital-in...                    0   \n",
       "\n",
       "     Reviews  Current_Version_Score  Current_Version_Reviews     Size_MB  \\\n",
       "528        0                    0.0                        0  423.243164   \n",
       "565        0                    0.0                        0   19.813477   \n",
       "569        1                    5.0                        1   12.332031   \n",
       "850        2                    3.0                        2   14.739258   \n",
       "885        0                    0.0                        0   52.461914   \n",
       "\n",
       "     Type     ReviewCategory Year_Release  \n",
       "528  Paid  NoReviewsProvided         2021  \n",
       "565  Free  NoReviewsProvided         2018  \n",
       "569  Free      Less than 10K         2019  \n",
       "850  Free      Less than 10K         2019  \n",
       "885  Free  NoReviewsProvided         2019  "
      ]
     },
     "execution_count": 76,
     "metadata": {},
     "output_type": "execute_result"
    }
   ],
   "source": [
    "# select the rows where Content_Rating is Toddlers and Primary_Genre is Business\n",
    "toddler_business_df = df[(df['Content_Rating'] == 'Children') & (df['Primary_Genre'] == 'Business')]\n",
    "\n",
    "# print the resulting DataFrame\n",
    "toddler_business_df.head(5)"
   ]
  },
  {
   "cell_type": "code",
   "execution_count": 77,
   "id": "78dbd311",
   "metadata": {
    "execution": {
     "iopub.execute_input": "2023-03-21T20:20:59.802931Z",
     "iopub.status.busy": "2023-03-21T20:20:59.802441Z",
     "iopub.status.idle": "2023-03-21T20:21:00.039839Z",
     "shell.execute_reply": "2023-03-21T20:21:00.038419Z"
    },
    "papermill": {
     "duration": 0.293729,
     "end_time": "2023-03-21T20:21:00.042797",
     "exception": false,
     "start_time": "2023-03-21T20:20:59.749068",
     "status": "completed"
    },
    "tags": []
   },
   "outputs": [
    {
     "data": {
      "text/html": [
       "<div>\n",
       "<style scoped>\n",
       "    .dataframe tbody tr th:only-of-type {\n",
       "        vertical-align: middle;\n",
       "    }\n",
       "\n",
       "    .dataframe tbody tr th {\n",
       "        vertical-align: top;\n",
       "    }\n",
       "\n",
       "    .dataframe thead th {\n",
       "        text-align: right;\n",
       "    }\n",
       "</style>\n",
       "<table border=\"1\" class=\"dataframe\">\n",
       "  <thead>\n",
       "    <tr style=\"text-align: right;\">\n",
       "      <th></th>\n",
       "      <th>App_Id</th>\n",
       "      <th>App_Name</th>\n",
       "      <th>AppStore_Url</th>\n",
       "      <th>Primary_Genre</th>\n",
       "      <th>Content_Rating</th>\n",
       "      <th>Size_Bytes</th>\n",
       "      <th>Required_IOS_Version</th>\n",
       "      <th>Released</th>\n",
       "      <th>Updated</th>\n",
       "      <th>Version</th>\n",
       "      <th>Price</th>\n",
       "      <th>Currency</th>\n",
       "      <th>DeveloperId</th>\n",
       "      <th>Developer</th>\n",
       "      <th>Developer_Url</th>\n",
       "      <th>Average_User_Rating</th>\n",
       "      <th>Reviews</th>\n",
       "      <th>Current_Version_Score</th>\n",
       "      <th>Current_Version_Reviews</th>\n",
       "      <th>Size_MB</th>\n",
       "      <th>Type</th>\n",
       "      <th>ReviewCategory</th>\n",
       "      <th>Year_Release</th>\n",
       "    </tr>\n",
       "  </thead>\n",
       "  <tbody>\n",
       "    <tr>\n",
       "      <th>84</th>\n",
       "      <td>com.lifeng.Dreader</td>\n",
       "      <td>D-Reader</td>\n",
       "      <td>https://apps.apple.com/us/app/d-reader/id10671...</td>\n",
       "      <td>Utilities</td>\n",
       "      <td>Children</td>\n",
       "      <td>24834048.0</td>\n",
       "      <td>7.0</td>\n",
       "      <td>2016-01-05 21:47:32+00:00</td>\n",
       "      <td>2016-03-26T14:17:30Z</td>\n",
       "      <td>1.0.3</td>\n",
       "      <td>0.00</td>\n",
       "      <td>USD</td>\n",
       "      <td>592667658</td>\n",
       "      <td>Beijing Zhongxian Zhihui IP Consulting Co.,Ltd.</td>\n",
       "      <td>https://apps.apple.com/us/developer/beijing-zh...</td>\n",
       "      <td>4</td>\n",
       "      <td>1</td>\n",
       "      <td>4.0</td>\n",
       "      <td>1</td>\n",
       "      <td>23.683594</td>\n",
       "      <td>Free</td>\n",
       "      <td>Less than 10K</td>\n",
       "      <td>2016</td>\n",
       "    </tr>\n",
       "    <tr>\n",
       "      <th>389</th>\n",
       "      <td>com.vrk.Universal.GanapatiStotra</td>\n",
       "      <td>Ganapati Stotra</td>\n",
       "      <td>https://apps.apple.com/us/app/ganapati-stotra/...</td>\n",
       "      <td>Utilities</td>\n",
       "      <td>Children</td>\n",
       "      <td>16099328.0</td>\n",
       "      <td>8.0</td>\n",
       "      <td>2013-06-21 01:22:45+00:00</td>\n",
       "      <td>2019-03-18T22:22:05Z</td>\n",
       "      <td>3.0</td>\n",
       "      <td>0.00</td>\n",
       "      <td>USD</td>\n",
       "      <td>571853659</td>\n",
       "      <td>Vaibhav Kavathekar</td>\n",
       "      <td>https://apps.apple.com/us/developer/vaibhav-ka...</td>\n",
       "      <td>0</td>\n",
       "      <td>0</td>\n",
       "      <td>0.0</td>\n",
       "      <td>0</td>\n",
       "      <td>15.353516</td>\n",
       "      <td>Free</td>\n",
       "      <td>NoReviewsProvided</td>\n",
       "      <td>2013</td>\n",
       "    </tr>\n",
       "    <tr>\n",
       "      <th>680</th>\n",
       "      <td>com.redstonz.noteslocker</td>\n",
       "      <td>Easy Notes Locker,Private Note</td>\n",
       "      <td>https://apps.apple.com/us/app/easy-notes-locke...</td>\n",
       "      <td>Utilities</td>\n",
       "      <td>Children</td>\n",
       "      <td>5597184.0</td>\n",
       "      <td>13.0</td>\n",
       "      <td>2015-06-24 21:05:36+00:00</td>\n",
       "      <td>2021-06-10T07:31:14Z</td>\n",
       "      <td>1.5</td>\n",
       "      <td>0.00</td>\n",
       "      <td>USD</td>\n",
       "      <td>901183899</td>\n",
       "      <td>Waheed Khan</td>\n",
       "      <td>https://apps.apple.com/us/developer/waheed-kha...</td>\n",
       "      <td>5</td>\n",
       "      <td>1</td>\n",
       "      <td>5.0</td>\n",
       "      <td>1</td>\n",
       "      <td>5.337891</td>\n",
       "      <td>Free</td>\n",
       "      <td>Less than 10K</td>\n",
       "      <td>2015</td>\n",
       "    </tr>\n",
       "    <tr>\n",
       "      <th>781</th>\n",
       "      <td>tw.idv.sixlawna</td>\n",
       "      <td>S-link台灣法律法規</td>\n",
       "      <td>https://apps.apple.com/us/app/s-link%E5%8F%B0%...</td>\n",
       "      <td>Utilities</td>\n",
       "      <td>Children</td>\n",
       "      <td>335846400.0</td>\n",
       "      <td>12.0</td>\n",
       "      <td>2018-02-03 05:24:44+00:00</td>\n",
       "      <td>2021-07-24T17:57:14Z</td>\n",
       "      <td>1.0.24</td>\n",
       "      <td>14.99</td>\n",
       "      <td>USD</td>\n",
       "      <td>1311329204</td>\n",
       "      <td>ShuChi Huang</td>\n",
       "      <td>https://apps.apple.com/us/developer/shuchi-hua...</td>\n",
       "      <td>0</td>\n",
       "      <td>0</td>\n",
       "      <td>0.0</td>\n",
       "      <td>0</td>\n",
       "      <td>320.288086</td>\n",
       "      <td>Paid</td>\n",
       "      <td>NoReviewsProvided</td>\n",
       "      <td>2018</td>\n",
       "    </tr>\n",
       "    <tr>\n",
       "      <th>782</th>\n",
       "      <td>tw.idv.sixlaw</td>\n",
       "      <td>S-link台灣法律法規(精簡版)</td>\n",
       "      <td>https://apps.apple.com/us/app/s-link%E5%8F%B0%...</td>\n",
       "      <td>Utilities</td>\n",
       "      <td>Children</td>\n",
       "      <td>129798144.0</td>\n",
       "      <td>12.0</td>\n",
       "      <td>2017-11-14 16:33:40+00:00</td>\n",
       "      <td>2021-07-24T20:32:25Z</td>\n",
       "      <td>1.27</td>\n",
       "      <td>0.00</td>\n",
       "      <td>USD</td>\n",
       "      <td>1311329204</td>\n",
       "      <td>ShuChi Huang</td>\n",
       "      <td>https://apps.apple.com/us/developer/shuchi-hua...</td>\n",
       "      <td>0</td>\n",
       "      <td>0</td>\n",
       "      <td>0.0</td>\n",
       "      <td>0</td>\n",
       "      <td>123.785156</td>\n",
       "      <td>Free</td>\n",
       "      <td>NoReviewsProvided</td>\n",
       "      <td>2017</td>\n",
       "    </tr>\n",
       "  </tbody>\n",
       "</table>\n",
       "</div>"
      ],
      "text/plain": [
       "                               App_Id                        App_Name  \\\n",
       "84                 com.lifeng.Dreader                        D-Reader   \n",
       "389  com.vrk.Universal.GanapatiStotra                 Ganapati Stotra   \n",
       "680          com.redstonz.noteslocker  Easy Notes Locker,Private Note   \n",
       "781                   tw.idv.sixlawna                    S-link台灣法律法規   \n",
       "782                     tw.idv.sixlaw               S-link台灣法律法規(精簡版)   \n",
       "\n",
       "                                          AppStore_Url Primary_Genre  \\\n",
       "84   https://apps.apple.com/us/app/d-reader/id10671...     Utilities   \n",
       "389  https://apps.apple.com/us/app/ganapati-stotra/...     Utilities   \n",
       "680  https://apps.apple.com/us/app/easy-notes-locke...     Utilities   \n",
       "781  https://apps.apple.com/us/app/s-link%E5%8F%B0%...     Utilities   \n",
       "782  https://apps.apple.com/us/app/s-link%E5%8F%B0%...     Utilities   \n",
       "\n",
       "    Content_Rating   Size_Bytes Required_IOS_Version  \\\n",
       "84        Children   24834048.0                  7.0   \n",
       "389       Children   16099328.0                  8.0   \n",
       "680       Children    5597184.0                 13.0   \n",
       "781       Children  335846400.0                 12.0   \n",
       "782       Children  129798144.0                 12.0   \n",
       "\n",
       "                     Released               Updated Version  Price Currency  \\\n",
       "84  2016-01-05 21:47:32+00:00  2016-03-26T14:17:30Z   1.0.3   0.00      USD   \n",
       "389 2013-06-21 01:22:45+00:00  2019-03-18T22:22:05Z     3.0   0.00      USD   \n",
       "680 2015-06-24 21:05:36+00:00  2021-06-10T07:31:14Z     1.5   0.00      USD   \n",
       "781 2018-02-03 05:24:44+00:00  2021-07-24T17:57:14Z  1.0.24  14.99      USD   \n",
       "782 2017-11-14 16:33:40+00:00  2021-07-24T20:32:25Z    1.27   0.00      USD   \n",
       "\n",
       "     DeveloperId                                        Developer  \\\n",
       "84     592667658  Beijing Zhongxian Zhihui IP Consulting Co.,Ltd.   \n",
       "389    571853659                               Vaibhav Kavathekar   \n",
       "680    901183899                                      Waheed Khan   \n",
       "781   1311329204                                     ShuChi Huang   \n",
       "782   1311329204                                     ShuChi Huang   \n",
       "\n",
       "                                         Developer_Url  Average_User_Rating  \\\n",
       "84   https://apps.apple.com/us/developer/beijing-zh...                    4   \n",
       "389  https://apps.apple.com/us/developer/vaibhav-ka...                    0   \n",
       "680  https://apps.apple.com/us/developer/waheed-kha...                    5   \n",
       "781  https://apps.apple.com/us/developer/shuchi-hua...                    0   \n",
       "782  https://apps.apple.com/us/developer/shuchi-hua...                    0   \n",
       "\n",
       "     Reviews  Current_Version_Score  Current_Version_Reviews     Size_MB  \\\n",
       "84         1                    4.0                        1   23.683594   \n",
       "389        0                    0.0                        0   15.353516   \n",
       "680        1                    5.0                        1    5.337891   \n",
       "781        0                    0.0                        0  320.288086   \n",
       "782        0                    0.0                        0  123.785156   \n",
       "\n",
       "     Type     ReviewCategory Year_Release  \n",
       "84   Free      Less than 10K         2016  \n",
       "389  Free  NoReviewsProvided         2013  \n",
       "680  Free      Less than 10K         2015  \n",
       "781  Paid  NoReviewsProvided         2018  \n",
       "782  Free  NoReviewsProvided         2017  "
      ]
     },
     "execution_count": 77,
     "metadata": {},
     "output_type": "execute_result"
    }
   ],
   "source": [
    "# select the rows where Content_Rating is Toddlers and Primary_Genre is Business\n",
    "toddler_utility_df = df[(df['Content_Rating'] == 'Children') & (df['Primary_Genre'] == 'Utilities')]\n",
    "\n",
    "# print the resulting DataFrame\n",
    "toddler_utility_df.head(5)"
   ]
  },
  {
   "cell_type": "markdown",
   "id": "3ab7bce0",
   "metadata": {
    "papermill": {
     "duration": 0.054445,
     "end_time": "2023-03-21T20:21:00.151412",
     "exception": false,
     "start_time": "2023-03-21T20:21:00.096967",
     "status": "completed"
    },
    "tags": []
   },
   "source": [
    "---"
   ]
  },
  {
   "cell_type": "markdown",
   "id": "f6cf6aae",
   "metadata": {
    "papermill": {
     "duration": 0.056574,
     "end_time": "2023-03-21T20:21:00.262956",
     "exception": false,
     "start_time": "2023-03-21T20:21:00.206382",
     "status": "completed"
    },
    "tags": []
   },
   "source": [
    "Question 11. YoY (Year on Year) comparison of apps per Content_Rating"
   ]
  },
  {
   "cell_type": "code",
   "execution_count": 78,
   "id": "b26749b7",
   "metadata": {
    "execution": {
     "iopub.execute_input": "2023-03-21T20:21:00.371914Z",
     "iopub.status.busy": "2023-03-21T20:21:00.371354Z",
     "iopub.status.idle": "2023-03-21T20:21:01.200984Z",
     "shell.execute_reply": "2023-03-21T20:21:01.199630Z"
    },
    "papermill": {
     "duration": 0.887918,
     "end_time": "2023-03-21T20:21:01.203972",
     "exception": false,
     "start_time": "2023-03-21T20:21:00.316054",
     "status": "completed"
    },
    "tags": []
   },
   "outputs": [
    {
     "data": {
      "text/plain": [
       "<Axes: xlabel='Year_Release'>"
      ]
     },
     "execution_count": 78,
     "metadata": {},
     "output_type": "execute_result"
    },
    {
     "data": {
      "image/png": "[encoded data removed]",
      "text/plain": [
       "<Figure size 2000x600 with 1 Axes>"
      ]
     },
     "metadata": {},
     "output_type": "display_data"
    }
   ],
   "source": [
    "cnt_YoY = df.groupby(['Year_Release', 'Content_Rating', 'Primary_Genre']).size().reset_index(name='Count')\n",
    "#cnt_year_app_Release.head(10).sort_values(by='Count', ascending=False)\n",
    "\n",
    "cnt_YoY.groupby(['Year_Release', 'Content_Rating'])['Count'].sum().unstack().plot(kind='bar', stacked=True)"
   ]
  },
  {
   "cell_type": "markdown",
   "id": "5360cb92",
   "metadata": {
    "papermill": {
     "duration": 0.056199,
     "end_time": "2023-03-21T20:21:01.316862",
     "exception": false,
     "start_time": "2023-03-21T20:21:01.260663",
     "status": "completed"
    },
    "tags": []
   },
   "source": [
    "> **Figure 8:** Year on Year engagement of various age groups as categorised by App Store"
   ]
  },
  {
   "cell_type": "markdown",
   "id": "3a613db1",
   "metadata": {
    "papermill": {
     "duration": 0.059072,
     "end_time": "2023-03-21T20:21:01.430258",
     "exception": false,
     "start_time": "2023-03-21T20:21:01.371186",
     "status": "completed"
    },
    "tags": []
   },
   "source": [
    "- Answer 11: Clearly the Children category is taking the lead. However as pointed out earlier the content rating of non-kids app are also rated under children caegories"
   ]
  },
  {
   "cell_type": "markdown",
   "id": "86e5dd79",
   "metadata": {
    "papermill": {
     "duration": 0.055945,
     "end_time": "2023-03-21T20:21:01.544984",
     "exception": false,
     "start_time": "2023-03-21T20:21:01.489039",
     "status": "completed"
    },
    "tags": []
   },
   "source": [
    "---"
   ]
  },
  {
   "cell_type": "markdown",
   "id": "82a503f1",
   "metadata": {
    "papermill": {
     "duration": 0.053956,
     "end_time": "2023-03-21T20:21:01.654109",
     "exception": false,
     "start_time": "2023-03-21T20:21:01.600153",
     "status": "completed"
    },
    "tags": []
   },
   "source": [
    "Question 12.  User Rating vs Price\n"
   ]
  },
  {
   "cell_type": "code",
   "execution_count": 79,
   "id": "505753c9",
   "metadata": {
    "execution": {
     "iopub.execute_input": "2023-03-21T20:21:01.764213Z",
     "iopub.status.busy": "2023-03-21T20:21:01.763765Z",
     "iopub.status.idle": "2023-03-21T20:21:02.491846Z",
     "shell.execute_reply": "2023-03-21T20:21:02.490439Z"
    },
    "papermill": {
     "duration": 0.786832,
     "end_time": "2023-03-21T20:21:02.494886",
     "exception": false,
     "start_time": "2023-03-21T20:21:01.708054",
     "status": "completed"
    },
    "tags": []
   },
   "outputs": [
    {
     "data": {
      "text/plain": [
       "<Axes: xlabel='Year_Release'>"
      ]
     },
     "execution_count": 79,
     "metadata": {},
     "output_type": "execute_result"
    },
    {
     "data": {
      "image/png": "[encoded data removed]",
      "text/plain": [
       "<Figure size 2000x600 with 1 Axes>"
      ]
     },
     "metadata": {},
     "output_type": "display_data"
    }
   ],
   "source": [
    "usr_Rat_Pri = df.groupby(['Average_User_Rating', 'Year_Release'])[['Price']].sum()\n",
    "\n",
    "\n",
    "usr_Rat_Pri.groupby(['Year_Release', 'Average_User_Rating'])['Price'].sum().unstack().plot(kind='bar', stacked=True)"
   ]
  },
  {
   "cell_type": "markdown",
   "id": "6dfe0e2f",
   "metadata": {
    "papermill": {
     "duration": 0.055227,
     "end_time": "2023-03-21T20:21:02.606445",
     "exception": false,
     "start_time": "2023-03-21T20:21:02.551218",
     "status": "completed"
    },
    "tags": []
   },
   "source": [
    "> **Figure 9:** User rating vs. Price. The higher teh rating more is the price of the app"
   ]
  },
  {
   "cell_type": "markdown",
   "id": "ef2160a3",
   "metadata": {
    "papermill": {
     "duration": 0.057556,
     "end_time": "2023-03-21T20:21:02.720163",
     "exception": false,
     "start_time": "2023-03-21T20:21:02.662607",
     "status": "completed"
    },
    "tags": []
   },
   "source": [
    "- Answer 12: User rating vs. Price. The higher teh rating more is the price of the app"
   ]
  },
  {
   "cell_type": "markdown",
   "id": "2f53425c",
   "metadata": {
    "papermill": {
     "duration": 0.057285,
     "end_time": "2023-03-21T20:21:02.833500",
     "exception": false,
     "start_time": "2023-03-21T20:21:02.776215",
     "status": "completed"
    },
    "tags": []
   },
   "source": [
    "---"
   ]
  },
  {
   "cell_type": "markdown",
   "id": "377f3bbe",
   "metadata": {
    "papermill": {
     "duration": 0.060495,
     "end_time": "2023-03-21T20:21:02.949374",
     "exception": false,
     "start_time": "2023-03-21T20:21:02.888879",
     "status": "completed"
    },
    "tags": []
   },
   "source": [
    "Question 13.  User Rating vs MBytes"
   ]
  },
  {
   "cell_type": "code",
   "execution_count": 80,
   "id": "2789abf2",
   "metadata": {
    "execution": {
     "iopub.execute_input": "2023-03-21T20:21:03.066252Z",
     "iopub.status.busy": "2023-03-21T20:21:03.065788Z",
     "iopub.status.idle": "2023-03-21T20:21:03.810343Z",
     "shell.execute_reply": "2023-03-21T20:21:03.808968Z"
    },
    "papermill": {
     "duration": 0.805118,
     "end_time": "2023-03-21T20:21:03.813062",
     "exception": false,
     "start_time": "2023-03-21T20:21:03.007944",
     "status": "completed"
    },
    "tags": []
   },
   "outputs": [
    {
     "data": {
      "text/plain": [
       "<Axes: xlabel='Year_Release'>"
      ]
     },
     "execution_count": 80,
     "metadata": {},
     "output_type": "execute_result"
    },
    {
     "data": {
      "image/png": "[encoded data removed]",
      "text/plain": [
       "<Figure size 2000x600 with 1 Axes>"
      ]
     },
     "metadata": {},
     "output_type": "display_data"
    }
   ],
   "source": [
    "usr_Rat_MB = df.groupby(['Average_User_Rating', 'Year_Release'])[['Size_MB']].sum()\n",
    "# usr_Rat_Pri\n",
    "\n",
    "usr_Rat_MB.groupby(['Year_Release', 'Average_User_Rating'])['Size_MB'].sum().unstack().plot(kind='bar', stacked=True)"
   ]
  },
  {
   "cell_type": "markdown",
   "id": "08aaa190",
   "metadata": {
    "papermill": {
     "duration": 0.057173,
     "end_time": "2023-03-21T20:21:03.926692",
     "exception": false,
     "start_time": "2023-03-21T20:21:03.869519",
     "status": "completed"
    },
    "tags": []
   },
   "source": [
    "> **Figure 10:** User rating vs. App Size in MBs. The higher the rating more is the size in MB of the app"
   ]
  },
  {
   "cell_type": "markdown",
   "id": "83c07c4a",
   "metadata": {
    "papermill": {
     "duration": 0.061418,
     "end_time": "2023-03-21T20:21:04.047144",
     "exception": false,
     "start_time": "2023-03-21T20:21:03.985726",
     "status": "completed"
    },
    "tags": []
   },
   "source": [
    "- Answer 13: The higher the rating more is the size in MB of the app"
   ]
  },
  {
   "cell_type": "markdown",
   "id": "f4c18ccc",
   "metadata": {
    "papermill": {
     "duration": 0.058798,
     "end_time": "2023-03-21T20:21:04.165923",
     "exception": false,
     "start_time": "2023-03-21T20:21:04.107125",
     "status": "completed"
    },
    "tags": []
   },
   "source": [
    "---"
   ]
  },
  {
   "cell_type": "markdown",
   "id": "a02b56e6",
   "metadata": {
    "papermill": {
     "duration": 0.058182,
     "end_time": "2023-03-21T20:21:04.282044",
     "exception": false,
     "start_time": "2023-03-21T20:21:04.223862",
     "status": "completed"
    },
    "tags": []
   },
   "source": [
    "Question 14. Year on Year break down of top-5 Genre based on App Price"
   ]
  },
  {
   "cell_type": "code",
   "execution_count": 81,
   "id": "656bac6a",
   "metadata": {
    "execution": {
     "iopub.execute_input": "2023-03-21T20:21:04.398256Z",
     "iopub.status.busy": "2023-03-21T20:21:04.397795Z",
     "iopub.status.idle": "2023-03-21T20:21:05.341526Z",
     "shell.execute_reply": "2023-03-21T20:21:05.340106Z"
    },
    "papermill": {
     "duration": 1.005193,
     "end_time": "2023-03-21T20:21:05.344474",
     "exception": false,
     "start_time": "2023-03-21T20:21:04.339281",
     "status": "completed"
    },
    "tags": []
   },
   "outputs": [
    {
     "data": {
      "image/png": "[encoded data removed]",
      "text/plain": [
       "<Figure size 2000x600 with 1 Axes>"
      ]
     },
     "metadata": {},
     "output_type": "display_data"
    }
   ],
   "source": [
    "Rev_per_Genre = df.groupby(['Year_Release','Primary_Genre' ])[['Price']].sum()\n",
    "\n",
    "\n",
    "top5_genres = (Rev_per_Genre\n",
    "                       .sort_values(['Year_Release', 'Price'], ascending=[True, False])\n",
    "                       .groupby('Year_Release')\n",
    "                       .head(5))\n",
    "\n",
    "# Define a colormap: To present each category with a different color \n",
    "cmap = plt.get_cmap('tab20')\n",
    "\n",
    "\n",
    "# Group by year and primary genre, and plot a stacked bar chart\n",
    "top5_genres.groupby(['Year_Release', 'Primary_Genre'])['Price'].sum().unstack().plot(kind='bar', stacked=True, title= \"Year on Year break down of top-5 Genre based on App Price\", cmap=cmap)\n",
    "\n",
    "# Customize the plot\n",
    "plt.xlabel('Year')\n",
    "plt.ylabel('Total Price')\n",
    "plt.legend(title='Primary Genre', bbox_to_anchor=(1.05, 1), loc='upper left')\n",
    "plt.show()\n"
   ]
  },
  {
   "cell_type": "markdown",
   "id": "51ed9547",
   "metadata": {
    "papermill": {
     "duration": 0.060741,
     "end_time": "2023-03-21T20:21:05.462532",
     "exception": false,
     "start_time": "2023-03-21T20:21:05.401791",
     "status": "completed"
    },
    "tags": []
   },
   "source": [
    "> **Figure 11:** YoY break down per per Genre based on App price"
   ]
  },
  {
   "cell_type": "markdown",
   "id": "d3f9bd85",
   "metadata": {
    "papermill": {
     "duration": 0.119709,
     "end_time": "2023-03-21T20:21:05.640383",
     "exception": false,
     "start_time": "2023-03-21T20:21:05.520674",
     "status": "completed"
    },
    "tags": []
   },
   "source": [
    "- Answer 14: Clearly Educational apps contributes more revenue in terms of app sales"
   ]
  },
  {
   "cell_type": "markdown",
   "id": "9e654068",
   "metadata": {
    "papermill": {
     "duration": 0.057045,
     "end_time": "2023-03-21T20:21:05.754924",
     "exception": false,
     "start_time": "2023-03-21T20:21:05.697879",
     "status": "completed"
    },
    "tags": []
   },
   "source": [
    "---"
   ]
  },
  {
   "cell_type": "markdown",
   "id": "35e5b75e",
   "metadata": {
    "papermill": {
     "duration": 0.059229,
     "end_time": "2023-03-21T20:21:05.872733",
     "exception": false,
     "start_time": "2023-03-21T20:21:05.813504",
     "status": "completed"
    },
    "tags": []
   },
   "source": [
    "Question 15.  IOS Versions Vs Count of app"
   ]
  },
  {
   "cell_type": "code",
   "execution_count": 82,
   "id": "36efa84a",
   "metadata": {
    "execution": {
     "iopub.execute_input": "2023-03-21T20:21:05.993802Z",
     "iopub.status.busy": "2023-03-21T20:21:05.992772Z",
     "iopub.status.idle": "2023-03-21T20:21:06.448017Z",
     "shell.execute_reply": "2023-03-21T20:21:06.447039Z"
    },
    "papermill": {
     "duration": 0.517156,
     "end_time": "2023-03-21T20:21:06.450542",
     "exception": false,
     "start_time": "2023-03-21T20:21:05.933386",
     "status": "completed"
    },
    "tags": []
   },
   "outputs": [
    {
     "data": {
      "text/plain": [
       "<Axes: xlabel='Required_IOS_Version', ylabel='Count'>"
      ]
     },
     "execution_count": 82,
     "metadata": {},
     "output_type": "execute_result"
    },
    {
     "data": {
      "image/png": "[encoded data removed]",
      "text/plain": [
       "<Figure size 2000x600 with 1 Axes>"
      ]
     },
     "metadata": {},
     "output_type": "display_data"
    }
   ],
   "source": [
    "\n",
    "# group the dataset by Primary_Genre and Type, and count the number of apps in each group\n",
    "Ver_counts = df.groupby(['Required_IOS_Version']).size().reset_index(name='Count')\n",
    "\n",
    "\n",
    "\n",
    "# ##load top 10 free apps\n",
    "top_10_Ver_counts = Ver_counts.sort_values(by='Count', ascending=False).head(10)\n",
    "\n",
    "sns.barplot(top_10_Ver_counts , x='Required_IOS_Version', y='Count', color='grey')\n"
   ]
  },
  {
   "cell_type": "markdown",
   "id": "13847a96",
   "metadata": {
    "papermill": {
     "duration": 0.058205,
     "end_time": "2023-03-21T20:21:06.567101",
     "exception": false,
     "start_time": "2023-03-21T20:21:06.508896",
     "status": "completed"
    },
    "tags": []
   },
   "source": [
    "> **Figure 12:** Top 10 IOS Versions Vs Count of app"
   ]
  },
  {
   "cell_type": "markdown",
   "id": "02f361f4",
   "metadata": {
    "papermill": {
     "duration": 0.057443,
     "end_time": "2023-03-21T20:21:06.681943",
     "exception": false,
     "start_time": "2023-03-21T20:21:06.624500",
     "status": "completed"
    },
    "tags": []
   },
   "source": [
    "- Answer 15: Top 10 IOS Versions Vs Count of app"
   ]
  },
  {
   "cell_type": "markdown",
   "id": "618422bd",
   "metadata": {
    "papermill": {
     "duration": 0.058723,
     "end_time": "2023-03-21T20:21:06.798808",
     "exception": false,
     "start_time": "2023-03-21T20:21:06.740085",
     "status": "completed"
    },
    "tags": []
   },
   "source": [
    "---"
   ]
  },
  {
   "cell_type": "markdown",
   "id": "34ee56aa",
   "metadata": {
    "papermill": {
     "duration": 0.058502,
     "end_time": "2023-03-21T20:21:06.915281",
     "exception": false,
     "start_time": "2023-03-21T20:21:06.856779",
     "status": "completed"
    },
    "tags": []
   },
   "source": [
    "Question 16. Interdependency of numeric attributes on each other"
   ]
  },
  {
   "cell_type": "code",
   "execution_count": 83,
   "id": "11d18401",
   "metadata": {},
   "outputs": [
    {
     "data": {
      "text/html": [
       "<div>\n",
       "<style scoped>\n",
       "    .dataframe tbody tr th:only-of-type {\n",
       "        vertical-align: middle;\n",
       "    }\n",
       "\n",
       "    .dataframe tbody tr th {\n",
       "        vertical-align: top;\n",
       "    }\n",
       "\n",
       "    .dataframe thead th {\n",
       "        text-align: right;\n",
       "    }\n",
       "</style>\n",
       "<table border=\"1\" class=\"dataframe\">\n",
       "  <thead>\n",
       "    <tr style=\"text-align: right;\">\n",
       "      <th></th>\n",
       "      <th>App_Id</th>\n",
       "      <th>App_Name</th>\n",
       "      <th>AppStore_Url</th>\n",
       "      <th>Primary_Genre</th>\n",
       "      <th>Content_Rating</th>\n",
       "      <th>Size_Bytes</th>\n",
       "      <th>Required_IOS_Version</th>\n",
       "      <th>Released</th>\n",
       "      <th>Updated</th>\n",
       "      <th>Version</th>\n",
       "      <th>Price</th>\n",
       "      <th>Currency</th>\n",
       "      <th>DeveloperId</th>\n",
       "      <th>Developer</th>\n",
       "      <th>Developer_Url</th>\n",
       "      <th>Average_User_Rating</th>\n",
       "      <th>Reviews</th>\n",
       "      <th>Current_Version_Score</th>\n",
       "      <th>Current_Version_Reviews</th>\n",
       "      <th>Size_MB</th>\n",
       "      <th>Type</th>\n",
       "      <th>ReviewCategory</th>\n",
       "      <th>Year_Release</th>\n",
       "    </tr>\n",
       "  </thead>\n",
       "  <tbody>\n",
       "    <tr>\n",
       "      <th>0</th>\n",
       "      <td>com.hkbu.arc.apaper</td>\n",
       "      <td>A+ Paper Guide</td>\n",
       "      <td>https://apps.apple.com/us/app/a-paper-guide/id...</td>\n",
       "      <td>Education</td>\n",
       "      <td>Children</td>\n",
       "      <td>21993472.0</td>\n",
       "      <td>8.0</td>\n",
       "      <td>2017-09-28 03:02:41+00:00</td>\n",
       "      <td>2018-12-21T21:30:36Z</td>\n",
       "      <td>1.1.2</td>\n",
       "      <td>0.00</td>\n",
       "      <td>USD</td>\n",
       "      <td>1375410542</td>\n",
       "      <td>HKBU ARC</td>\n",
       "      <td>https://apps.apple.com/us/developer/hkbu-arc/i...</td>\n",
       "      <td>0</td>\n",
       "      <td>0</td>\n",
       "      <td>0.0</td>\n",
       "      <td>0</td>\n",
       "      <td>20.974609</td>\n",
       "      <td>Free</td>\n",
       "      <td>NoReviewsProvided</td>\n",
       "      <td>2017</td>\n",
       "    </tr>\n",
       "    <tr>\n",
       "      <th>1</th>\n",
       "      <td>com.dmitriev.abooks</td>\n",
       "      <td>A-Books</td>\n",
       "      <td>https://apps.apple.com/us/app/a-books/id103157...</td>\n",
       "      <td>Book</td>\n",
       "      <td>Children</td>\n",
       "      <td>13135872.0</td>\n",
       "      <td>10.0</td>\n",
       "      <td>2015-08-31 19:31:32+00:00</td>\n",
       "      <td>2019-07-23T20:31:09Z</td>\n",
       "      <td>1.3</td>\n",
       "      <td>0.00</td>\n",
       "      <td>USD</td>\n",
       "      <td>1031572001</td>\n",
       "      <td>Roman Dmitriev</td>\n",
       "      <td>https://apps.apple.com/us/developer/roman-dmit...</td>\n",
       "      <td>5</td>\n",
       "      <td>1</td>\n",
       "      <td>5.0</td>\n",
       "      <td>1</td>\n",
       "      <td>12.527344</td>\n",
       "      <td>Free</td>\n",
       "      <td>Less than 10K</td>\n",
       "      <td>2015</td>\n",
       "    </tr>\n",
       "    <tr>\n",
       "      <th>2</th>\n",
       "      <td>no.terp.abooks</td>\n",
       "      <td>A-books</td>\n",
       "      <td>https://apps.apple.com/us/app/a-books/id145702...</td>\n",
       "      <td>Book</td>\n",
       "      <td>Children</td>\n",
       "      <td>21943296.0</td>\n",
       "      <td>9.0</td>\n",
       "      <td>2021-04-14 07:00:00+00:00</td>\n",
       "      <td>2021-05-30T21:08:54Z</td>\n",
       "      <td>1.3.1</td>\n",
       "      <td>0.00</td>\n",
       "      <td>USD</td>\n",
       "      <td>1457024163</td>\n",
       "      <td>Terp AS</td>\n",
       "      <td>https://apps.apple.com/us/developer/terp-as/id...</td>\n",
       "      <td>0</td>\n",
       "      <td>0</td>\n",
       "      <td>0.0</td>\n",
       "      <td>0</td>\n",
       "      <td>20.926758</td>\n",
       "      <td>Free</td>\n",
       "      <td>NoReviewsProvided</td>\n",
       "      <td>2021</td>\n",
       "    </tr>\n",
       "    <tr>\n",
       "      <th>3</th>\n",
       "      <td>fr.antoinettefleur.Book1</td>\n",
       "      <td>A-F Book #1</td>\n",
       "      <td>https://apps.apple.com/us/app/a-f-book-1/id500...</td>\n",
       "      <td>Book</td>\n",
       "      <td>Children</td>\n",
       "      <td>81851392.0</td>\n",
       "      <td>8.0</td>\n",
       "      <td>2012-02-10 03:40:07+00:00</td>\n",
       "      <td>2019-10-29T12:40:37Z</td>\n",
       "      <td>1.2</td>\n",
       "      <td>2.99</td>\n",
       "      <td>USD</td>\n",
       "      <td>439568839</td>\n",
       "      <td>i-editeur.com</td>\n",
       "      <td>https://apps.apple.com/us/developer/i-editeur-...</td>\n",
       "      <td>0</td>\n",
       "      <td>0</td>\n",
       "      <td>0.0</td>\n",
       "      <td>0</td>\n",
       "      <td>78.059570</td>\n",
       "      <td>Paid</td>\n",
       "      <td>NoReviewsProvided</td>\n",
       "      <td>2012</td>\n",
       "    </tr>\n",
       "    <tr>\n",
       "      <th>4</th>\n",
       "      <td>com.imonstersoft.azdictionaryios</td>\n",
       "      <td>A-Z Synonyms Dictionary</td>\n",
       "      <td>https://apps.apple.com/us/app/a-z-synonyms-dic...</td>\n",
       "      <td>Reference</td>\n",
       "      <td>Children</td>\n",
       "      <td>64692224.0</td>\n",
       "      <td>9.0</td>\n",
       "      <td>2020-12-16 08:00:00+00:00</td>\n",
       "      <td>2020-12-18T21:36:11Z</td>\n",
       "      <td>1.0.1</td>\n",
       "      <td>0.00</td>\n",
       "      <td>USD</td>\n",
       "      <td>656731821</td>\n",
       "      <td>Ngov chiheang</td>\n",
       "      <td>https://apps.apple.com/us/developer/ngov-chihe...</td>\n",
       "      <td>0</td>\n",
       "      <td>0</td>\n",
       "      <td>0.0</td>\n",
       "      <td>0</td>\n",
       "      <td>61.695312</td>\n",
       "      <td>Free</td>\n",
       "      <td>NoReviewsProvided</td>\n",
       "      <td>2020</td>\n",
       "    </tr>\n",
       "  </tbody>\n",
       "</table>\n",
       "</div>"
      ],
      "text/plain": [
       "                             App_Id                 App_Name  \\\n",
       "0               com.hkbu.arc.apaper           A+ Paper Guide   \n",
       "1               com.dmitriev.abooks                  A-Books   \n",
       "2                    no.terp.abooks                  A-books   \n",
       "3          fr.antoinettefleur.Book1              A-F Book #1   \n",
       "4  com.imonstersoft.azdictionaryios  A-Z Synonyms Dictionary   \n",
       "\n",
       "                                        AppStore_Url Primary_Genre  \\\n",
       "0  https://apps.apple.com/us/app/a-paper-guide/id...     Education   \n",
       "1  https://apps.apple.com/us/app/a-books/id103157...          Book   \n",
       "2  https://apps.apple.com/us/app/a-books/id145702...          Book   \n",
       "3  https://apps.apple.com/us/app/a-f-book-1/id500...          Book   \n",
       "4  https://apps.apple.com/us/app/a-z-synonyms-dic...     Reference   \n",
       "\n",
       "  Content_Rating  Size_Bytes Required_IOS_Version                  Released  \\\n",
       "0       Children  21993472.0                  8.0 2017-09-28 03:02:41+00:00   \n",
       "1       Children  13135872.0                 10.0 2015-08-31 19:31:32+00:00   \n",
       "2       Children  21943296.0                  9.0 2021-04-14 07:00:00+00:00   \n",
       "3       Children  81851392.0                  8.0 2012-02-10 03:40:07+00:00   \n",
       "4       Children  64692224.0                  9.0 2020-12-16 08:00:00+00:00   \n",
       "\n",
       "                Updated Version  Price Currency  DeveloperId       Developer  \\\n",
       "0  2018-12-21T21:30:36Z   1.1.2   0.00      USD   1375410542        HKBU ARC   \n",
       "1  2019-07-23T20:31:09Z     1.3   0.00      USD   1031572001  Roman Dmitriev   \n",
       "2  2021-05-30T21:08:54Z   1.3.1   0.00      USD   1457024163         Terp AS   \n",
       "3  2019-10-29T12:40:37Z     1.2   2.99      USD    439568839   i-editeur.com   \n",
       "4  2020-12-18T21:36:11Z   1.0.1   0.00      USD    656731821   Ngov chiheang   \n",
       "\n",
       "                                       Developer_Url  Average_User_Rating  \\\n",
       "0  https://apps.apple.com/us/developer/hkbu-arc/i...                    0   \n",
       "1  https://apps.apple.com/us/developer/roman-dmit...                    5   \n",
       "2  https://apps.apple.com/us/developer/terp-as/id...                    0   \n",
       "3  https://apps.apple.com/us/developer/i-editeur-...                    0   \n",
       "4  https://apps.apple.com/us/developer/ngov-chihe...                    0   \n",
       "\n",
       "   Reviews  Current_Version_Score  Current_Version_Reviews    Size_MB  Type  \\\n",
       "0        0                    0.0                        0  20.974609  Free   \n",
       "1        1                    5.0                        1  12.527344  Free   \n",
       "2        0                    0.0                        0  20.926758  Free   \n",
       "3        0                    0.0                        0  78.059570  Paid   \n",
       "4        0                    0.0                        0  61.695312  Free   \n",
       "\n",
       "      ReviewCategory Year_Release  \n",
       "0  NoReviewsProvided         2017  \n",
       "1      Less than 10K         2015  \n",
       "2  NoReviewsProvided         2021  \n",
       "3  NoReviewsProvided         2012  \n",
       "4  NoReviewsProvided         2020  "
      ]
     },
     "execution_count": 83,
     "metadata": {},
     "output_type": "execute_result"
    }
   ],
   "source": [
    "df.head()"
   ]
  },
  {
   "cell_type": "code",
   "execution_count": 84,
   "id": "db09066c",
   "metadata": {},
   "outputs": [
    {
     "data": {
      "text/html": [
       "<div>\n",
       "<style scoped>\n",
       "    .dataframe tbody tr th:only-of-type {\n",
       "        vertical-align: middle;\n",
       "    }\n",
       "\n",
       "    .dataframe tbody tr th {\n",
       "        vertical-align: top;\n",
       "    }\n",
       "\n",
       "    .dataframe thead th {\n",
       "        text-align: right;\n",
       "    }\n",
       "</style>\n",
       "<table border=\"1\" class=\"dataframe\">\n",
       "  <thead>\n",
       "    <tr style=\"text-align: right;\">\n",
       "      <th></th>\n",
       "      <th>App_Id</th>\n",
       "      <th>App_Name</th>\n",
       "      <th>AppStore_Url</th>\n",
       "      <th>Primary_Genre</th>\n",
       "      <th>Content_Rating</th>\n",
       "      <th>Size_Bytes</th>\n",
       "      <th>Required_IOS_Version</th>\n",
       "      <th>Released</th>\n",
       "      <th>Updated</th>\n",
       "      <th>Version</th>\n",
       "      <th>Price</th>\n",
       "      <th>Currency</th>\n",
       "      <th>DeveloperId</th>\n",
       "      <th>Developer</th>\n",
       "      <th>Developer_Url</th>\n",
       "      <th>Average_User_Rating</th>\n",
       "      <th>Reviews</th>\n",
       "      <th>Current_Version_Score</th>\n",
       "      <th>Current_Version_Reviews</th>\n",
       "      <th>Size_MB</th>\n",
       "      <th>Type</th>\n",
       "      <th>ReviewCategory</th>\n",
       "      <th>Year_Release</th>\n",
       "    </tr>\n",
       "  </thead>\n",
       "  <tbody>\n",
       "    <tr>\n",
       "      <th>0</th>\n",
       "      <td>com.hkbu.arc.apaper</td>\n",
       "      <td>A+ Paper Guide</td>\n",
       "      <td>https://apps.apple.com/us/app/a-paper-guide/id...</td>\n",
       "      <td>Education</td>\n",
       "      <td>Children</td>\n",
       "      <td>21993472.0</td>\n",
       "      <td>8.0</td>\n",
       "      <td>2017-09-28 03:02:41+00:00</td>\n",
       "      <td>2018-12-21T21:30:36Z</td>\n",
       "      <td>1.1.2</td>\n",
       "      <td>0.0</td>\n",
       "      <td>USD</td>\n",
       "      <td>1375410542</td>\n",
       "      <td>HKBU ARC</td>\n",
       "      <td>https://apps.apple.com/us/developer/hkbu-arc/i...</td>\n",
       "      <td>0</td>\n",
       "      <td>0</td>\n",
       "      <td>0.0</td>\n",
       "      <td>0</td>\n",
       "      <td>20.974609</td>\n",
       "      <td>Free</td>\n",
       "      <td>NoReviewsProvided</td>\n",
       "      <td>2017</td>\n",
       "    </tr>\n",
       "  </tbody>\n",
       "</table>\n",
       "</div>"
      ],
      "text/plain": [
       "                App_Id        App_Name  \\\n",
       "0  com.hkbu.arc.apaper  A+ Paper Guide   \n",
       "\n",
       "                                        AppStore_Url Primary_Genre  \\\n",
       "0  https://apps.apple.com/us/app/a-paper-guide/id...     Education   \n",
       "\n",
       "  Content_Rating  Size_Bytes Required_IOS_Version                  Released  \\\n",
       "0       Children  21993472.0                  8.0 2017-09-28 03:02:41+00:00   \n",
       "\n",
       "                Updated Version  Price Currency  DeveloperId Developer  \\\n",
       "0  2018-12-21T21:30:36Z   1.1.2    0.0      USD   1375410542  HKBU ARC   \n",
       "\n",
       "                                       Developer_Url  Average_User_Rating  \\\n",
       "0  https://apps.apple.com/us/developer/hkbu-arc/i...                    0   \n",
       "\n",
       "   Reviews  Current_Version_Score  Current_Version_Reviews    Size_MB  Type  \\\n",
       "0        0                    0.0                        0  20.974609  Free   \n",
       "\n",
       "      ReviewCategory Year_Release  \n",
       "0  NoReviewsProvided         2017  "
      ]
     },
     "execution_count": 84,
     "metadata": {},
     "output_type": "execute_result"
    }
   ],
   "source": [
    "df.loc[(df == 'com.hkbu.arc.apaper').any(axis=1)]"
   ]
  },
  {
   "cell_type": "code",
   "execution_count": 86,
   "id": "706a6893",
   "metadata": {},
   "outputs": [],
   "source": [
    "df.loc[df['App_Id'] == 'com.hkbu.arc.apaper', 'App_Id'] = np.nan"
   ]
  },
  {
   "cell_type": "code",
   "execution_count": 92,
   "id": "a0238540",
   "metadata": {},
   "outputs": [],
   "source": [
    "numerical_columns = df.select_dtypes(include=[np.number])"
   ]
  },
  {
   "cell_type": "code",
   "execution_count": 94,
   "id": "3f1d45e7",
   "metadata": {},
   "outputs": [
    {
     "data": {
      "text/html": [
       "<div>\n",
       "<style scoped>\n",
       "    .dataframe tbody tr th:only-of-type {\n",
       "        vertical-align: middle;\n",
       "    }\n",
       "\n",
       "    .dataframe tbody tr th {\n",
       "        vertical-align: top;\n",
       "    }\n",
       "\n",
       "    .dataframe thead th {\n",
       "        text-align: right;\n",
       "    }\n",
       "</style>\n",
       "<table border=\"1\" class=\"dataframe\">\n",
       "  <thead>\n",
       "    <tr style=\"text-align: right;\">\n",
       "      <th></th>\n",
       "      <th>Size_Bytes</th>\n",
       "      <th>Price</th>\n",
       "      <th>DeveloperId</th>\n",
       "      <th>Average_User_Rating</th>\n",
       "      <th>Reviews</th>\n",
       "      <th>Current_Version_Score</th>\n",
       "      <th>Current_Version_Reviews</th>\n",
       "      <th>Size_MB</th>\n",
       "    </tr>\n",
       "  </thead>\n",
       "  <tbody>\n",
       "    <tr>\n",
       "      <th>Size_Bytes</th>\n",
       "      <td>1.000000</td>\n",
       "      <td>0.056322</td>\n",
       "      <td>-0.019650</td>\n",
       "      <td>0.048960</td>\n",
       "      <td>0.011249</td>\n",
       "      <td>0.048419</td>\n",
       "      <td>0.011249</td>\n",
       "      <td>1.000000</td>\n",
       "    </tr>\n",
       "    <tr>\n",
       "      <th>Price</th>\n",
       "      <td>0.056322</td>\n",
       "      <td>1.000000</td>\n",
       "      <td>-0.055477</td>\n",
       "      <td>-0.010444</td>\n",
       "      <td>-0.001089</td>\n",
       "      <td>-0.010461</td>\n",
       "      <td>-0.001089</td>\n",
       "      <td>0.056322</td>\n",
       "    </tr>\n",
       "    <tr>\n",
       "      <th>DeveloperId</th>\n",
       "      <td>-0.019650</td>\n",
       "      <td>-0.055477</td>\n",
       "      <td>1.000000</td>\n",
       "      <td>-0.121220</td>\n",
       "      <td>-0.018658</td>\n",
       "      <td>-0.121020</td>\n",
       "      <td>-0.018658</td>\n",
       "      <td>-0.019650</td>\n",
       "    </tr>\n",
       "    <tr>\n",
       "      <th>Average_User_Rating</th>\n",
       "      <td>0.048960</td>\n",
       "      <td>-0.010444</td>\n",
       "      <td>-0.121220</td>\n",
       "      <td>1.000000</td>\n",
       "      <td>0.023513</td>\n",
       "      <td>0.997610</td>\n",
       "      <td>0.023513</td>\n",
       "      <td>0.048960</td>\n",
       "    </tr>\n",
       "    <tr>\n",
       "      <th>Reviews</th>\n",
       "      <td>0.011249</td>\n",
       "      <td>-0.001089</td>\n",
       "      <td>-0.018658</td>\n",
       "      <td>0.023513</td>\n",
       "      <td>1.000000</td>\n",
       "      <td>0.022171</td>\n",
       "      <td>1.000000</td>\n",
       "      <td>0.011249</td>\n",
       "    </tr>\n",
       "    <tr>\n",
       "      <th>Current_Version_Score</th>\n",
       "      <td>0.048419</td>\n",
       "      <td>-0.010461</td>\n",
       "      <td>-0.121020</td>\n",
       "      <td>0.997610</td>\n",
       "      <td>0.022171</td>\n",
       "      <td>1.000000</td>\n",
       "      <td>0.022171</td>\n",
       "      <td>0.048419</td>\n",
       "    </tr>\n",
       "    <tr>\n",
       "      <th>Current_Version_Reviews</th>\n",
       "      <td>0.011249</td>\n",
       "      <td>-0.001089</td>\n",
       "      <td>-0.018658</td>\n",
       "      <td>0.023513</td>\n",
       "      <td>1.000000</td>\n",
       "      <td>0.022171</td>\n",
       "      <td>1.000000</td>\n",
       "      <td>0.011249</td>\n",
       "    </tr>\n",
       "    <tr>\n",
       "      <th>Size_MB</th>\n",
       "      <td>1.000000</td>\n",
       "      <td>0.056322</td>\n",
       "      <td>-0.019650</td>\n",
       "      <td>0.048960</td>\n",
       "      <td>0.011249</td>\n",
       "      <td>0.048419</td>\n",
       "      <td>0.011249</td>\n",
       "      <td>1.000000</td>\n",
       "    </tr>\n",
       "  </tbody>\n",
       "</table>\n",
       "</div>"
      ],
      "text/plain": [
       "                         Size_Bytes     Price  DeveloperId  \\\n",
       "Size_Bytes                 1.000000  0.056322    -0.019650   \n",
       "Price                      0.056322  1.000000    -0.055477   \n",
       "DeveloperId               -0.019650 -0.055477     1.000000   \n",
       "Average_User_Rating        0.048960 -0.010444    -0.121220   \n",
       "Reviews                    0.011249 -0.001089    -0.018658   \n",
       "Current_Version_Score      0.048419 -0.010461    -0.121020   \n",
       "Current_Version_Reviews    0.011249 -0.001089    -0.018658   \n",
       "Size_MB                    1.000000  0.056322    -0.019650   \n",
       "\n",
       "                         Average_User_Rating   Reviews  Current_Version_Score  \\\n",
       "Size_Bytes                          0.048960  0.011249               0.048419   \n",
       "Price                              -0.010444 -0.001089              -0.010461   \n",
       "DeveloperId                        -0.121220 -0.018658              -0.121020   \n",
       "Average_User_Rating                 1.000000  0.023513               0.997610   \n",
       "Reviews                             0.023513  1.000000               0.022171   \n",
       "Current_Version_Score               0.997610  0.022171               1.000000   \n",
       "Current_Version_Reviews             0.023513  1.000000               0.022171   \n",
       "Size_MB                             0.048960  0.011249               0.048419   \n",
       "\n",
       "                         Current_Version_Reviews   Size_MB  \n",
       "Size_Bytes                              0.011249  1.000000  \n",
       "Price                                  -0.001089  0.056322  \n",
       "DeveloperId                            -0.018658 -0.019650  \n",
       "Average_User_Rating                     0.023513  0.048960  \n",
       "Reviews                                 1.000000  0.011249  \n",
       "Current_Version_Score                   0.022171  0.048419  \n",
       "Current_Version_Reviews                 1.000000  0.011249  \n",
       "Size_MB                                 0.011249  1.000000  "
      ]
     },
     "execution_count": 94,
     "metadata": {},
     "output_type": "execute_result"
    }
   ],
   "source": [
    "correlation_matrix = numerical_columns.corr()\n",
    "correlation_matrix"
   ]
  },
  {
   "cell_type": "code",
   "execution_count": null,
   "id": "e7c59cd1",
   "metadata": {
    "execution": {
     "iopub.execute_input": "2023-03-21T20:21:07.484558Z",
     "iopub.status.busy": "2023-03-21T20:21:07.483802Z",
     "iopub.status.idle": "2023-03-21T20:21:08.200421Z",
     "shell.execute_reply": "2023-03-21T20:21:08.197010Z"
    },
    "papermill": {
     "duration": 0.784096,
     "end_time": "2023-03-21T20:21:08.206171",
     "exception": false,
     "start_time": "2023-03-21T20:21:07.422075",
     "status": "completed"
    },
    "tags": []
   },
   "outputs": [],
   "source": [
    "plt.figure(figsize=(8,6))\n",
    "sns.heatmap(df.corr(),cbar= True, cmap='coolwarm')"
   ]
  },
  {
   "cell_type": "markdown",
   "id": "0b48825e",
   "metadata": {
    "papermill": {
     "duration": 0.059078,
     "end_time": "2023-03-21T20:21:08.327264",
     "exception": false,
     "start_time": "2023-03-21T20:21:08.268186",
     "status": "completed"
    },
    "tags": []
   },
   "source": [
    "> **Figure 12:** Displaying the correlation between the numerical attributes of the dataset"
   ]
  },
  {
   "cell_type": "markdown",
   "id": "6a49d505",
   "metadata": {
    "papermill": {
     "duration": 0.061382,
     "end_time": "2023-03-21T20:21:08.448531",
     "exception": false,
     "start_time": "2023-03-21T20:21:08.387149",
     "status": "completed"
    },
    "tags": []
   },
   "source": [
    "- Answer 16: Very few attributes have strong dependence on each other except for Average_User_Rating and Current_Version_Score"
   ]
  },
  {
   "cell_type": "markdown",
   "id": "d137e3cf",
   "metadata": {
    "papermill": {
     "duration": 0.059491,
     "end_time": "2023-03-21T20:21:08.568672",
     "exception": false,
     "start_time": "2023-03-21T20:21:08.509181",
     "status": "completed"
    },
    "tags": []
   },
   "source": [
    "---"
   ]
  },
  {
   "cell_type": "markdown",
   "id": "0e650f27",
   "metadata": {
    "papermill": {
     "duration": 0.059263,
     "end_time": "2023-03-21T20:21:08.688034",
     "exception": false,
     "start_time": "2023-03-21T20:21:08.628771",
     "status": "completed"
    },
    "tags": []
   },
   "source": [
    "# 7.0 Summary\n",
    "\n",
    "The EDA exercise conducted on the Apple App Store dataset has yielded numerous interesting insights. The dataset was found to be relatively clean and consistent throughout the analysis. We posed several questions to the dataset and provided detailed answers and findings as follows:\n",
    "\n",
    "\n",
    "Q1. What are the top 10 categories with the most downloads from the Apple Store?\\\n",
    "A1: Gaming apps are the most downloaded apps from the store.\n",
    "\n",
    "Q2. What are the top 10 primary genres with the highest average user rating?\\\n",
    "A2: The highest rated primary genres based on average user rating are Weather, Games, Photo & Videos, Music, Books, and References, among others.\n",
    "\n",
    "Q3. Which primary genre has the highest count of paid and free apps?\\\n",
    "A3: The list of free apps includes Games, Business, Education, Utilities, and Lifestyle, while the list of paid apps includes Education, Games, Utilities, Stickers, and Productivity.\n",
    "\n",
    "Q4. What are the top 5 paid apps with the highest ratings?\\\n",
    "A4: The top 5 paid apps with the highest ratings are Super Nano Trucks, FarRock Dodgeball, Money Easy - Expense Tracker, Money Flow - Expense Tracker, and Sketch Ideas.\n",
    "\n",
    "Q5. What are the top 5 free apps with the highest ratings?\\\n",
    "A5: The top 5 free apps with the highest ratings are Rise of Zombie - City Defense, Dog Wheelchairs, Dog App - Breed Scanner, Dojo Login 2, and Dojo Hero.\n",
    "\n",
    "Q6. What are the apps with the highest content rating?\\\n",
    "A6: The apps with the highest content rating are for children, adults, teens, and everyone, with a breakdown based on the count of apps under each category.\n",
    "\n",
    "Q7. In which years were the most apps released?\\\n",
    "A7: The year 2020 saw the highest number of app releases, likely due to the COVID-19 pandemic and more people staying at home.\n",
    "\n",
    "Q8. How does the size of an app in MBs compare to its price?\\\n",
    "A8: We tried to find a correlation between app size and price but found that, except for a few exceptions, the size of the app is irrelevant to the price.\n",
    "\n",
    "Q9. Who are the top 10 app-producing developers?\\\n",
    "A9: The top 10 app-producing developers are ChowNow, Touch2Success, Alexander Velimirovic, MINDBODY, Incorporated, Phorest, OFFLINE MAP TRIP GUIDE LTD, Magzter Inc., ASK Video, RAPID ACCELERATION INDIA PRIVATE LIMITED, and Nonlinear Educating Inc.\n",
    "\n",
    "Q10. What types of genres attract which types of clients in terms of revenue?\\\n",
    "A10: Some interesting points need further analysis and attention, such as what kind of Business & Utilities apps are bought by or for children. It was found that the information stored in the content rating attribute is not very reliable and that there is a possibility that an app is rated for 9+ but is actually an e-book with unsuitable topics.\n",
    "\n",
    "Q11. How do app releases per content rating compare year on year?\\\n",
    "A11: Clearly, the children's category is taking the lead, but as pointed out earlier, the content rating of non-kids apps is also rated under the children's category.\n",
    "\n",
    "Q12. How does user rating compare to price?\\\n",
    "A12: The higher the user rating, the higher the price of the app.\n",
    "\n",
    "Q13. How does user rating compare to MB size?\\\n",
    "A13: The higher the user rating, the larger the size in MB of the app.\n",
    "\n",
    "Q14. How do YoY breakdowns per genre based on app price compare?\\\n",
    "A14: Educational apps contribute more revenue in terms of app sales.\n",
    "\n",
    "Q16. Interdependency of numeric attributes on each other\\\n",
    "Answer 16: Few attributes show strong dependence on each other, except for Average_User_Rating and Current_Version_Score."
   ]
  },
  {
   "cell_type": "markdown",
   "id": "e2e4962b",
   "metadata": {
    "papermill": {
     "duration": 0.059974,
     "end_time": "2023-03-21T20:21:08.808281",
     "exception": false,
     "start_time": "2023-03-21T20:21:08.748307",
     "status": "completed"
    },
    "tags": []
   },
   "source": [
    "---\n",
    "---"
   ]
  },
  {
   "cell_type": "markdown",
   "id": "96c397a7",
   "metadata": {
    "papermill": {
     "duration": 0.059507,
     "end_time": "2023-03-21T20:21:08.929064",
     "exception": false,
     "start_time": "2023-03-21T20:21:08.869557",
     "status": "completed"
    },
    "tags": []
   },
   "source": [
    "### Conclusion & Findings\n",
    "\n",
    "#### The primary goal of this project is to analyze the Apple App Store dataset and identify insights based on the data. By doing so, we aim to project customer dynamics and demands to developers and relevant stakeholders, helping them generate more business for their upcoming applications.\n",
    "\n",
    "\n",
    "> During this EDA exercise, we have achieved several milestones:\n",
    "\n",
    "- We have cleaned the dataset from null values.\n",
    "- No duplications have been found. Although the app names have duplications, they are unique records with different versions, AppIds, and release dates.\n",
    "\n",
    "> Our findings include:\n",
    "\n",
    "- Gaming apps are the most downloaded apps from the store.\n",
    "- The top 10 highest rated primary genres based on average user ratings are Weather, Games, Photo & Videos, Music, and Books.\n",
    "  \n",
    "It is important to note that the information stored in the content rating attribute may not always be reliable. There is a possibility that an app rated for 9+ may contain unsuitable topics, such as e-books."
   ]
  },
  {
   "cell_type": "markdown",
   "id": "34f94a28",
   "metadata": {
    "papermill": {
     "duration": 0.060742,
     "end_time": "2023-03-21T20:21:09.049409",
     "exception": false,
     "start_time": "2023-03-21T20:21:08.988667",
     "status": "completed"
    },
    "tags": []
   },
   "source": [
    "# Contact Details\n",
    "Click on link below to contact/follow/correct me:\n",
    "\n",
    "[Github](https://github.com/AzamBukhari)\\\n",
    "[kaggle](https://www.kaggle.com/azambukhari)\\\n",
    "[Linkedin](https://www.linkedin.com/in/azambukhari)\\\n",
    "[twitter](https://twitter.com/AzamBukhari1)\\\n",
    "[Medium](https://medium.com/@azam.bukhari)\n",
    "<div style=\"page-break-after: always\"></div>"
   ]
  }
 ],
 "metadata": {
  "kernelspec": {
   "display_name": "Python 3",
   "language": "python",
   "name": "python3"
  },
  "language_info": {
   "codemirror_mode": {
    "name": "ipython",
    "version": 3
   },
   "file_extension": ".py",
   "mimetype": "text/x-python",
   "name": "python",
   "nbconvert_exporter": "python",
   "pygments_lexer": "ipython3",
   "version": "3.12.4"
  },
  "papermill": {
   "default_parameters": {},
   "duration": 331.653111,
   "end_time": "2023-03-21T20:21:11.039145",
   "environment_variables": {},
   "exception": null,
   "input_path": "__notebook__.ipynb",
   "output_path": "__notebook__.ipynb",
   "parameters": {},
   "start_time": "2023-03-21T20:15:39.386034",
   "version": "2.4.0"
  }
 },
 "nbformat": 4,
 "nbformat_minor": 5
}
